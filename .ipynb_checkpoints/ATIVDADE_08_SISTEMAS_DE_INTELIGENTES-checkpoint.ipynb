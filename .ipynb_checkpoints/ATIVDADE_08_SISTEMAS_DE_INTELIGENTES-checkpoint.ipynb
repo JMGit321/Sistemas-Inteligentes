{
 "cells": [
  {
   "cell_type": "code",
   "execution_count": 1,
   "metadata": {
    "id": "NdO9eDi-EukU"
   },
   "outputs": [
    {
     "name": "stderr",
     "output_type": "stream",
     "text": [
      "C:\\conda\\lib\\site-packages\\tensorflow\\python\\framework\\dtypes.py:516: FutureWarning: Passing (type, 1) or '1type' as a synonym of type is deprecated; in a future version of numpy, it will be understood as (type, (1,)) / '(1,)type'.\n",
      "  _np_qint8 = np.dtype([(\"qint8\", np.int8, 1)])\n",
      "C:\\conda\\lib\\site-packages\\tensorflow\\python\\framework\\dtypes.py:517: FutureWarning: Passing (type, 1) or '1type' as a synonym of type is deprecated; in a future version of numpy, it will be understood as (type, (1,)) / '(1,)type'.\n",
      "  _np_quint8 = np.dtype([(\"quint8\", np.uint8, 1)])\n",
      "C:\\conda\\lib\\site-packages\\tensorflow\\python\\framework\\dtypes.py:518: FutureWarning: Passing (type, 1) or '1type' as a synonym of type is deprecated; in a future version of numpy, it will be understood as (type, (1,)) / '(1,)type'.\n",
      "  _np_qint16 = np.dtype([(\"qint16\", np.int16, 1)])\n",
      "C:\\conda\\lib\\site-packages\\tensorflow\\python\\framework\\dtypes.py:519: FutureWarning: Passing (type, 1) or '1type' as a synonym of type is deprecated; in a future version of numpy, it will be understood as (type, (1,)) / '(1,)type'.\n",
      "  _np_quint16 = np.dtype([(\"quint16\", np.uint16, 1)])\n",
      "C:\\conda\\lib\\site-packages\\tensorflow\\python\\framework\\dtypes.py:520: FutureWarning: Passing (type, 1) or '1type' as a synonym of type is deprecated; in a future version of numpy, it will be understood as (type, (1,)) / '(1,)type'.\n",
      "  _np_qint32 = np.dtype([(\"qint32\", np.int32, 1)])\n",
      "C:\\conda\\lib\\site-packages\\tensorflow\\python\\framework\\dtypes.py:525: FutureWarning: Passing (type, 1) or '1type' as a synonym of type is deprecated; in a future version of numpy, it will be understood as (type, (1,)) / '(1,)type'.\n",
      "  np_resource = np.dtype([(\"resource\", np.ubyte, 1)])\n",
      "C:\\conda\\lib\\site-packages\\tensorboard\\compat\\tensorflow_stub\\dtypes.py:541: FutureWarning: Passing (type, 1) or '1type' as a synonym of type is deprecated; in a future version of numpy, it will be understood as (type, (1,)) / '(1,)type'.\n",
      "  _np_qint8 = np.dtype([(\"qint8\", np.int8, 1)])\n",
      "C:\\conda\\lib\\site-packages\\tensorboard\\compat\\tensorflow_stub\\dtypes.py:542: FutureWarning: Passing (type, 1) or '1type' as a synonym of type is deprecated; in a future version of numpy, it will be understood as (type, (1,)) / '(1,)type'.\n",
      "  _np_quint8 = np.dtype([(\"quint8\", np.uint8, 1)])\n",
      "C:\\conda\\lib\\site-packages\\tensorboard\\compat\\tensorflow_stub\\dtypes.py:543: FutureWarning: Passing (type, 1) or '1type' as a synonym of type is deprecated; in a future version of numpy, it will be understood as (type, (1,)) / '(1,)type'.\n",
      "  _np_qint16 = np.dtype([(\"qint16\", np.int16, 1)])\n",
      "C:\\conda\\lib\\site-packages\\tensorboard\\compat\\tensorflow_stub\\dtypes.py:544: FutureWarning: Passing (type, 1) or '1type' as a synonym of type is deprecated; in a future version of numpy, it will be understood as (type, (1,)) / '(1,)type'.\n",
      "  _np_quint16 = np.dtype([(\"quint16\", np.uint16, 1)])\n",
      "C:\\conda\\lib\\site-packages\\tensorboard\\compat\\tensorflow_stub\\dtypes.py:545: FutureWarning: Passing (type, 1) or '1type' as a synonym of type is deprecated; in a future version of numpy, it will be understood as (type, (1,)) / '(1,)type'.\n",
      "  _np_qint32 = np.dtype([(\"qint32\", np.int32, 1)])\n",
      "C:\\conda\\lib\\site-packages\\tensorboard\\compat\\tensorflow_stub\\dtypes.py:550: FutureWarning: Passing (type, 1) or '1type' as a synonym of type is deprecated; in a future version of numpy, it will be understood as (type, (1,)) / '(1,)type'.\n",
      "  np_resource = np.dtype([(\"resource\", np.ubyte, 1)])\n",
      "Using TensorFlow backend.\n"
     ]
    }
   ],
   "source": [
    "from tensorflow import keras\n",
    "from keras.models import Sequential\n",
    "from keras.layers import Convolution2D\n",
    "from keras.layers import MaxPooling2D\n",
    "from keras.layers import Flatten\n",
    "from keras.layers import Dense\n",
    "from keras.layers import Dropout,BatchNormalization\n",
    "from keras.preprocessing.image import load_img\n",
    "from keras.preprocessing.image import img_to_array\n",
    "from keras import utils\n",
    "import numpy as np\n",
    "from os import listdir\n",
    "from numpy import asarray\n",
    "from numpy import save\n",
    "from tensorflow.keras.preprocessing.image import ImageDataGenerator,DirectoryIterator\n",
    "import matplotlib.pyplot as plt\n",
    "import matplotlib as mpl \n",
    "from sklearn.model_selection import train_test_split\n",
    "from random import sample\n",
    "import os\n",
    "from keras.optimizers import Adam"
   ]
  },
  {
   "cell_type": "code",
   "execution_count": 2,
   "metadata": {
    "id": "Bu9Qb_CTEukW"
   },
   "outputs": [],
   "source": [
    "folder = '/Users/JOSE MARIA/Downloads/6° periodo/Sistemas inteligentes/zoologico'"
   ]
  },
  {
   "cell_type": "code",
   "execution_count": 3,
   "metadata": {
    "id": "N7DiGoYMEukX"
   },
   "outputs": [],
   "source": [
    "dogs, cats, pandas = [],[],[]"
   ]
  },
  {
   "cell_type": "code",
   "execution_count": 4,
   "metadata": {
    "id": "0B09dOxUEukY"
   },
   "outputs": [],
   "source": [
    "for file in listdir(folder):\n",
    "    \n",
    "    if file.startswith('dogs'):\n",
    "        dog = load_img(folder+'/' + file, target_size=(64, 64))\n",
    "        dog = img_to_array(dog)\n",
    "        dogs.append(dog)\n",
    "    elif file.startswith('panda'):\n",
    "        panda = load_img(folder+'/' + file, target_size=(64, 64))\n",
    "        panda = img_to_array(panda)\n",
    "        pandas.append(panda)\n",
    "    elif file.startswith('cats'):\n",
    "        cat = load_img(folder+'/'+ file, target_size=(64, 64))\n",
    "        cat = img_to_array(cat)\n",
    "        cats.append(cat) \n",
    "    \n",
    "dogs = asarray(dogs)\n",
    "pandas = asarray(pandas)\n",
    "cats = asarray(cats)\n",
    "y = []\n",
    "for x in range(3):\n",
    "  for i in range(1000):\n",
    "    if(x==0):\n",
    "      y.append(0)\n",
    "    if(x==1):\n",
    "       y.append(1)\n",
    "    if(x==2):\n",
    "      y.append(2)\n",
    "y = np.array(y)"
   ]
  },
  {
   "cell_type": "code",
   "execution_count": 5,
   "metadata": {
    "colab": {
     "base_uri": "https://localhost:8080/"
    },
    "id": "BQt8Rc7rEukZ",
    "outputId": "451c71a3-10a7-49cf-e183-ea0b883edf3d"
   },
   "outputs": [
    {
     "name": "stdout",
     "output_type": "stream",
     "text": [
      "(3000,)\n",
      "(1000, 64, 64, 3)\n"
     ]
    }
   ],
   "source": [
    "print(y.shape)\n",
    "print(cats.shape)"
   ]
  },
  {
   "cell_type": "code",
   "execution_count": 6,
   "metadata": {
    "colab": {
     "base_uri": "https://localhost:8080/"
    },
    "id": "mKjM-EzTEukZ",
    "outputId": "901f377e-9dc8-4c0a-a7a8-d45f4a8dfc9a"
   },
   "outputs": [
    {
     "name": "stdout",
     "output_type": "stream",
     "text": [
      "(1000, 64, 64, 3)\n"
     ]
    }
   ],
   "source": [
    "print(dogs.shape)"
   ]
  },
  {
   "cell_type": "code",
   "execution_count": 7,
   "metadata": {
    "colab": {
     "base_uri": "https://localhost:8080/"
    },
    "id": "S9L6O7PhEuka",
    "outputId": "52dd6e09-3ef4-4af6-dd05-7e7a814297af"
   },
   "outputs": [
    {
     "name": "stdout",
     "output_type": "stream",
     "text": [
      "(1000, 64, 64, 3)\n"
     ]
    }
   ],
   "source": [
    "print(pandas.shape)"
   ]
  },
  {
   "cell_type": "code",
   "execution_count": 8,
   "metadata": {
    "colab": {
     "base_uri": "https://localhost:8080/",
     "height": 248
    },
    "id": "1ERl1ZFhEukb",
    "outputId": "35f7891b-9688-4828-c522-ef69a17a0fcb"
   },
   "outputs": [
    {
     "data": {
      "image/png": "[encoded data removed]",
      "text/plain": [
       "<Figure size 432x288 with 1 Axes>"
      ]
     },
     "metadata": {
      "needs_background": "light"
     },
     "output_type": "display_data"
    }
   ],
   "source": [
    "teste = cats[5]\n",
    "plt.imshow(teste.astype('uint8'),cmap=mpl.cm.binary,interpolation='nearest')\n",
    "plt.axis('off')\n",
    "plt.show()"
   ]
  },
  {
   "cell_type": "code",
   "execution_count": 9,
   "metadata": {
    "colab": {
     "base_uri": "https://localhost:8080/"
    },
    "id": "WN2kWFoQPZ8N",
    "outputId": "d7ada3c4-ed97-4463-86c0-230fba376edd"
   },
   "outputs": [
    {
     "data": {
      "text/plain": [
       "(3000, 64, 64, 3)"
      ]
     },
     "execution_count": 9,
     "metadata": {},
     "output_type": "execute_result"
    }
   ],
   "source": [
    "all = np.concatenate((cats,dogs,pandas))\n",
    "all.shape"
   ]
  },
  {
   "cell_type": "code",
   "execution_count": 10,
   "metadata": {
    "id": "QoDmAabW85IH"
   },
   "outputs": [],
   "source": [
    "x_train,x_test,y_train,y_test = train_test_split(all,y,test_size=0.2,shuffle=True,random_state=42)"
   ]
  },
  {
   "cell_type": "code",
   "execution_count": 11,
   "metadata": {
    "id": "VI8hC1xzoy5Q"
   },
   "outputs": [],
   "source": [
    "x_train = x_train / 255.\n",
    "x_test = x_test / 255.\n",
    "x_train = x_train.reshape(x_train.shape[0], x_train.shape[1], x_train.shape[2], 3)\n",
    "x_test = x_test.reshape(x_test.shape[0], x_test.shape[1], x_test.shape[2], 3)\n",
    "\n",
    "y_train = utils.np_utils.to_categorical(y_train) \n",
    "y_test = utils.np_utils.to_categorical(y_test) \n"
   ]
  },
  {
   "cell_type": "code",
   "execution_count": 12,
   "metadata": {
    "colab": {
     "base_uri": "https://localhost:8080/"
    },
    "id": "Yq3yKxs3sZhl",
    "outputId": "6dc00f38-1971-4a9d-f537-d7cd2f808505"
   },
   "outputs": [
    {
     "name": "stdout",
     "output_type": "stream",
     "text": [
      "(2400, 64, 64, 3)\n",
      "(2400, 3)\n",
      "(600, 64, 64, 3)\n",
      "(600, 3)\n"
     ]
    }
   ],
   "source": [
    "print(x_train.shape)\n",
    "print(y_train.shape)\n",
    "print(x_test.shape)\n",
    "print(y_test.shape)\n"
   ]
  },
  {
   "cell_type": "code",
   "execution_count": 13,
   "metadata": {
    "colab": {
     "base_uri": "https://localhost:8080/"
    },
    "id": "zHEH58FVzaVS",
    "outputId": "fe296fd0-4f57-43f0-ab93-d68fe34ab3d9"
   },
   "outputs": [
    {
     "name": "stdout",
     "output_type": "stream",
     "text": [
      "WARNING:tensorflow:From C:\\conda\\lib\\site-packages\\keras\\backend\\tensorflow_backend.py:4070: The name tf.nn.max_pool is deprecated. Please use tf.nn.max_pool2d instead.\n",
      "\n",
      "Model: \"sequential_1\"\n",
      "_________________________________________________________________\n",
      "Layer (type)                 Output Shape              Param #   \n",
      "=================================================================\n",
      "convo_1 (Conv2D)             (None, 64, 64, 32)        896       \n",
      "_________________________________________________________________\n",
      "pool_1 (MaxPooling2D)        (None, 32, 32, 32)        0         \n",
      "_________________________________________________________________\n",
      "conv_2 (Conv2D)              (None, 32, 32, 64)        18496     \n",
      "_________________________________________________________________\n",
      "dropout_1 (Dropout)          (None, 32, 32, 64)        0         \n",
      "_________________________________________________________________\n",
      "pool_2 (MaxPooling2D)        (None, 16, 16, 64)        0         \n",
      "_________________________________________________________________\n",
      "flatten_1 (Flatten)          (None, 16384)             0         \n",
      "_________________________________________________________________\n",
      "dropout_2 (Dropout)          (None, 16384)             0         \n",
      "_________________________________________________________________\n",
      "dense_1 (Dense)              (None, 128)               2097280   \n",
      "_________________________________________________________________\n",
      "classification (Dense)       (None, 3)                 387       \n",
      "=================================================================\n",
      "Total params: 2,117,059\n",
      "Trainable params: 2,117,059\n",
      "Non-trainable params: 0\n",
      "_________________________________________________________________\n",
      "None\n"
     ]
    }
   ],
   "source": [
    "\"\"\"model = Sequential()\n",
    "\n",
    "model.add(Convolution2D(64, activation='relu',kernel_size=(3,3), input_shape=(64, 64, 3),name='conv_1'))\n",
    "model.add(MaxPooling2D(pool_size=(2, 2),strides=(2,2),name='pool_1'))\n",
    "model.add(Convolution2D(64,  kernel_size=(3,3), activation='relu',name='conv_2'))\n",
    "model.add(MaxPooling2D(pool_size=(2, 2), strides=(2,2),name='pool_2'))\n",
    "model.add(Convolution2D(64,  kernel_size=(3,3), activation='relu',name='conv_3'))\n",
    "model.add(MaxPooling2D(pool_size=(2, 2), strides=(2,2),name='pool_3'))\n",
    "model.add(Convolution2D(64,  kernel_size=(3,3), activation='relu',name='conv_4'))\n",
    "model.add(MaxPooling2D(pool_size=(2, 2), strides=(2,2),name='pool_4'))\n",
    "\n",
    "\n",
    "model.add(Dropout(0.25))\n",
    "model.add(Flatten())\n",
    "model.add(Dense(128, activation='relu',name='dense_1'))\n",
    "model.add(Dropout(0.5))\n",
    "model.add(Dense(3, activation='softmax',name='classification'))\"\"\"\n",
    "# Inicializando a CNN\n",
    "model = Sequential()\n",
    "\n",
    "#Camada de convolução\n",
    "model.add(Convolution2D(32, kernel_size=(3,3), input_shape = (64, 64,3), activation = 'relu', padding='same', name = 'convo_1'))\n",
    "\n",
    "#Camada de pooling\n",
    "model.add(MaxPooling2D(pool_size=(2,2), strides=(2, 2), padding='same', name = 'pool_1'))\n",
    "\n",
    "#Segunda camada convolucional\n",
    "model.add(Convolution2D(64, kernel_size=(3,3), activation = 'relu', padding='same', name = 'conv_2'))\n",
    "\n",
    "#Dropout\n",
    "model.add(Dropout(0.25))\n",
    "\n",
    "#Segunda camada de pooling\n",
    "model.add(MaxPooling2D(pool_size=(2, 2), strides=(2, 2), padding='same', name = 'pool_2'))\n",
    "\n",
    "\n",
    "#Vetorizando os mapas de características do último pooling (camada de entrada)\n",
    "model.add(Flatten())\n",
    "\n",
    "#Dropout\n",
    "model.add(Dropout(0.5))\n",
    "\n",
    "#Camada totalmente conectada ou oculta\n",
    "model.add(Dense(activation='relu', units=128, name = 'dense_1'))\n",
    "\n",
    "\n",
    "#Camada de saída\n",
    "model.add(Dense(activation='softmax', units=3,  name = 'classification'))\n",
    "\n",
    "model.compile(loss='categorical_crossentropy', optimizer='adam', metrics=['accuracy'])\n",
    "checkpoint = keras.callbacks.ModelCheckpoint('best_model.h5',monitor='val_loss',verbose=1,save_best_only=True,mode='auto',save_freq='epoch')\n",
    "earlyStop = keras.callbacks.EarlyStopping(patience=15)\n",
    "print(model.summary())"
   ]
  },
  {
   "cell_type": "code",
   "execution_count": null,
   "metadata": {
    "colab": {
     "base_uri": "https://localhost:8080/"
    },
    "id": "TwnWuwVs0gb9",
    "outputId": "8e02371c-c93e-4686-c31b-8f1e51929174"
   },
   "outputs": [
    {
     "name": "stdout",
     "output_type": "stream",
     "text": [
      "WARNING:tensorflow:From C:\\conda\\lib\\site-packages\\keras\\backend\\tensorflow_backend.py:422: The name tf.global_variables is deprecated. Please use tf.compat.v1.global_variables instead.\n",
      "\n",
      "Train on 1920 samples, validate on 480 samples\n",
      "Epoch 1/60\n",
      "1920/1920 [==============================] - 15s 8ms/step - loss: 1.0570 - accuracy: 0.4781 - val_loss: 0.8550 - val_accuracy: 0.5854\n",
      "\n",
      "Epoch 00001: val_loss improved from inf to 0.85504, saving model to best_model.h5\n",
      "Epoch 2/60\n",
      "1550/1920 [=======================>......] - ETA: 2s - loss: 0.7800 - accuracy: 0.6058"
     ]
    }
   ],
   "source": [
    "model.fit(x_train, y_train, batch_size=50,validation_split=0.2, epochs=60, verbose=1,callbacks=[checkpoint,earlyStop])"
   ]
  },
  {
   "cell_type": "code",
   "execution_count": null,
   "metadata": {
    "id": "QLz14jbV8Btl"
   },
   "outputs": [],
   "source": [
    "model = keras.models.load_model('best_model.h5')"
   ]
  },
  {
   "cell_type": "code",
   "execution_count": null,
   "metadata": {
    "colab": {
     "base_uri": "https://localhost:8080/"
    },
    "id": "J60GE2ko8FwP",
    "outputId": "81cc2989-8162-4db7-b311-aad7f33c6956"
   },
   "outputs": [
    {
     "name": "stdout",
     "output_type": "stream",
     "text": [
      "Test loss: 0.6499363780021667\n",
      "Test accuracy: 0.7066666483879089\n"
     ]
    }
   ],
   "source": [
    "score = model.evaluate(x_test, y_test, verbose=0)\n",
    "print(\"Test loss:\", score[0])\n",
    "print(\"Test accuracy:\", score[1])"
   ]
  },
  {
   "cell_type": "code",
   "execution_count": null,
   "metadata": {
    "id": "e63rIZzu8H1F"
   },
   "outputs": [],
   "source": [
    "\"\"\"model = Sequential()\n",
    "\n",
    "#Camada de convolução\n",
    "model.add(Convolution2D(64, kernel_size=(3,3), input_shape = (64, 64,3), activation = 'relu', padding='same', name = 'convo_1'))\n",
    "\n",
    "#Camada de pooling\n",
    "model.add(MaxPooling2D(pool_size=(2,2), strides=(2, 2), padding='same', name = 'pool_1'))\n",
    "\n",
    "#Segunda camada convolucional\n",
    "model.add(Convolution2D(128, kernel_size=(3,3), activation = 'relu', padding='same', name = 'conv_2'))\n",
    "\n",
    "#Dropout\n",
    "model.add(Dropout(0.25))\n",
    "\n",
    "\n",
    "#Camada de convolução\n",
    "model.add(Convolution2D(64, kernel_size=(3,3), input_shape = (64, 64,3), activation = 'relu', padding='same', name = 'convo_3'))\n",
    "\n",
    "#Camada de pooling\n",
    "model.add(MaxPooling2D(pool_size=(2,2), strides=(2, 2), padding='same', name = 'pool_2'))\n",
    "\n",
    "#Segunda camada convolucional\n",
    "model.add(Convolution2D(128, kernel_size=(3,3), activation = 'relu', padding='same', name = 'conv_4'))\n",
    "\n",
    "#Dropout\n",
    "model.add(Dropout(0.25))\n",
    "\n",
    "\n",
    "#Segunda camada de pooling\n",
    "model.add(MaxPooling2D(pool_size=(2, 2), strides=(2, 2), padding='same', name = 'pool_3'))\n",
    "\n",
    "\n",
    "#Vetorizando os mapas de características do último pooling (camada de entrada)\n",
    "model.add(Flatten())\n",
    "\n",
    "#Dropout\n",
    "model.add(Dropout(0.5))\n",
    "\n",
    "#Camada totalmente conectada ou oculta\n",
    "model.add(Dense(activation='relu', units=128, name = 'dense_1'))\n",
    "model.add(Dropout(0.5))\n",
    "\n",
    "model.add(Dense(activation='relu', units=64, name = 'dense_2'))\n",
    "model.add(Dropout(0.5))\n",
    "\n",
    "model.add(Dense(activation='relu', units=32, name = 'dense_3'))\n",
    "\n",
    "\n",
    "\n",
    "#Camada de saída\n",
    "model.add(Dense(activation='softmax', units=3,  name = 'classification'))\n",
    "\n",
    "model.compile(loss='categorical_crossentropy', optimizer='adam', metrics=['accuracy'])\"\"\"\n",
    "\n",
    "\n",
    "\n",
    "model = Sequential()\n",
    "model.add(Convolution2D(32, (3, 3), activation='relu', kernel_initializer='he_uniform', padding='same', input_shape=(64, 64, 3)))\n",
    "model.add(BatchNormalization())\n",
    "model.add(Convolution2D(32, (3, 3), activation='relu', kernel_initializer='he_uniform', padding='same'))\n",
    "model.add(BatchNormalization())\n",
    "model.add(MaxPooling2D((2, 2)))\n",
    "model.add(Dropout(0.2))\n",
    "model.add(Convolution2D(64, (3, 3), activation='relu', kernel_initializer='he_uniform', padding='same'))\n",
    "model.add(BatchNormalization())\n",
    "model.add(Convolution2D(64, (3, 3), activation='relu', kernel_initializer='he_uniform', padding='same'))\n",
    "model.add(BatchNormalization())\n",
    "model.add(MaxPooling2D((2, 2)))\n",
    "model.add(Dropout(0.3))\n",
    "model.add(Convolution2D(128, (3, 3), activation='relu', kernel_initializer='he_uniform', padding='same'))\n",
    "model.add(BatchNormalization())\n",
    "model.add(Convolution2D(128, (3, 3), activation='relu', kernel_initializer='he_uniform', padding='same'))\n",
    "model.add(BatchNormalization())\n",
    "model.add(MaxPooling2D((2, 2)))\n",
    "model.add(Dropout(0.4))\n",
    "model.add(Flatten())\n",
    "model.add(Dense(128, activation='relu', kernel_initializer='he_uniform'))\n",
    "model.add(BatchNormalization())\n",
    "model.add(Dropout(0.5))\n",
    "model.add(Dense(3, activation='softmax'))\n",
    "\n",
    "\n",
    "model.compile(optimizer='adam', loss='categorical_crossentropy', metrics=['accuracy'])\n",
    "\n",
    "\n",
    "\n",
    "checkpoint = keras.callbacks.ModelCheckpoint('best_model2.h5',monitor='val_loss',verbose=1,save_best_only=True,mode='auto',save_freq='epoch')\n",
    "earlyStop = keras.callbacks.EarlyStopping(patience=15)"
   ]
  },
  {
   "cell_type": "code",
   "execution_count": null,
   "metadata": {
    "colab": {
     "base_uri": "https://localhost:8080/"
    },
    "id": "kkyV-JE08Kws",
    "outputId": "8e00d686-27f6-4532-df8d-b9eb8c05ba83"
   },
   "outputs": [
    {
     "name": "stdout",
     "output_type": "stream",
     "text": [
      "Epoch 1/4000\n",
      "135/135 [==============================] - 61s 433ms/step - loss: 1.1951 - accuracy: 0.5611 - val_loss: 1.6779 - val_accuracy: 0.3042\n",
      "\n",
      "Epoch 00001: val_loss improved from inf to 1.67788, saving model to best_model2.h5\n",
      "Epoch 2/4000\n",
      "135/135 [==============================] - 58s 426ms/step - loss: 0.7944 - accuracy: 0.6312 - val_loss: 1.3171 - val_accuracy: 0.4083\n",
      "\n",
      "Epoch 00002: val_loss improved from 1.67788 to 1.31709, saving model to best_model2.h5\n",
      "Epoch 3/4000\n",
      "135/135 [==============================] - 57s 426ms/step - loss: 0.7366 - accuracy: 0.6771 - val_loss: 1.2460 - val_accuracy: 0.5167\n",
      "\n",
      "Epoch 00003: val_loss improved from 1.31709 to 1.24601, saving model to best_model2.h5\n",
      "Epoch 4/4000\n",
      "135/135 [==============================] - 57s 425ms/step - loss: 0.6510 - accuracy: 0.6815 - val_loss: 0.7258 - val_accuracy: 0.6833\n",
      "\n",
      "Epoch 00004: val_loss improved from 1.24601 to 0.72580, saving model to best_model2.h5\n",
      "Epoch 5/4000\n",
      "135/135 [==============================] - 58s 426ms/step - loss: 0.6096 - accuracy: 0.7192 - val_loss: 0.6074 - val_accuracy: 0.6917\n",
      "\n",
      "Epoch 00005: val_loss improved from 0.72580 to 0.60742, saving model to best_model2.h5\n",
      "Epoch 6/4000\n",
      "135/135 [==============================] - 58s 427ms/step - loss: 0.5707 - accuracy: 0.7486 - val_loss: 0.5862 - val_accuracy: 0.7083\n",
      "\n",
      "Epoch 00006: val_loss improved from 0.60742 to 0.58618, saving model to best_model2.h5\n",
      "Epoch 7/4000\n",
      "135/135 [==============================] - 58s 429ms/step - loss: 0.5107 - accuracy: 0.7699 - val_loss: 0.5830 - val_accuracy: 0.7417\n",
      "\n",
      "Epoch 00007: val_loss improved from 0.58618 to 0.58304, saving model to best_model2.h5\n",
      "Epoch 8/4000\n",
      "135/135 [==============================] - 58s 427ms/step - loss: 0.4730 - accuracy: 0.7868 - val_loss: 0.5891 - val_accuracy: 0.7500\n",
      "\n",
      "Epoch 00008: val_loss did not improve from 0.58304\n",
      "Epoch 9/4000\n",
      "135/135 [==============================] - 58s 430ms/step - loss: 0.4806 - accuracy: 0.7902 - val_loss: 0.6280 - val_accuracy: 0.7208\n",
      "\n",
      "Epoch 00009: val_loss did not improve from 0.58304\n",
      "Epoch 10/4000\n",
      "135/135 [==============================] - 58s 430ms/step - loss: 0.4616 - accuracy: 0.7953 - val_loss: 0.8810 - val_accuracy: 0.6958\n",
      "\n",
      "Epoch 00010: val_loss did not improve from 0.58304\n",
      "Epoch 11/4000\n",
      "135/135 [==============================] - 58s 427ms/step - loss: 0.4838 - accuracy: 0.7920 - val_loss: 0.6423 - val_accuracy: 0.7417\n",
      "\n",
      "Epoch 00011: val_loss did not improve from 0.58304\n",
      "Epoch 12/4000\n",
      "135/135 [==============================] - 58s 427ms/step - loss: 0.4035 - accuracy: 0.8318 - val_loss: 0.5872 - val_accuracy: 0.7458\n",
      "\n",
      "Epoch 00012: val_loss did not improve from 0.58304\n",
      "Epoch 13/4000\n",
      "135/135 [==============================] - 58s 428ms/step - loss: 0.3530 - accuracy: 0.8591 - val_loss: 0.6777 - val_accuracy: 0.7375\n",
      "\n",
      "Epoch 00013: val_loss did not improve from 0.58304\n",
      "Epoch 14/4000\n",
      "135/135 [==============================] - 58s 427ms/step - loss: 0.3476 - accuracy: 0.8593 - val_loss: 0.6445 - val_accuracy: 0.7167\n",
      "\n",
      "Epoch 00014: val_loss did not improve from 0.58304\n",
      "Epoch 15/4000\n",
      "135/135 [==============================] - 58s 428ms/step - loss: 0.3031 - accuracy: 0.8796 - val_loss: 0.6557 - val_accuracy: 0.7417\n",
      "\n",
      "Epoch 00015: val_loss did not improve from 0.58304\n",
      "Epoch 16/4000\n",
      "135/135 [==============================] - 58s 427ms/step - loss: 0.3166 - accuracy: 0.8754 - val_loss: 0.7622 - val_accuracy: 0.7333\n",
      "\n",
      "Epoch 00016: val_loss did not improve from 0.58304\n",
      "Epoch 17/4000\n",
      "135/135 [==============================] - 57s 426ms/step - loss: 0.2531 - accuracy: 0.9087 - val_loss: 0.9421 - val_accuracy: 0.7208\n",
      "\n",
      "Epoch 00017: val_loss did not improve from 0.58304\n",
      "Epoch 18/4000\n",
      "135/135 [==============================] - 57s 425ms/step - loss: 0.3445 - accuracy: 0.8621 - val_loss: 0.6665 - val_accuracy: 0.7292\n",
      "\n",
      "Epoch 00018: val_loss did not improve from 0.58304\n",
      "Epoch 19/4000\n",
      "135/135 [==============================] - 57s 425ms/step - loss: 0.1996 - accuracy: 0.9252 - val_loss: 0.7754 - val_accuracy: 0.7333\n",
      "\n",
      "Epoch 00019: val_loss did not improve from 0.58304\n",
      "Epoch 20/4000\n",
      "135/135 [==============================] - 58s 427ms/step - loss: 0.2394 - accuracy: 0.9121 - val_loss: 0.7735 - val_accuracy: 0.7125\n",
      "\n",
      "Epoch 00020: val_loss did not improve from 0.58304\n",
      "Epoch 21/4000\n",
      "135/135 [==============================] - 58s 427ms/step - loss: 0.2267 - accuracy: 0.9073 - val_loss: 0.8379 - val_accuracy: 0.7208\n",
      "\n",
      "Epoch 00021: val_loss did not improve from 0.58304\n",
      "Epoch 22/4000\n",
      "135/135 [==============================] - 58s 426ms/step - loss: 0.2215 - accuracy: 0.9151 - val_loss: 0.9952 - val_accuracy: 0.6917\n",
      "\n",
      "Epoch 00022: val_loss did not improve from 0.58304\n"
     ]
    },
    {
     "data": {
      "text/plain": [
       "<keras.callbacks.History at 0x7f58251506d0>"
      ]
     },
     "execution_count": 64,
     "metadata": {
      "tags": []
     },
     "output_type": "execute_result"
    }
   ],
   "source": [
    "model.fit(x_train, y_train, batch_size=16,validation_split=0.1, epochs=4000, verbose=1,callbacks=[checkpoint,earlyStop])"
   ]
  },
  {
   "cell_type": "code",
   "execution_count": null,
   "metadata": {
    "id": "Z4v7K6WQ8gCK"
   },
   "outputs": [],
   "source": [
    "model = keras.models.load_model('best_model2.h5')"
   ]
  },
  {
   "cell_type": "code",
   "execution_count": null,
   "metadata": {
    "colab": {
     "base_uri": "https://localhost:8080/"
    },
    "id": "BDjYc4a8j5jP",
    "outputId": "01062ede-4030-47dd-c61b-e21f60f0de03"
   },
   "outputs": [
    {
     "name": "stdout",
     "output_type": "stream",
     "text": [
      "Test loss: 0.5453080534934998\n",
      "Test accuracy: 0.7583333253860474\n"
     ]
    }
   ],
   "source": [
    "score = model.evaluate(x_test, y_test, verbose=0)\n",
    "print(\"Test loss:\", score[0])\n",
    "print(\"Test accuracy:\", score[1])"
   ]
  },
  {
   "cell_type": "code",
   "execution_count": null,
   "metadata": {
    "colab": {
     "base_uri": "https://localhost:8080/"
    },
    "id": "Ly9UiMBluA4y",
    "outputId": "69847f06-7774-4b18-f23c-9d48cea9201b"
   },
   "outputs": [
    {
     "name": "stdout",
     "output_type": "stream",
     "text": [
      "Model: \"sequential_2\"\n",
      "_________________________________________________________________\n",
      "Layer (type)                 Output Shape              Param #   \n",
      "=================================================================\n",
      "conv2d_6 (Conv2D)            (None, 64, 64, 32)        896       \n",
      "_________________________________________________________________\n",
      "batch_normalization_6 (Batch (None, 64, 64, 32)        128       \n",
      "_________________________________________________________________\n",
      "conv2d_7 (Conv2D)            (None, 64, 64, 32)        9248      \n",
      "_________________________________________________________________\n",
      "batch_normalization_7 (Batch (None, 64, 64, 32)        128       \n",
      "_________________________________________________________________\n",
      "max_pooling2d_3 (MaxPooling2 (None, 32, 32, 32)        0         \n",
      "_________________________________________________________________\n",
      "dropout_6 (Dropout)          (None, 32, 32, 32)        0         \n",
      "_________________________________________________________________\n",
      "conv2d_8 (Conv2D)            (None, 32, 32, 64)        18496     \n",
      "_________________________________________________________________\n",
      "batch_normalization_8 (Batch (None, 32, 32, 64)        256       \n",
      "_________________________________________________________________\n",
      "conv2d_9 (Conv2D)            (None, 32, 32, 64)        36928     \n",
      "_________________________________________________________________\n",
      "batch_normalization_9 (Batch (None, 32, 32, 64)        256       \n",
      "_________________________________________________________________\n",
      "max_pooling2d_4 (MaxPooling2 (None, 16, 16, 64)        0         \n",
      "_________________________________________________________________\n",
      "dropout_7 (Dropout)          (None, 16, 16, 64)        0         \n",
      "_________________________________________________________________\n",
      "conv2d_10 (Conv2D)           (None, 16, 16, 128)       73856     \n",
      "_________________________________________________________________\n",
      "batch_normalization_10 (Batc (None, 16, 16, 128)       512       \n",
      "_________________________________________________________________\n",
      "conv2d_11 (Conv2D)           (None, 16, 16, 128)       147584    \n",
      "_________________________________________________________________\n",
      "batch_normalization_11 (Batc (None, 16, 16, 128)       512       \n",
      "_________________________________________________________________\n",
      "max_pooling2d_5 (MaxPooling2 (None, 8, 8, 128)         0         \n",
      "_________________________________________________________________\n",
      "dropout_8 (Dropout)          (None, 8, 8, 128)         0         \n",
      "_________________________________________________________________\n",
      "flatten_2 (Flatten)          (None, 8192)              0         \n",
      "_________________________________________________________________\n",
      "dense_2 (Dense)              (None, 128)               1048704   \n",
      "_________________________________________________________________\n",
      "batch_normalization_12 (Batc (None, 128)               512       \n",
      "_________________________________________________________________\n",
      "dropout_9 (Dropout)          (None, 128)               0         \n",
      "_________________________________________________________________\n",
      "dense_3 (Dense)              (None, 3)                 387       \n",
      "=================================================================\n",
      "Total params: 1,338,403\n",
      "Trainable params: 1,337,251\n",
      "Non-trainable params: 1,152\n",
      "_________________________________________________________________\n"
     ]
    }
   ],
   "source": [
    "model.summary()"
   ]
  },
  {
   "cell_type": "code",
   "execution_count": null,
   "metadata": {
    "id": "rML4iRwdShtL"
   },
   "outputs": [],
   "source": []
  }
 ],
 "metadata": {
  "colab": {
   "name": "ATIVDADE 08 SISTEMAS DE INTELIGENTES.ipynb",
   "provenance": []
  },
  "kernelspec": {
   "display_name": "Python 3",
   "language": "python",
   "name": "python3"
  },
  "language_info": {
   "codemirror_mode": {
    "name": "ipython",
    "version": 3
   },
   "file_extension": ".py",
   "mimetype": "text/x-python",
   "name": "python",
   "nbconvert_exporter": "python",
   "pygments_lexer": "ipython3",
   "version": "3.7.6"
  }
 },
 "nbformat": 4,
 "nbformat_minor": 5
}
