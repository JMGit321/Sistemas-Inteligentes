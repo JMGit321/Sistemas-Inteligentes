{
 "cells": [
  {
   "cell_type": "code",
   "execution_count": 2,
   "metadata": {},
   "outputs": [],
   "source": [
    "import pandas as pd\n",
    "import numpy as np\n",
    "import os\n",
    "import matplotlib.pyplot as plt"
   ]
  },
  {
   "cell_type": "code",
   "execution_count": 3,
   "metadata": {},
   "outputs": [],
   "source": [
    "data_path ='/Users/JOSE MARIA/Downloads/6° periodo/Sistemas inteligentes'\n",
    "data_name ='caso.csv'"
   ]
  },
  {
   "cell_type": "code",
   "execution_count": 4,
   "metadata": {},
   "outputs": [],
   "source": [
    "def load_data(DataPath = data_path,DataName=data_name):\n",
    "    csv_path = os.path.join(DataPath,DataName)\n",
    "    return pd.read_csv(csv_path)\n",
    "data = load_data(data_path,data_name)\n"
   ]
  },
  {
   "cell_type": "code",
   "execution_count": 5,
   "metadata": {
    "scrolled": true
   },
   "outputs": [
    {
     "data": {
      "text/html": [
       "<div>\n",
       "<style scoped>\n",
       "    .dataframe tbody tr th:only-of-type {\n",
       "        vertical-align: middle;\n",
       "    }\n",
       "\n",
       "    .dataframe tbody tr th {\n",
       "        vertical-align: top;\n",
       "    }\n",
       "\n",
       "    .dataframe thead th {\n",
       "        text-align: right;\n",
       "    }\n",
       "</style>\n",
       "<table border=\"1\" class=\"dataframe\">\n",
       "  <thead>\n",
       "    <tr style=\"text-align: right;\">\n",
       "      <th></th>\n",
       "      <th>date</th>\n",
       "      <th>state</th>\n",
       "      <th>city</th>\n",
       "      <th>place_type</th>\n",
       "      <th>confirmed</th>\n",
       "      <th>deaths</th>\n",
       "      <th>order_for_place</th>\n",
       "      <th>is_last</th>\n",
       "      <th>estimated_population_2019</th>\n",
       "      <th>estimated_population</th>\n",
       "      <th>city_ibge_code</th>\n",
       "      <th>confirmed_per_100k_inhabitants</th>\n",
       "      <th>death_rate</th>\n",
       "    </tr>\n",
       "  </thead>\n",
       "  <tbody>\n",
       "    <tr>\n",
       "      <th>0</th>\n",
       "      <td>2021-03-31</td>\n",
       "      <td>AP</td>\n",
       "      <td>NaN</td>\n",
       "      <td>state</td>\n",
       "      <td>97542</td>\n",
       "      <td>1302</td>\n",
       "      <td>373</td>\n",
       "      <td>True</td>\n",
       "      <td>845731.0</td>\n",
       "      <td>861773.0</td>\n",
       "      <td>16.0</td>\n",
       "      <td>11318.75796</td>\n",
       "      <td>0.0133</td>\n",
       "    </tr>\n",
       "    <tr>\n",
       "      <th>1</th>\n",
       "      <td>2021-03-30</td>\n",
       "      <td>AP</td>\n",
       "      <td>NaN</td>\n",
       "      <td>state</td>\n",
       "      <td>96910</td>\n",
       "      <td>1292</td>\n",
       "      <td>372</td>\n",
       "      <td>False</td>\n",
       "      <td>845731.0</td>\n",
       "      <td>861773.0</td>\n",
       "      <td>16.0</td>\n",
       "      <td>11245.42078</td>\n",
       "      <td>0.0133</td>\n",
       "    </tr>\n",
       "    <tr>\n",
       "      <th>2</th>\n",
       "      <td>2021-03-29</td>\n",
       "      <td>AP</td>\n",
       "      <td>NaN</td>\n",
       "      <td>state</td>\n",
       "      <td>96199</td>\n",
       "      <td>1279</td>\n",
       "      <td>371</td>\n",
       "      <td>False</td>\n",
       "      <td>845731.0</td>\n",
       "      <td>861773.0</td>\n",
       "      <td>16.0</td>\n",
       "      <td>11162.91645</td>\n",
       "      <td>0.0133</td>\n",
       "    </tr>\n",
       "    <tr>\n",
       "      <th>3</th>\n",
       "      <td>2021-03-28</td>\n",
       "      <td>AP</td>\n",
       "      <td>NaN</td>\n",
       "      <td>state</td>\n",
       "      <td>95649</td>\n",
       "      <td>1268</td>\n",
       "      <td>370</td>\n",
       "      <td>False</td>\n",
       "      <td>845731.0</td>\n",
       "      <td>861773.0</td>\n",
       "      <td>16.0</td>\n",
       "      <td>11099.09454</td>\n",
       "      <td>0.0133</td>\n",
       "    </tr>\n",
       "    <tr>\n",
       "      <th>4</th>\n",
       "      <td>2021-03-27</td>\n",
       "      <td>AP</td>\n",
       "      <td>NaN</td>\n",
       "      <td>state</td>\n",
       "      <td>95400</td>\n",
       "      <td>1268</td>\n",
       "      <td>369</td>\n",
       "      <td>False</td>\n",
       "      <td>845731.0</td>\n",
       "      <td>861773.0</td>\n",
       "      <td>16.0</td>\n",
       "      <td>11070.20062</td>\n",
       "      <td>0.0133</td>\n",
       "    </tr>\n",
       "    <tr>\n",
       "      <th>...</th>\n",
       "      <td>...</td>\n",
       "      <td>...</td>\n",
       "      <td>...</td>\n",
       "      <td>...</td>\n",
       "      <td>...</td>\n",
       "      <td>...</td>\n",
       "      <td>...</td>\n",
       "      <td>...</td>\n",
       "      <td>...</td>\n",
       "      <td>...</td>\n",
       "      <td>...</td>\n",
       "      <td>...</td>\n",
       "      <td>...</td>\n",
       "    </tr>\n",
       "    <tr>\n",
       "      <th>1711669</th>\n",
       "      <td>2020-06-23</td>\n",
       "      <td>SP</td>\n",
       "      <td>Óleo</td>\n",
       "      <td>city</td>\n",
       "      <td>1</td>\n",
       "      <td>0</td>\n",
       "      <td>5</td>\n",
       "      <td>False</td>\n",
       "      <td>2496.0</td>\n",
       "      <td>2471.0</td>\n",
       "      <td>3533809.0</td>\n",
       "      <td>40.46945</td>\n",
       "      <td>0.0000</td>\n",
       "    </tr>\n",
       "    <tr>\n",
       "      <th>1711670</th>\n",
       "      <td>2020-06-22</td>\n",
       "      <td>SP</td>\n",
       "      <td>Óleo</td>\n",
       "      <td>city</td>\n",
       "      <td>1</td>\n",
       "      <td>0</td>\n",
       "      <td>4</td>\n",
       "      <td>False</td>\n",
       "      <td>2496.0</td>\n",
       "      <td>2471.0</td>\n",
       "      <td>3533809.0</td>\n",
       "      <td>40.46945</td>\n",
       "      <td>0.0000</td>\n",
       "    </tr>\n",
       "    <tr>\n",
       "      <th>1711671</th>\n",
       "      <td>2020-06-21</td>\n",
       "      <td>SP</td>\n",
       "      <td>Óleo</td>\n",
       "      <td>city</td>\n",
       "      <td>1</td>\n",
       "      <td>0</td>\n",
       "      <td>3</td>\n",
       "      <td>False</td>\n",
       "      <td>2496.0</td>\n",
       "      <td>2471.0</td>\n",
       "      <td>3533809.0</td>\n",
       "      <td>40.46945</td>\n",
       "      <td>0.0000</td>\n",
       "    </tr>\n",
       "    <tr>\n",
       "      <th>1711672</th>\n",
       "      <td>2020-06-20</td>\n",
       "      <td>SP</td>\n",
       "      <td>Óleo</td>\n",
       "      <td>city</td>\n",
       "      <td>1</td>\n",
       "      <td>0</td>\n",
       "      <td>2</td>\n",
       "      <td>False</td>\n",
       "      <td>2496.0</td>\n",
       "      <td>2471.0</td>\n",
       "      <td>3533809.0</td>\n",
       "      <td>40.46945</td>\n",
       "      <td>0.0000</td>\n",
       "    </tr>\n",
       "    <tr>\n",
       "      <th>1711673</th>\n",
       "      <td>2020-06-19</td>\n",
       "      <td>SP</td>\n",
       "      <td>Óleo</td>\n",
       "      <td>city</td>\n",
       "      <td>1</td>\n",
       "      <td>0</td>\n",
       "      <td>1</td>\n",
       "      <td>False</td>\n",
       "      <td>2496.0</td>\n",
       "      <td>2471.0</td>\n",
       "      <td>3533809.0</td>\n",
       "      <td>40.46945</td>\n",
       "      <td>0.0000</td>\n",
       "    </tr>\n",
       "  </tbody>\n",
       "</table>\n",
       "<p>1711674 rows × 13 columns</p>\n",
       "</div>"
      ],
      "text/plain": [
       "               date state  city place_type  confirmed  deaths  \\\n",
       "0        2021-03-31    AP   NaN      state      97542    1302   \n",
       "1        2021-03-30    AP   NaN      state      96910    1292   \n",
       "2        2021-03-29    AP   NaN      state      96199    1279   \n",
       "3        2021-03-28    AP   NaN      state      95649    1268   \n",
       "4        2021-03-27    AP   NaN      state      95400    1268   \n",
       "...             ...   ...   ...        ...        ...     ...   \n",
       "1711669  2020-06-23    SP  Óleo       city          1       0   \n",
       "1711670  2020-06-22    SP  Óleo       city          1       0   \n",
       "1711671  2020-06-21    SP  Óleo       city          1       0   \n",
       "1711672  2020-06-20    SP  Óleo       city          1       0   \n",
       "1711673  2020-06-19    SP  Óleo       city          1       0   \n",
       "\n",
       "         order_for_place  is_last  estimated_population_2019  \\\n",
       "0                    373     True                   845731.0   \n",
       "1                    372    False                   845731.0   \n",
       "2                    371    False                   845731.0   \n",
       "3                    370    False                   845731.0   \n",
       "4                    369    False                   845731.0   \n",
       "...                  ...      ...                        ...   \n",
       "1711669                5    False                     2496.0   \n",
       "1711670                4    False                     2496.0   \n",
       "1711671                3    False                     2496.0   \n",
       "1711672                2    False                     2496.0   \n",
       "1711673                1    False                     2496.0   \n",
       "\n",
       "         estimated_population  city_ibge_code  confirmed_per_100k_inhabitants  \\\n",
       "0                    861773.0            16.0                     11318.75796   \n",
       "1                    861773.0            16.0                     11245.42078   \n",
       "2                    861773.0            16.0                     11162.91645   \n",
       "3                    861773.0            16.0                     11099.09454   \n",
       "4                    861773.0            16.0                     11070.20062   \n",
       "...                       ...             ...                             ...   \n",
       "1711669                2471.0       3533809.0                        40.46945   \n",
       "1711670                2471.0       3533809.0                        40.46945   \n",
       "1711671                2471.0       3533809.0                        40.46945   \n",
       "1711672                2471.0       3533809.0                        40.46945   \n",
       "1711673                2471.0       3533809.0                        40.46945   \n",
       "\n",
       "         death_rate  \n",
       "0            0.0133  \n",
       "1            0.0133  \n",
       "2            0.0133  \n",
       "3            0.0133  \n",
       "4            0.0133  \n",
       "...             ...  \n",
       "1711669      0.0000  \n",
       "1711670      0.0000  \n",
       "1711671      0.0000  \n",
       "1711672      0.0000  \n",
       "1711673      0.0000  \n",
       "\n",
       "[1711674 rows x 13 columns]"
      ]
     },
     "execution_count": 5,
     "metadata": {},
     "output_type": "execute_result"
    }
   ],
   "source": [
    "data"
   ]
  },
  {
   "cell_type": "code",
   "execution_count": 6,
   "metadata": {},
   "outputs": [],
   "source": [
    "#1\n",
    "filtro = data.loc[(data['is_last']==True) & (data['state']=='PI') & (data['place_type'] == 'city')]"
   ]
  },
  {
   "cell_type": "code",
   "execution_count": 7,
   "metadata": {
    "scrolled": true
   },
   "outputs": [
    {
     "data": {
      "text/html": [
       "<div>\n",
       "<style scoped>\n",
       "    .dataframe tbody tr th:only-of-type {\n",
       "        vertical-align: middle;\n",
       "    }\n",
       "\n",
       "    .dataframe tbody tr th {\n",
       "        vertical-align: top;\n",
       "    }\n",
       "\n",
       "    .dataframe thead th {\n",
       "        text-align: right;\n",
       "    }\n",
       "</style>\n",
       "<table border=\"1\" class=\"dataframe\">\n",
       "  <thead>\n",
       "    <tr style=\"text-align: right;\">\n",
       "      <th></th>\n",
       "      <th>date</th>\n",
       "      <th>state</th>\n",
       "      <th>city</th>\n",
       "      <th>place_type</th>\n",
       "      <th>confirmed</th>\n",
       "      <th>deaths</th>\n",
       "      <th>order_for_place</th>\n",
       "      <th>is_last</th>\n",
       "      <th>estimated_population_2019</th>\n",
       "      <th>estimated_population</th>\n",
       "      <th>city_ibge_code</th>\n",
       "      <th>confirmed_per_100k_inhabitants</th>\n",
       "      <th>death_rate</th>\n",
       "    </tr>\n",
       "  </thead>\n",
       "  <tbody>\n",
       "    <tr>\n",
       "      <th>672734</th>\n",
       "      <td>2021-03-30</td>\n",
       "      <td>PI</td>\n",
       "      <td>Acauã</td>\n",
       "      <td>city</td>\n",
       "      <td>155</td>\n",
       "      <td>1</td>\n",
       "      <td>301</td>\n",
       "      <td>True</td>\n",
       "      <td>7084.0</td>\n",
       "      <td>7102.0</td>\n",
       "      <td>2200053.0</td>\n",
       "      <td>2182.48381</td>\n",
       "      <td>0.0065</td>\n",
       "    </tr>\n",
       "    <tr>\n",
       "      <th>673035</th>\n",
       "      <td>2021-03-30</td>\n",
       "      <td>PI</td>\n",
       "      <td>Agricolândia</td>\n",
       "      <td>city</td>\n",
       "      <td>118</td>\n",
       "      <td>2</td>\n",
       "      <td>293</td>\n",
       "      <td>True</td>\n",
       "      <td>5139.0</td>\n",
       "      <td>5131.0</td>\n",
       "      <td>2200103.0</td>\n",
       "      <td>2299.74664</td>\n",
       "      <td>0.0169</td>\n",
       "    </tr>\n",
       "    <tr>\n",
       "      <th>673328</th>\n",
       "      <td>2021-03-30</td>\n",
       "      <td>PI</td>\n",
       "      <td>Alagoinha do Piauí</td>\n",
       "      <td>city</td>\n",
       "      <td>240</td>\n",
       "      <td>9</td>\n",
       "      <td>307</td>\n",
       "      <td>True</td>\n",
       "      <td>7651.0</td>\n",
       "      <td>7665.0</td>\n",
       "      <td>2200251.0</td>\n",
       "      <td>3131.11546</td>\n",
       "      <td>0.0375</td>\n",
       "    </tr>\n",
       "    <tr>\n",
       "      <th>673635</th>\n",
       "      <td>2021-03-30</td>\n",
       "      <td>PI</td>\n",
       "      <td>Alegrete do Piauí</td>\n",
       "      <td>city</td>\n",
       "      <td>393</td>\n",
       "      <td>4</td>\n",
       "      <td>289</td>\n",
       "      <td>True</td>\n",
       "      <td>4915.0</td>\n",
       "      <td>4918.0</td>\n",
       "      <td>2200277.0</td>\n",
       "      <td>7991.05327</td>\n",
       "      <td>0.0102</td>\n",
       "    </tr>\n",
       "    <tr>\n",
       "      <th>673924</th>\n",
       "      <td>2021-03-30</td>\n",
       "      <td>PI</td>\n",
       "      <td>Alto Longá</td>\n",
       "      <td>city</td>\n",
       "      <td>472</td>\n",
       "      <td>11</td>\n",
       "      <td>323</td>\n",
       "      <td>True</td>\n",
       "      <td>14304.0</td>\n",
       "      <td>14339.0</td>\n",
       "      <td>2200301.0</td>\n",
       "      <td>3291.72188</td>\n",
       "      <td>0.0233</td>\n",
       "    </tr>\n",
       "    <tr>\n",
       "      <th>...</th>\n",
       "      <td>...</td>\n",
       "      <td>...</td>\n",
       "      <td>...</td>\n",
       "      <td>...</td>\n",
       "      <td>...</td>\n",
       "      <td>...</td>\n",
       "      <td>...</td>\n",
       "      <td>...</td>\n",
       "      <td>...</td>\n",
       "      <td>...</td>\n",
       "      <td>...</td>\n",
       "      <td>...</td>\n",
       "      <td>...</td>\n",
       "    </tr>\n",
       "    <tr>\n",
       "      <th>741762</th>\n",
       "      <td>2021-03-30</td>\n",
       "      <td>PI</td>\n",
       "      <td>Vila Nova do Piauí</td>\n",
       "      <td>city</td>\n",
       "      <td>108</td>\n",
       "      <td>1</td>\n",
       "      <td>332</td>\n",
       "      <td>True</td>\n",
       "      <td>2971.0</td>\n",
       "      <td>2952.0</td>\n",
       "      <td>2211605.0</td>\n",
       "      <td>3658.53659</td>\n",
       "      <td>0.0093</td>\n",
       "    </tr>\n",
       "    <tr>\n",
       "      <th>742094</th>\n",
       "      <td>2021-03-30</td>\n",
       "      <td>PI</td>\n",
       "      <td>Várzea Branca</td>\n",
       "      <td>city</td>\n",
       "      <td>86</td>\n",
       "      <td>5</td>\n",
       "      <td>309</td>\n",
       "      <td>True</td>\n",
       "      <td>4947.0</td>\n",
       "      <td>4938.0</td>\n",
       "      <td>2211357.0</td>\n",
       "      <td>1741.59579</td>\n",
       "      <td>0.0581</td>\n",
       "    </tr>\n",
       "    <tr>\n",
       "      <th>742403</th>\n",
       "      <td>2021-03-30</td>\n",
       "      <td>PI</td>\n",
       "      <td>Várzea Grande</td>\n",
       "      <td>city</td>\n",
       "      <td>302</td>\n",
       "      <td>0</td>\n",
       "      <td>340</td>\n",
       "      <td>True</td>\n",
       "      <td>4391.0</td>\n",
       "      <td>4386.0</td>\n",
       "      <td>2211407.0</td>\n",
       "      <td>6885.54492</td>\n",
       "      <td>0.0000</td>\n",
       "    </tr>\n",
       "    <tr>\n",
       "      <th>742743</th>\n",
       "      <td>2021-03-30</td>\n",
       "      <td>PI</td>\n",
       "      <td>Wall Ferraz</td>\n",
       "      <td>city</td>\n",
       "      <td>326</td>\n",
       "      <td>3</td>\n",
       "      <td>285</td>\n",
       "      <td>True</td>\n",
       "      <td>4462.0</td>\n",
       "      <td>4471.0</td>\n",
       "      <td>2211704.0</td>\n",
       "      <td>7291.43368</td>\n",
       "      <td>0.0092</td>\n",
       "    </tr>\n",
       "    <tr>\n",
       "      <th>743028</th>\n",
       "      <td>2021-03-30</td>\n",
       "      <td>PI</td>\n",
       "      <td>Água Branca</td>\n",
       "      <td>city</td>\n",
       "      <td>1178</td>\n",
       "      <td>51</td>\n",
       "      <td>342</td>\n",
       "      <td>True</td>\n",
       "      <td>17411.0</td>\n",
       "      <td>17470.0</td>\n",
       "      <td>2200202.0</td>\n",
       "      <td>6742.98798</td>\n",
       "      <td>0.0433</td>\n",
       "    </tr>\n",
       "  </tbody>\n",
       "</table>\n",
       "<p>224 rows × 13 columns</p>\n",
       "</div>"
      ],
      "text/plain": [
       "              date state                city place_type  confirmed  deaths  \\\n",
       "672734  2021-03-30    PI               Acauã       city        155       1   \n",
       "673035  2021-03-30    PI        Agricolândia       city        118       2   \n",
       "673328  2021-03-30    PI  Alagoinha do Piauí       city        240       9   \n",
       "673635  2021-03-30    PI   Alegrete do Piauí       city        393       4   \n",
       "673924  2021-03-30    PI          Alto Longá       city        472      11   \n",
       "...            ...   ...                 ...        ...        ...     ...   \n",
       "741762  2021-03-30    PI  Vila Nova do Piauí       city        108       1   \n",
       "742094  2021-03-30    PI       Várzea Branca       city         86       5   \n",
       "742403  2021-03-30    PI       Várzea Grande       city        302       0   \n",
       "742743  2021-03-30    PI         Wall Ferraz       city        326       3   \n",
       "743028  2021-03-30    PI         Água Branca       city       1178      51   \n",
       "\n",
       "        order_for_place  is_last  estimated_population_2019  \\\n",
       "672734              301     True                     7084.0   \n",
       "673035              293     True                     5139.0   \n",
       "673328              307     True                     7651.0   \n",
       "673635              289     True                     4915.0   \n",
       "673924              323     True                    14304.0   \n",
       "...                 ...      ...                        ...   \n",
       "741762              332     True                     2971.0   \n",
       "742094              309     True                     4947.0   \n",
       "742403              340     True                     4391.0   \n",
       "742743              285     True                     4462.0   \n",
       "743028              342     True                    17411.0   \n",
       "\n",
       "        estimated_population  city_ibge_code  confirmed_per_100k_inhabitants  \\\n",
       "672734                7102.0       2200053.0                      2182.48381   \n",
       "673035                5131.0       2200103.0                      2299.74664   \n",
       "673328                7665.0       2200251.0                      3131.11546   \n",
       "673635                4918.0       2200277.0                      7991.05327   \n",
       "673924               14339.0       2200301.0                      3291.72188   \n",
       "...                      ...             ...                             ...   \n",
       "741762                2952.0       2211605.0                      3658.53659   \n",
       "742094                4938.0       2211357.0                      1741.59579   \n",
       "742403                4386.0       2211407.0                      6885.54492   \n",
       "742743                4471.0       2211704.0                      7291.43368   \n",
       "743028               17470.0       2200202.0                      6742.98798   \n",
       "\n",
       "        death_rate  \n",
       "672734      0.0065  \n",
       "673035      0.0169  \n",
       "673328      0.0375  \n",
       "673635      0.0102  \n",
       "673924      0.0233  \n",
       "...            ...  \n",
       "741762      0.0093  \n",
       "742094      0.0581  \n",
       "742403      0.0000  \n",
       "742743      0.0092  \n",
       "743028      0.0433  \n",
       "\n",
       "[224 rows x 13 columns]"
      ]
     },
     "execution_count": 7,
     "metadata": {},
     "output_type": "execute_result"
    }
   ],
   "source": [
    "filtro"
   ]
  },
  {
   "cell_type": "code",
   "execution_count": 8,
   "metadata": {},
   "outputs": [],
   "source": [
    "filtro.to_csv('Covid_piaui.csv')"
   ]
  },
  {
   "cell_type": "code",
   "execution_count": 9,
   "metadata": {
    "scrolled": true
   },
   "outputs": [
    {
     "name": "stdout",
     "output_type": "stream",
     "text": [
      "<class 'pandas.core.frame.DataFrame'>\n",
      "Int64Index: 224 entries, 672734 to 743028\n",
      "Data columns (total 13 columns):\n",
      " #   Column                          Non-Null Count  Dtype  \n",
      "---  ------                          --------------  -----  \n",
      " 0   date                            224 non-null    object \n",
      " 1   state                           224 non-null    object \n",
      " 2   city                            224 non-null    object \n",
      " 3   place_type                      224 non-null    object \n",
      " 4   confirmed                       224 non-null    int64  \n",
      " 5   deaths                          224 non-null    int64  \n",
      " 6   order_for_place                 224 non-null    int64  \n",
      " 7   is_last                         224 non-null    bool   \n",
      " 8   estimated_population_2019       224 non-null    float64\n",
      " 9   estimated_population            224 non-null    float64\n",
      " 10  city_ibge_code                  224 non-null    float64\n",
      " 11  confirmed_per_100k_inhabitants  224 non-null    float64\n",
      " 12  death_rate                      224 non-null    float64\n",
      "dtypes: bool(1), float64(5), int64(3), object(4)\n",
      "memory usage: 23.0+ KB\n"
     ]
    }
   ],
   "source": [
    "#2\n",
    "filtro.info()\n"
   ]
  },
  {
   "cell_type": "code",
   "execution_count": 10,
   "metadata": {},
   "outputs": [
    {
     "ename": "NameError",
     "evalue": "name 'is_last' is not defined",
     "output_type": "error",
     "traceback": [
      "\u001b[1;31m---------------------------------------------------------------------------\u001b[0m",
      "\u001b[1;31mNameError\u001b[0m                                 Traceback (most recent call last)",
      "\u001b[1;32m<ipython-input-10-5f6bde6c14e3>\u001b[0m in \u001b[0;36m<module>\u001b[1;34m\u001b[0m\n\u001b[1;32m----> 1\u001b[1;33m \u001b[0mfiltro\u001b[0m\u001b[1;33m.\u001b[0m\u001b[0mdrop\u001b[0m\u001b[1;33m(\u001b[0m\u001b[0mis_last\u001b[0m\u001b[1;33m,\u001b[0m\u001b[0morder_for_place_city_ibge_code\u001b[0m\u001b[1;33m)\u001b[0m\u001b[1;33m\u001b[0m\u001b[1;33m\u001b[0m\u001b[0m\n\u001b[0m",
      "\u001b[1;31mNameError\u001b[0m: name 'is_last' is not defined"
     ]
    }
   ],
   "source": [
    "filtro.drop('is_last','order_for_place','city_ibge_code)"
   ]
  },
  {
   "cell_type": "code",
   "execution_count": null,
   "metadata": {},
   "outputs": [],
   "source": [
    "#3\n",
    "filtro.describe()"
   ]
  },
  {
   "cell_type": "code",
   "execution_count": null,
   "metadata": {},
   "outputs": [],
   "source": [
    "#4\n",
    "filtro.hist(['confirmed','confirmed_per_100k_inhabitants','death_rate','deaths','estimated_population','estimated_population_2019'],bins=55,figsize=(20,20))\n",
    "plt.show()"
   ]
  },
  {
   "cell_type": "code",
   "execution_count": null,
   "metadata": {},
   "outputs": [],
   "source": [
    "cidades= pd.read_csv('municipios.csv')"
   ]
  },
  {
   "cell_type": "code",
   "execution_count": null,
   "metadata": {},
   "outputs": [],
   "source": [
    "cidades"
   ]
  },
  {
   "cell_type": "code",
   "execution_count": null,
   "metadata": {},
   "outputs": [],
   "source": [
    "cidades = cidades[['latitude','longitude','nome']].loc[cidades['codigo_uf']==22]\n",
    "#22 é o codigo uf do Piauí"
   ]
  },
  {
   "cell_type": "code",
   "execution_count": null,
   "metadata": {},
   "outputs": [],
   "source": [
    "cidades = cidades.rename({'nome':'city'},axis=1) #renomeando atributo para a junção interna"
   ]
  },
  {
   "cell_type": "code",
   "execution_count": null,
   "metadata": {
    "scrolled": false
   },
   "outputs": [],
   "source": [
    "cidades"
   ]
  },
  {
   "cell_type": "code",
   "execution_count": null,
   "metadata": {},
   "outputs": [],
   "source": [
    "#5\n",
    "filtro = pd.merge(filtro,cidades,how='inner',on='city')#fazendo junção interna de colunas"
   ]
  },
  {
   "cell_type": "code",
   "execution_count": null,
   "metadata": {},
   "outputs": [],
   "source": [
    "filtro.head(5)"
   ]
  },
  {
   "cell_type": "code",
   "execution_count": null,
   "metadata": {},
   "outputs": [],
   "source": [
    "#6\n",
    "filtro.plot(kind='scatter',x='longitude',y='latitude',alpha=0.3,\n",
    "           s=filtro['estimated_population']/500,label='population',figsize=(10,7),c='death_rate',\n",
    "           cmap = plt.get_cmap('jet'), colorbar=True,sharex=False)\n",
    "plt.legend()\n",
    "plt.show()"
   ]
  },
  {
   "cell_type": "code",
   "execution_count": null,
   "metadata": {},
   "outputs": [],
   "source": [
    "#7\n",
    "corr_mat = filtro.corr()"
   ]
  },
  {
   "cell_type": "code",
   "execution_count": null,
   "metadata": {
    "scrolled": false
   },
   "outputs": [],
   "source": [
    "corr_mat"
   ]
  },
  {
   "cell_type": "code",
   "execution_count": null,
   "metadata": {},
   "outputs": [],
   "source": [
    "#8\n",
    "corr_mat['death_rate'].sort_values(ascending=False)"
   ]
  },
  {
   "cell_type": "code",
   "execution_count": null,
   "metadata": {
    "scrolled": true
   },
   "outputs": [],
   "source": [
    "corr_mat['deaths'].sort_values(ascending=False)"
   ]
  },
  {
   "cell_type": "code",
   "execution_count": null,
   "metadata": {
    "scrolled": true
   },
   "outputs": [],
   "source": [
    "filtro.plot(kind='scatter',x='death_rate',y='deaths',alpha=0.2)\n",
    "plt.axis([0.0,0.14,0,230])\n",
    "plt.show()"
   ]
  },
  {
   "cell_type": "code",
   "execution_count": null,
   "metadata": {},
   "outputs": [],
   "source": [
    "corr_mat['estimated_population'].sort_values(ascending=False)"
   ]
  },
  {
   "cell_type": "code",
   "execution_count": null,
   "metadata": {},
   "outputs": [],
   "source": [
    "filtro.plot(kind='scatter',x='death_rate',y='estimated_population',alpha=0.1)\n",
    "plt.show()"
   ]
  },
  {
   "cell_type": "code",
   "execution_count": null,
   "metadata": {},
   "outputs": [],
   "source": [
    "corr_mat['estimated_population_2019'].sort_values(ascending=False)"
   ]
  },
  {
   "cell_type": "code",
   "execution_count": null,
   "metadata": {},
   "outputs": [],
   "source": [
    "filtro.plot(kind='scatter',x='death_rate',y='estimated_population_2019',alpha=0.1)\n",
    "plt.show()"
   ]
  },
  {
   "cell_type": "code",
   "execution_count": null,
   "metadata": {},
   "outputs": [],
   "source": [
    "corr_mat['confirmed'].sort_values(ascending=False)"
   ]
  },
  {
   "cell_type": "code",
   "execution_count": null,
   "metadata": {},
   "outputs": [],
   "source": [
    "filtro.plot(kind='scatter',x='death_rate',y='confirmed',alpha=0.1)\n",
    "plt.show()"
   ]
  },
  {
   "cell_type": "code",
   "execution_count": null,
   "metadata": {},
   "outputs": [],
   "source": [
    "corr_mat['confirmed_per_100k_inhabitants'].sort_values(ascending=False)"
   ]
  },
  {
   "cell_type": "code",
   "execution_count": null,
   "metadata": {},
   "outputs": [],
   "source": [
    "filtro.plot(kind='scatter',x='death_rate',y='confirmed_per_100k_inhabitants')\n",
    "plt.show()"
   ]
  },
  {
   "cell_type": "code",
   "execution_count": null,
   "metadata": {
    "scrolled": true
   },
   "outputs": [],
   "source": [
    "corr_mat['longitude'].sort_values(ascending=False)"
   ]
  },
  {
   "cell_type": "code",
   "execution_count": null,
   "metadata": {},
   "outputs": [],
   "source": [
    "filtro.plot(kind='scatter',x='death_rate',y='longitude')\n",
    "plt.show()"
   ]
  },
  {
   "cell_type": "code",
   "execution_count": null,
   "metadata": {
    "scrolled": true
   },
   "outputs": [],
   "source": [
    "corr_mat['latitude'].sort_values(ascending=False)"
   ]
  },
  {
   "cell_type": "code",
   "execution_count": null,
   "metadata": {},
   "outputs": [],
   "source": [
    "filtro.plot(kind='scatter',x='death_rate',y='latitude')\n",
    "plt.show()"
   ]
  },
  {
   "cell_type": "code",
   "execution_count": null,
   "metadata": {},
   "outputs": [],
   "source": [
    "filtro.plot(kind='scatter',x='confirmed',y='estimated_population')\n",
    "plt.show()"
   ]
  },
  {
   "cell_type": "code",
   "execution_count": null,
   "metadata": {},
   "outputs": [],
   "source": []
  },
  {
   "cell_type": "code",
   "execution_count": null,
   "metadata": {},
   "outputs": [],
   "source": []
  },
  {
   "cell_type": "code",
   "execution_count": null,
   "metadata": {},
   "outputs": [],
   "source": []
  },
  {
   "cell_type": "code",
   "execution_count": null,
   "metadata": {},
   "outputs": [],
   "source": []
  },
  {
   "cell_type": "code",
   "execution_count": null,
   "metadata": {},
   "outputs": [],
   "source": []
  }
 ],
 "metadata": {
  "kernelspec": {
   "display_name": "Python 3",
   "language": "python",
   "name": "python3"
  },
  "language_info": {
   "codemirror_mode": {
    "name": "ipython",
    "version": 3
   },
   "file_extension": ".py",
   "mimetype": "text/x-python",
   "name": "python",
   "nbconvert_exporter": "python",
   "pygments_lexer": "ipython3",
   "version": "3.7.6"
  }
 },
 "nbformat": 4,
 "nbformat_minor": 4
}
