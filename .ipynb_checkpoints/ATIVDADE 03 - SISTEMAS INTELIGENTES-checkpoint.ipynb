{
 "cells": [
  {
   "cell_type": "markdown",
   "metadata": {},
   "source": [
    "# Atividade 3 \n",
    "- José Maria dos Santos Leal\n",
    "- Pedro Hércules de Sousa Dantas\n",
    "- Marcos Paulo Fontes Leal"
   ]
  },
  {
   "cell_type": "code",
   "execution_count": 1,
   "metadata": {},
   "outputs": [],
   "source": [
    "import pandas as pd\n",
    "import numpy as np\n",
    "import pickle \n",
    "from sklearn.linear_model import LinearRegression\n",
    "from sklearn.metrics import mean_squared_error\n",
    "from sklearn.model_selection import GridSearchCV\n"
   ]
  },
  {
   "cell_type": "code",
   "execution_count": 2,
   "metadata": {},
   "outputs": [],
   "source": [
    "def read_pickle(name):\n",
    "    one_instance = None\n",
    "    with (open(name,'rb')) as openfile:\n",
    "        while True:\n",
    "            try:\n",
    "                one_instance = pickle.load(openfile)\n",
    "            except EOFError:\n",
    "                break\n",
    "    one_instance = np.asanyarray(one_instance)\n",
    "    return one_instance"
   ]
  },
  {
   "cell_type": "markdown",
   "metadata": {},
   "source": [
    "## Carregando os dados"
   ]
  },
  {
   "cell_type": "code",
   "execution_count": 3,
   "metadata": {},
   "outputs": [],
   "source": [
    "x_train = read_pickle('X_train.pickle')\n",
    "x_test = read_pickle('X_test.pickle')\n",
    "y_train = read_pickle('y_train.pickle')\n",
    "y_test = read_pickle('y_test.pickle')\n",
    "x_train2 = x_train.copy()\n",
    "x_test2 = x_test.copy()"
   ]
  },
  {
   "cell_type": "code",
   "execution_count": 4,
   "metadata": {
    "scrolled": true
   },
   "outputs": [
    {
     "data": {
      "text/plain": [
       "(179,)"
      ]
     },
     "execution_count": 4,
     "metadata": {},
     "output_type": "execute_result"
    }
   ],
   "source": [
    "y_train.shape\n"
   ]
  },
  {
   "cell_type": "markdown",
   "metadata": {},
   "source": [
    "## Regressão Linear"
   ]
  },
  {
   "cell_type": "code",
   "execution_count": 5,
   "metadata": {},
   "outputs": [
    {
     "data": {
      "text/plain": [
       "LinearRegression(copy_X=True, fit_intercept=True, n_jobs=None, normalize=False)"
      ]
     },
     "execution_count": 5,
     "metadata": {},
     "output_type": "execute_result"
    }
   ],
   "source": [
    "regression = LinearRegression()\n",
    "regression.fit(x_train,y_train)"
   ]
  },
  {
   "cell_type": "code",
   "execution_count": 6,
   "metadata": {},
   "outputs": [],
   "source": [
    "predictions = regression.predict(x_test)"
   ]
  },
  {
   "cell_type": "code",
   "execution_count": 7,
   "metadata": {},
   "outputs": [
    {
     "name": "stdout",
     "output_type": "stream",
     "text": [
      "8.308420306224985\n"
     ]
    }
   ],
   "source": [
    "lin_mse = mean_squared_error(y_test,predictions)\n",
    "lin_rmse = np.sqrt(lin_mse)\n",
    "print(lin_rmse)"
   ]
  },
  {
   "cell_type": "markdown",
   "metadata": {},
   "source": [
    "## Regressão por Árvore de decisão"
   ]
  },
  {
   "cell_type": "code",
   "execution_count": 8,
   "metadata": {},
   "outputs": [],
   "source": [
    "from sklearn.tree import DecisionTreeRegressor "
   ]
  },
  {
   "cell_type": "code",
   "execution_count": 9,
   "metadata": {},
   "outputs": [],
   "source": [
    "tree_reg = DecisionTreeRegressor()\n",
    "tree_reg.fit(x_train,y_train)\n",
    "predictions = tree_reg.predict(x_test)"
   ]
  },
  {
   "cell_type": "code",
   "execution_count": 10,
   "metadata": {},
   "outputs": [
    {
     "name": "stdout",
     "output_type": "stream",
     "text": [
      "25.865893459234005\n"
     ]
    }
   ],
   "source": [
    "tree_mse = mean_squared_error(y_test,predictions)\n",
    "tree_rmse = np.sqrt(tree_mse)\n",
    "print(tree_rmse)"
   ]
  },
  {
   "cell_type": "markdown",
   "metadata": {},
   "source": [
    "## Regressão por Floresta aleatória"
   ]
  },
  {
   "cell_type": "code",
   "execution_count": 11,
   "metadata": {},
   "outputs": [],
   "source": [
    "from sklearn.ensemble import RandomForestRegressor as rf"
   ]
  },
  {
   "cell_type": "markdown",
   "metadata": {},
   "source": [
    "## GRIDSEARCH"
   ]
  },
  {
   "cell_type": "code",
   "execution_count": 12,
   "metadata": {},
   "outputs": [
    {
     "data": {
      "text/plain": [
       "GridSearchCV(cv=4, error_score=nan,\n",
       "             estimator=RandomForestRegressor(bootstrap=True, ccp_alpha=0.0,\n",
       "                                             criterion='mse', max_depth=None,\n",
       "                                             max_features='auto',\n",
       "                                             max_leaf_nodes=None,\n",
       "                                             max_samples=None,\n",
       "                                             min_impurity_decrease=0.0,\n",
       "                                             min_impurity_split=None,\n",
       "                                             min_samples_leaf=1,\n",
       "                                             min_samples_split=2,\n",
       "                                             min_weight_fraction_leaf=0.0,\n",
       "                                             n_estimators=100, n_jobs=None,\n",
       "                                             oob_score=False, random_state=37,\n",
       "                                             verbose=0, warm_start=False),\n",
       "             iid='deprecated', n_jobs=None,\n",
       "             param_grid={'max_depth': range(1, 10),\n",
       "                         'n_estimators': [10, 20, 30, 50, 100]},\n",
       "             pre_dispatch='2*n_jobs', refit=True, return_train_score=False,\n",
       "             scoring='neg_mean_absolute_error', verbose=0)"
      ]
     },
     "execution_count": 12,
     "metadata": {},
     "output_type": "execute_result"
    }
   ],
   "source": [
    "grid_search_cv = GridSearchCV(estimator = rf(random_state = 37), # Random Forest\n",
    "                              param_grid =  {'max_depth': range(1,10),\n",
    "                              'n_estimators' : [10,20,30,50,100]},\n",
    "                              # Testando número de comprimentos de 1 a 10\n",
    "                              scoring='neg_mean_absolute_error', # Métrica neg_mean_absolute_error\n",
    "                              cv = 4) ## Cross Validation de 4\n",
    "## Grid Search (.fit) para os dados passados\n",
    "grid_search_cv.fit(x_train,y_train)"
   ]
  },
  {
   "cell_type": "code",
   "execution_count": 13,
   "metadata": {},
   "outputs": [
    {
     "name": "stdout",
     "output_type": "stream",
     "text": [
      "Melhor comprimento máximo: 8\n",
      "Desempenho neg_mean_absolute_error do melhor modelo: -14.65\n"
     ]
    }
   ],
   "source": [
    "print('Melhor comprimento máximo: {}'.format(grid_search_cv.best_params_['max_depth']))\n",
    "print('Desempenho neg_mean_absolute_error do melhor modelo: {}'.format(round(grid_search_cv.best_score_,2)))"
   ]
  },
  {
   "cell_type": "markdown",
   "metadata": {},
   "source": [
    "## Regressão sem parametros grid"
   ]
  },
  {
   "cell_type": "code",
   "execution_count": 14,
   "metadata": {},
   "outputs": [],
   "source": [
    "forest = rf()\n",
    "forest.fit(x_train,y_train)\n",
    "predictions = forest.predict(x_test)"
   ]
  },
  {
   "cell_type": "code",
   "execution_count": 15,
   "metadata": {},
   "outputs": [
    {
     "name": "stdout",
     "output_type": "stream",
     "text": [
      "20.788481426020518\n"
     ]
    }
   ],
   "source": [
    "forest_mse = mean_squared_error(y_test,predictions)\n",
    "forest_rmse = np.sqrt(forest_mse)\n",
    "print(forest_rmse)"
   ]
  },
  {
   "cell_type": "markdown",
   "metadata": {},
   "source": [
    "## Regressão com parametros grid"
   ]
  },
  {
   "cell_type": "code",
   "execution_count": 16,
   "metadata": {},
   "outputs": [],
   "source": [
    "forest = rf(bootstrap=True, ccp_alpha=0.0,\n",
    "                                             criterion='mse', max_depth=None,\n",
    "                                             max_features='auto',\n",
    "                                             max_leaf_nodes=None,\n",
    "                                             max_samples=None,\n",
    "                                             min_impurity_decrease=0.0,\n",
    "                                             min_impurity_split=None,\n",
    "                                             min_samples_leaf=1,\n",
    "                                             min_samples_split=2,\n",
    "                                             min_weight_fraction_leaf=0.0,\n",
    "                                             n_estimators=20, n_jobs=None,\n",
    "                                             oob_score=False, random_state=37,\n",
    "                                             verbose=0, warm_start=False)\n",
    "forest.fit(x_train,y_train)\n",
    "predictions = forest.predict(x_test)"
   ]
  },
  {
   "cell_type": "code",
   "execution_count": 17,
   "metadata": {},
   "outputs": [
    {
     "name": "stdout",
     "output_type": "stream",
     "text": [
      "16.49129231510442\n"
     ]
    }
   ],
   "source": [
    "forest_mse = mean_squared_error(y_test,predictions)\n",
    "forest_rmse = np.sqrt(forest_mse)\n",
    "print(forest_rmse)"
   ]
  },
  {
   "cell_type": "code",
   "execution_count": 18,
   "metadata": {
    "scrolled": true
   },
   "outputs": [
    {
     "data": {
      "text/plain": [
       "array([0.27331981, 0.14987729, 0.29534336, 0.2538038 , 0.00551551,\n",
       "       0.00566992, 0.00935034, 0.00176666, 0.0053533 ])"
      ]
     },
     "execution_count": 18,
     "metadata": {},
     "output_type": "execute_result"
    }
   ],
   "source": [
    "forest.feature_importances_"
   ]
  },
  {
   "cell_type": "markdown",
   "metadata": {
    "scrolled": true
   },
   "source": [
    "## parâmetros em ordem\n",
    "confirmed, order_for_place,estimated_2019, estimated, ibge_code, confirmed_100k, death_rate,latitude,longitude"
   ]
  },
  {
   "cell_type": "markdown",
   "metadata": {},
   "source": [
    "## Função de remoção de atributos de menor relevância"
   ]
  },
  {
   "cell_type": "code",
   "execution_count": 19,
   "metadata": {
    "scrolled": true
   },
   "outputs": [
    {
     "name": "stdout",
     "output_type": "stream",
     "text": [
      "0.0017666577874122442\n",
      "0.0017666577874122442\n"
     ]
    }
   ],
   "source": [
    "def min_remove(model,forest):\n",
    "    \n",
    "    print(min(forest.feature_importances_))\n",
    "    for i in range(len(forest.feature_importances_)):\n",
    "        if min(forest.feature_importances_) ==  forest.feature_importances_[i]:\n",
    "            model_selected =  np.delete(model,i,1)\n",
    "           \n",
    "            break\n",
    "        \n",
    "    return model_selected\n",
    "\n",
    "\n",
    "\n",
    "\n",
    "x_train = min_remove(x_train,forest)\n",
    "\n",
    "x_test = min_remove(x_test,forest) "
   ]
  },
  {
   "cell_type": "markdown",
   "metadata": {},
   "source": [
    "## Executar funçao min_remove 4 vezes, alternando entre ela e a linha abaixo até ficar\n",
    "## somente 5 atributos"
   ]
  },
  {
   "cell_type": "code",
   "execution_count": 20,
   "metadata": {},
   "outputs": [],
   "source": [
    "forest = rf(bootstrap=True, ccp_alpha=0.0,\n",
    "                                             criterion='mse', max_depth=None,\n",
    "                                             max_features='auto',\n",
    "                                             max_leaf_nodes=None,\n",
    "                                             max_samples=None,\n",
    "                                             min_impurity_decrease=0.0,\n",
    "                                             min_impurity_split=None,\n",
    "                                             min_samples_leaf=1,\n",
    "                                             min_samples_split=2,\n",
    "                                             min_weight_fraction_leaf=0.0,\n",
    "                                             n_estimators=20, n_jobs=None,\n",
    "                                             oob_score=False, random_state=37,\n",
    "                                             verbose=0, warm_start=False)\n",
    "forest.fit(x_train,y_train)\n",
    "predictions = forest.predict(x_test)"
   ]
  },
  {
   "cell_type": "code",
   "execution_count": 21,
   "metadata": {},
   "outputs": [
    {
     "data": {
      "text/plain": [
       "array([0.2490899 , 0.24851239, 0.25381927, 0.21786952, 0.00911944,\n",
       "       0.00585867, 0.01025664, 0.00547416])"
      ]
     },
     "execution_count": 21,
     "metadata": {},
     "output_type": "execute_result"
    }
   ],
   "source": [
    "forest.feature_importances_"
   ]
  },
  {
   "cell_type": "code",
   "execution_count": 22,
   "metadata": {},
   "outputs": [
    {
     "name": "stdout",
     "output_type": "stream",
     "text": [
      "16.776057674886285\n"
     ]
    }
   ],
   "source": [
    "fr_mse = mean_squared_error(y_test,predictions)\n",
    "fr_rmse = np.sqrt(fr_mse)\n",
    "print(fr_rmse)"
   ]
  },
  {
   "cell_type": "markdown",
   "metadata": {},
   "source": [
    "## Support Vector Regressor"
   ]
  },
  {
   "cell_type": "code",
   "execution_count": 23,
   "metadata": {},
   "outputs": [],
   "source": [
    "from sklearn.svm import SVR"
   ]
  },
  {
   "cell_type": "code",
   "execution_count": 24,
   "metadata": {},
   "outputs": [],
   "source": [
    "svr = SVR(C=10)\n",
    "svr.fit(x_train2,y_train)\n",
    "predictions = svr.predict(x_test2)\n"
   ]
  },
  {
   "cell_type": "code",
   "execution_count": 25,
   "metadata": {},
   "outputs": [
    {
     "name": "stdout",
     "output_type": "stream",
     "text": [
      "42.84710861616839\n"
     ]
    }
   ],
   "source": [
    "svr_mse = mean_squared_error(y_test,predictions)\n",
    "svr_rmse = np.sqrt(svr_mse)\n",
    "print(svr_rmse)"
   ]
  },
  {
   "cell_type": "markdown",
   "metadata": {},
   "source": [
    "## Melhor kernel e valor de C"
   ]
  },
  {
   "cell_type": "code",
   "execution_count": 30,
   "metadata": {},
   "outputs": [
    {
     "name": "stdout",
     "output_type": "stream",
     "text": [
      "menor RMSE: 6.857639601014149\n",
      "melhor valor de C: 10\n"
     ]
    }
   ],
   "source": [
    "lista = [i for i in range(1,1001)]\n",
    "index = 0\n",
    "for i in range(0,101):\n",
    "\n",
    "    svr = SVR(kernel='linear',C=i+1)\n",
    "    svr.fit(x_train2,y_train)\n",
    "    predictions = svr.predict(x_test2)\n",
    "    svr_mse = mean_squared_error(y_test,predictions)\n",
    "    svr_rmse = np.sqrt(svr_mse)\n",
    "    lista[i] = svr_rmse\n",
    "menor = min(lista)\n",
    "print(\"menor RMSE:\",menor)\n",
    "print(\"melhor valor de C:\",lista.index(menor)+1)"
   ]
  },
  {
   "cell_type": "code",
   "execution_count": 27,
   "metadata": {},
   "outputs": [
    {
     "name": "stdout",
     "output_type": "stream",
     "text": [
      "menor RMSE: 40.606441684760206\n",
      "melhor valor de C: 8\n"
     ]
    }
   ],
   "source": [
    "lista = [i for i in range(1,1001)]\n",
    "index = 0\n",
    "for i in range(0,101):\n",
    "\n",
    "    svr = SVR(kernel='sigmoid',C=i+1)\n",
    "    svr.fit(x_train2,y_train)\n",
    "    predictions = svr.predict(x_test2)\n",
    "    svr_mse = mean_squared_error(y_test,predictions)\n",
    "    svr_rmse = np.sqrt(svr_mse)\n",
    "    lista[i] = svr_rmse\n",
    "menor = min(lista)\n",
    "print(\"menor RMSE:\",menor)\n",
    "print(\"melhor valor de C:\",lista.index(menor)+1)"
   ]
  },
  {
   "cell_type": "code",
   "execution_count": 28,
   "metadata": {},
   "outputs": [
    {
     "name": "stdout",
     "output_type": "stream",
     "text": [
      "menor RMSE: 10.414275106120083\n",
      "melhor valor de C: 60\n"
     ]
    }
   ],
   "source": [
    "lista = [i for i in range(1,1001)]\n",
    "index = 0\n",
    "for i in range(0,101):\n",
    "\n",
    "    svr = SVR(kernel='poly',C=i+1)\n",
    "    svr.fit(x_train2,y_train)\n",
    "    predictions = svr.predict(x_test2)\n",
    "    svr_mse = mean_squared_error(y_test,predictions)\n",
    "    svr_rmse = np.sqrt(svr_mse)\n",
    "    lista[i] = svr_rmse\n",
    "menor = min(lista)\n",
    "print(\"menor RMSE:\",menor)\n",
    "print(\"melhor valor de C:\",lista.index(menor)+1)"
   ]
  },
  {
   "cell_type": "code",
   "execution_count": null,
   "metadata": {},
   "outputs": [],
   "source": []
  },
  {
   "cell_type": "code",
   "execution_count": null,
   "metadata": {},
   "outputs": [],
   "source": []
  },
  {
   "cell_type": "code",
   "execution_count": null,
   "metadata": {},
   "outputs": [],
   "source": []
  }
 ],
 "metadata": {
  "kernelspec": {
   "display_name": "Python 3",
   "language": "python",
   "name": "python3"
  },
  "language_info": {
   "codemirror_mode": {
    "name": "ipython",
    "version": 3
   },
   "file_extension": ".py",
   "mimetype": "text/x-python",
   "name": "python",
   "nbconvert_exporter": "python",
   "pygments_lexer": "ipython3",
   "version": "3.7.6"
  }
 },
 "nbformat": 4,
 "nbformat_minor": 4
}
