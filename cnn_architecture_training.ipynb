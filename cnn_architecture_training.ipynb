{
 "cells": [
  {
   "cell_type": "markdown",
   "metadata": {},
   "source": [
    "# Construindo a Arquitetura da CNN "
   ]
  },
  {
   "cell_type": "markdown",
   "metadata": {},
   "source": [
    "![Extracao de características](extracao_caracteristicas.png)"
   ]
  },
  {
   "cell_type": "markdown",
   "metadata": {},
   "source": [
    "## 1. Importando as bibliotecas"
   ]
  },
  {
   "cell_type": "code",
   "execution_count": 6,
   "metadata": {},
   "outputs": [],
   "source": [
    "from tensorflow import keras\n",
    "from keras.models import Sequential\n",
    "from keras.layers import Convolution2D\n",
    "from keras.layers import MaxPooling2D\n",
    "from keras.layers import Flatten\n",
    "from keras.layers import Dense\n",
    "from keras.layers import Dropout\n",
    "from keras import utils\n",
    "import numpy as np"
   ]
  },
  {
   "cell_type": "markdown",
   "metadata": {},
   "source": [
    "## 2. Aquisição dos dados"
   ]
  },
  {
   "cell_type": "code",
   "execution_count": 9,
   "metadata": {},
   "outputs": [],
   "source": [
    "(X_train, y_train), (X_test, y_test) = keras.datasets.mnist.load_data()"
   ]
  },
  {
   "cell_type": "code",
   "execution_count": 10,
   "metadata": {},
   "outputs": [
    {
     "name": "stdout",
     "output_type": "stream",
     "text": [
      "(60000, 28, 28)\n",
      "(60000,)\n",
      "(10000, 28, 28)\n",
      "(10000,)\n"
     ]
    }
   ],
   "source": [
    "print(X_train.shape)\n",
    "print(y_train.shape)\n",
    "print(X_test.shape)\n",
    "print(y_test.shape)"
   ]
  },
  {
   "cell_type": "markdown",
   "metadata": {},
   "source": [
    "## 3. Pré-processamento"
   ]
  },
  {
   "cell_type": "code",
   "execution_count": 11,
   "metadata": {},
   "outputs": [],
   "source": [
    "X_train = X_train / 255.\n",
    "X_test = X_test / 255.\n",
    "X_train = X_train.reshape(X_train.shape[0], X_train.shape[1], X_train.shape[2], 1)\n",
    "X_test = X_test.reshape(X_test.shape[0], X_test.shape[1], X_test.shape[2], 1)\n",
    "y_train = utils.to_categorical(y_train) #8 -> 0 0 0 0 0 0 0 0 1 0\n",
    "y_test = utils.to_categorical(y_test) #3 -> 0 0 0 1 0 0 0 0 0 0"
   ]
  },
  {
   "cell_type": "code",
   "execution_count": 12,
   "metadata": {},
   "outputs": [
    {
     "name": "stdout",
     "output_type": "stream",
     "text": [
      "(60000, 28, 28, 1)\n",
      "(60000, 10)\n",
      "(10000, 28, 28, 1)\n",
      "(10000, 10)\n"
     ]
    }
   ],
   "source": [
    "print(X_train.shape)\n",
    "print(y_train.shape)\n",
    "print(X_test.shape)\n",
    "print(y_test.shape)"
   ]
  },
  {
   "cell_type": "markdown",
   "metadata": {},
   "source": [
    "## 4. Arquitetura da CNN"
   ]
  },
  {
   "cell_type": "markdown",
   "metadata": {},
   "source": [
    "![Arquitetura CNN](cnn_arquitetura_basica.png)"
   ]
  },
  {
   "cell_type": "code",
   "execution_count": 9,
   "metadata": {},
   "outputs": [],
   "source": [
    "# Inicializando a CNN\n",
    "classifier = Sequential()\n",
    "\n",
    "#Camada de convolução\n",
    "classifier.add(Convolution2D(32, kernel_size=(3,3), input_shape = (28, 28,1), activation = 'relu', padding='same', name = 'conv_1'))\n",
    "\n",
    "#Camada de pooling\n",
    "classifier.add(MaxPooling2D(pool_size=(2,2), strides=(2, 2), padding='same', name = 'pool_1'))\n",
    "\n",
    "#Segunda camada convolucional\n",
    "classifier.add(Convolution2D(64, kernel_size=(3,3), activation = 'relu', padding='same', name = 'conv_2'))\n",
    "\n",
    "#Dropout\n",
    "classifier.add(Dropout(0.25))\n",
    "\n",
    "#Segunda camada de pooling\n",
    "classifier.add(MaxPooling2D(pool_size=(2, 2), strides=(2, 2), padding='same', name = 'pool_2'))\n",
    "\n",
    "\n",
    "#Vetorizando os mapas de características do último pooling (camada de entrada)\n",
    "classifier.add(Flatten())\n",
    "\n",
    "#Dropout\n",
    "classifier.add(Dropout(0.5))\n",
    "\n",
    "#Camada totalmente conectada ou oculta\n",
    "classifier.add(Dense(activation='relu', units=128, name = 'dense_1'))\n",
    "\n",
    "\n",
    "#Camada de saída\n",
    "classifier.add(Dense(activation='softmax', units=10,  name = 'classification'))"
   ]
  },
  {
   "cell_type": "markdown",
   "metadata": {},
   "source": [
    "$Atividade (2.5):$  Classificando um conjunto de imagens de animais (gato, cachorro e panda)\n",
    "1. Aquisição das imagens através do dataset: https://www.kaggle.com/ashishsaxena2209/animal-image-datasetdog-cat-and-panda\n",
    "2. Pré-processamento: Redimensione a imagem do dataset para 64 × 64 pixels, e certifique-se de que tenham os três canais (RGB). As imagens nas quais o modelo deve ser treinado devem ser pré-processadas para que seus valores variem de [0,1], portanto, você deve garantir que suas imagens também estejam no mesmo intervalo. As labels devem ser criadas e transformadas em dados categóricos e não esqueçam de embaralhar as amostras de modo que a label também seja embaralhada na mesma sequência. Dica: função load_img do keras.preprocessing.image e utilizar 80% das amostras para treino e 20% para teste;\n",
    "3. Adaptar a arquitetura apresentada no tutorial para o novo dataset. "
   ]
  },
  {
   "cell_type": "code",
   "execution_count": 10,
   "metadata": {},
   "outputs": [
    {
     "name": "stdout",
     "output_type": "stream",
     "text": [
      "Model: \"sequential\"\n",
      "_________________________________________________________________\n",
      "Layer (type)                 Output Shape              Param #   \n",
      "=================================================================\n",
      "conv_1 (Conv2D)              (None, 28, 28, 32)        320       \n",
      "_________________________________________________________________\n",
      "pool_1 (MaxPooling2D)        (None, 14, 14, 32)        0         \n",
      "_________________________________________________________________\n",
      "conv_2 (Conv2D)              (None, 14, 14, 64)        18496     \n",
      "_________________________________________________________________\n",
      "dropout (Dropout)            (None, 14, 14, 64)        0         \n",
      "_________________________________________________________________\n",
      "pool_2 (MaxPooling2D)        (None, 7, 7, 64)          0         \n",
      "_________________________________________________________________\n",
      "flatten (Flatten)            (None, 3136)              0         \n",
      "_________________________________________________________________\n",
      "dropout_1 (Dropout)          (None, 3136)              0         \n",
      "_________________________________________________________________\n",
      "dense_1 (Dense)              (None, 128)               401536    \n",
      "_________________________________________________________________\n",
      "classification (Dense)       (None, 10)                1290      \n",
      "=================================================================\n",
      "Total params: 421,642\n",
      "Trainable params: 421,642\n",
      "Non-trainable params: 0\n",
      "_________________________________________________________________\n"
     ]
    }
   ],
   "source": [
    "classifier.summary()"
   ]
  },
  {
   "cell_type": "markdown",
   "metadata": {},
   "source": [
    "## 5. Treinando o modelo"
   ]
  },
  {
   "cell_type": "code",
   "execution_count": 17,
   "metadata": {},
   "outputs": [],
   "source": [
    "#Parâmetros de treinamento\n",
    "epochs = 60\n",
    "batch_size = 50\n",
    "validation_split=0.1"
   ]
  },
  {
   "cell_type": "code",
   "execution_count": 4,
   "metadata": {},
   "outputs": [
    {
     "name": "stdout",
     "output_type": "stream",
     "text": [
      "1080.0\n"
     ]
    }
   ],
   "source": [
    "print(54000/50)"
   ]
  },
  {
   "cell_type": "code",
   "execution_count": 21,
   "metadata": {},
   "outputs": [],
   "source": [
    "classifier.compile(optimizer = 'sgd', loss= 'categorical_crossentropy', metrics=['accuracy'])\n",
    "\n",
    "checkpoint = keras.callbacks.ModelCheckpoint('best_model.h5', monitor='val_loss', verbose=1, save_best_only=True, mode='auto', save_freq='epoch') \n",
    "earlystop = keras.callbacks.EarlyStopping(patience=15)"
   ]
  },
  {
   "cell_type": "code",
   "execution_count": 22,
   "metadata": {},
   "outputs": [
    {
     "name": "stdout",
     "output_type": "stream",
     "text": [
      "Epoch 1/60\n",
      "1079/1080 [============================>.] - ETA: 0s - loss: 0.7852 - accuracy: 0.7497\n",
      "Epoch 00001: val_loss improved from inf to 0.25069, saving model to best_model.h5\n",
      "1080/1080 [==============================] - 29s 27ms/step - loss: 0.7848 - accuracy: 0.7498 - val_loss: 0.2507 - val_accuracy: 0.9402\n",
      "Epoch 2/60\n",
      "1079/1080 [============================>.] - ETA: 0s - loss: 0.2706 - accuracy: 0.9170\n",
      "Epoch 00002: val_loss improved from 0.25069 to 0.13896, saving model to best_model.h5\n",
      "1080/1080 [==============================] - 26s 24ms/step - loss: 0.2705 - accuracy: 0.9170 - val_loss: 0.1390 - val_accuracy: 0.9663\n",
      "Epoch 3/60\n",
      "1078/1080 [============================>.] - ETA: 0s - loss: 0.1905 - accuracy: 0.9427\n",
      "Epoch 00003: val_loss improved from 0.13896 to 0.11194, saving model to best_model.h5\n",
      "1080/1080 [==============================] - 28s 26ms/step - loss: 0.1904 - accuracy: 0.9427 - val_loss: 0.1119 - val_accuracy: 0.9718\n",
      "Epoch 4/60\n",
      "1080/1080 [==============================] - ETA: 0s - loss: 0.1532 - accuracy: 0.9536\n",
      "Epoch 00004: val_loss improved from 0.11194 to 0.08875, saving model to best_model.h5\n",
      "1080/1080 [==============================] - 23s 21ms/step - loss: 0.1532 - accuracy: 0.9536 - val_loss: 0.0887 - val_accuracy: 0.9785\n",
      "Epoch 5/60\n",
      "1080/1080 [==============================] - ETA: 0s - loss: 0.1322 - accuracy: 0.9590\n",
      "Epoch 00005: val_loss improved from 0.08875 to 0.07865, saving model to best_model.h5\n",
      "1080/1080 [==============================] - 23s 22ms/step - loss: 0.1322 - accuracy: 0.9590 - val_loss: 0.0787 - val_accuracy: 0.9810\n",
      "Epoch 6/60\n",
      "1080/1080 [==============================] - ETA: 0s - loss: 0.1169 - accuracy: 0.9639\n",
      "Epoch 00006: val_loss improved from 0.07865 to 0.06978, saving model to best_model.h5\n",
      "1080/1080 [==============================] - 24s 22ms/step - loss: 0.1169 - accuracy: 0.9639 - val_loss: 0.0698 - val_accuracy: 0.9830\n",
      "Epoch 7/60\n",
      "1078/1080 [============================>.] - ETA: 0s - loss: 0.1062 - accuracy: 0.9671\n",
      "Epoch 00007: val_loss improved from 0.06978 to 0.06564, saving model to best_model.h5\n",
      "1080/1080 [==============================] - 23s 21ms/step - loss: 0.1061 - accuracy: 0.9671 - val_loss: 0.0656 - val_accuracy: 0.9847\n",
      "Epoch 8/60\n",
      "1080/1080 [==============================] - ETA: 0s - loss: 0.0991 - accuracy: 0.9691\n",
      "Epoch 00008: val_loss improved from 0.06564 to 0.05930, saving model to best_model.h5\n",
      "1080/1080 [==============================] - 23s 22ms/step - loss: 0.0991 - accuracy: 0.9691 - val_loss: 0.0593 - val_accuracy: 0.9850\n",
      "Epoch 9/60\n",
      "1079/1080 [============================>.] - ETA: 0s - loss: 0.0916 - accuracy: 0.9713\n",
      "Epoch 00009: val_loss improved from 0.05930 to 0.05607, saving model to best_model.h5\n",
      "1080/1080 [==============================] - 24s 22ms/step - loss: 0.0917 - accuracy: 0.9712 - val_loss: 0.0561 - val_accuracy: 0.9862\n",
      "Epoch 10/60\n",
      "1078/1080 [============================>.] - ETA: 0s - loss: 0.0864 - accuracy: 0.9734\n",
      "Epoch 00010: val_loss improved from 0.05607 to 0.05431, saving model to best_model.h5\n",
      "1080/1080 [==============================] - 23s 22ms/step - loss: 0.0866 - accuracy: 0.9734 - val_loss: 0.0543 - val_accuracy: 0.9863\n",
      "Epoch 11/60\n",
      "1080/1080 [==============================] - ETA: 0s - loss: 0.0827 - accuracy: 0.9747\n",
      "Epoch 00011: val_loss improved from 0.05431 to 0.04952, saving model to best_model.h5\n",
      "1080/1080 [==============================] - 23s 21ms/step - loss: 0.0827 - accuracy: 0.9747 - val_loss: 0.0495 - val_accuracy: 0.9872\n",
      "Epoch 12/60\n",
      "1079/1080 [============================>.] - ETA: 0s - loss: 0.0787 - accuracy: 0.9765\n",
      "Epoch 00012: val_loss did not improve from 0.04952\n",
      "1080/1080 [==============================] - 23s 22ms/step - loss: 0.0787 - accuracy: 0.9765 - val_loss: 0.0508 - val_accuracy: 0.9878\n",
      "Epoch 13/60\n",
      "1078/1080 [============================>.] - ETA: 0s - loss: 0.0735 - accuracy: 0.9771\n",
      "Epoch 00013: val_loss improved from 0.04952 to 0.04712, saving model to best_model.h5\n",
      "1080/1080 [==============================] - 23s 21ms/step - loss: 0.0735 - accuracy: 0.9770 - val_loss: 0.0471 - val_accuracy: 0.9878\n",
      "Epoch 14/60\n",
      "1080/1080 [==============================] - ETA: 0s - loss: 0.0715 - accuracy: 0.9772\n",
      "Epoch 00014: val_loss improved from 0.04712 to 0.04677, saving model to best_model.h5\n",
      "1080/1080 [==============================] - 23s 22ms/step - loss: 0.0715 - accuracy: 0.9772 - val_loss: 0.0468 - val_accuracy: 0.9872\n",
      "Epoch 15/60\n",
      "1080/1080 [==============================] - ETA: 0s - loss: 0.0696 - accuracy: 0.9783\n",
      "Epoch 00015: val_loss improved from 0.04677 to 0.04559, saving model to best_model.h5\n",
      "1080/1080 [==============================] - 23s 22ms/step - loss: 0.0696 - accuracy: 0.9783 - val_loss: 0.0456 - val_accuracy: 0.9885\n",
      "Epoch 16/60\n",
      "1078/1080 [============================>.] - ETA: 0s - loss: 0.0648 - accuracy: 0.9792\n",
      "Epoch 00016: val_loss improved from 0.04559 to 0.04417, saving model to best_model.h5\n",
      "1080/1080 [==============================] - 23s 22ms/step - loss: 0.0648 - accuracy: 0.9791 - val_loss: 0.0442 - val_accuracy: 0.9883\n",
      "Epoch 17/60\n",
      "1080/1080 [==============================] - ETA: 0s - loss: 0.0631 - accuracy: 0.9803\n",
      "Epoch 00017: val_loss improved from 0.04417 to 0.04359, saving model to best_model.h5\n",
      "1080/1080 [==============================] - 24s 22ms/step - loss: 0.0631 - accuracy: 0.9803 - val_loss: 0.0436 - val_accuracy: 0.9873\n",
      "Epoch 18/60\n",
      "1080/1080 [==============================] - ETA: 0s - loss: 0.0596 - accuracy: 0.9817\n",
      "Epoch 00018: val_loss improved from 0.04359 to 0.04224, saving model to best_model.h5\n",
      "1080/1080 [==============================] - 23s 22ms/step - loss: 0.0596 - accuracy: 0.9817 - val_loss: 0.0422 - val_accuracy: 0.9885\n",
      "Epoch 19/60\n",
      "1080/1080 [==============================] - ETA: 0s - loss: 0.0606 - accuracy: 0.9814\n",
      "Epoch 00019: val_loss improved from 0.04224 to 0.03981, saving model to best_model.h5\n",
      "1080/1080 [==============================] - 23s 22ms/step - loss: 0.0606 - accuracy: 0.9814 - val_loss: 0.0398 - val_accuracy: 0.9890\n",
      "Epoch 20/60\n",
      "1078/1080 [============================>.] - ETA: 0s - loss: 0.0575 - accuracy: 0.9824\n",
      "Epoch 00020: val_loss improved from 0.03981 to 0.03870, saving model to best_model.h5\n",
      "1080/1080 [==============================] - 24s 22ms/step - loss: 0.0575 - accuracy: 0.9824 - val_loss: 0.0387 - val_accuracy: 0.9893\n",
      "Epoch 21/60\n",
      "1079/1080 [============================>.] - ETA: 0s - loss: 0.0548 - accuracy: 0.9828\n",
      "Epoch 00021: val_loss did not improve from 0.03870\n",
      "1080/1080 [==============================] - 24s 22ms/step - loss: 0.0548 - accuracy: 0.9827 - val_loss: 0.0398 - val_accuracy: 0.9893\n",
      "Epoch 22/60\n",
      "1079/1080 [============================>.] - ETA: 0s - loss: 0.0536 - accuracy: 0.9831\n",
      "Epoch 00022: val_loss did not improve from 0.03870\n",
      "1080/1080 [==============================] - 23s 22ms/step - loss: 0.0536 - accuracy: 0.9830 - val_loss: 0.0391 - val_accuracy: 0.9893\n",
      "Epoch 23/60\n",
      "1079/1080 [============================>.] - ETA: 0s - loss: 0.0532 - accuracy: 0.9833\n",
      "Epoch 00023: val_loss improved from 0.03870 to 0.03735, saving model to best_model.h5\n",
      "1080/1080 [==============================] - 23s 22ms/step - loss: 0.0532 - accuracy: 0.9834 - val_loss: 0.0373 - val_accuracy: 0.9907\n",
      "Epoch 24/60\n",
      "1079/1080 [============================>.] - ETA: 0s - loss: 0.0524 - accuracy: 0.9827\n",
      "Epoch 00024: val_loss did not improve from 0.03735\n",
      "1080/1080 [==============================] - 24s 22ms/step - loss: 0.0524 - accuracy: 0.9827 - val_loss: 0.0386 - val_accuracy: 0.9898\n",
      "Epoch 25/60\n",
      "1080/1080 [==============================] - ETA: 0s - loss: 0.0500 - accuracy: 0.9841\n",
      "Epoch 00025: val_loss improved from 0.03735 to 0.03592, saving model to best_model.h5\n",
      "1080/1080 [==============================] - 23s 22ms/step - loss: 0.0500 - accuracy: 0.9841 - val_loss: 0.0359 - val_accuracy: 0.9903\n",
      "Epoch 26/60\n",
      "1078/1080 [============================>.] - ETA: 0s - loss: 0.0493 - accuracy: 0.9843\n",
      "Epoch 00026: val_loss did not improve from 0.03592\n",
      "1080/1080 [==============================] - 24s 22ms/step - loss: 0.0494 - accuracy: 0.9843 - val_loss: 0.0368 - val_accuracy: 0.9907\n",
      "Epoch 27/60\n",
      "1080/1080 [==============================] - ETA: 0s - loss: 0.0469 - accuracy: 0.9848\n",
      "Epoch 00027: val_loss improved from 0.03592 to 0.03474, saving model to best_model.h5\n",
      "1080/1080 [==============================] - 24s 22ms/step - loss: 0.0469 - accuracy: 0.9848 - val_loss: 0.0347 - val_accuracy: 0.9905\n",
      "Epoch 28/60\n",
      "1080/1080 [==============================] - ETA: 0s - loss: 0.0474 - accuracy: 0.9851\n",
      "Epoch 00028: val_loss did not improve from 0.03474\n",
      "1080/1080 [==============================] - 24s 22ms/step - loss: 0.0474 - accuracy: 0.9851 - val_loss: 0.0356 - val_accuracy: 0.9905\n",
      "Epoch 29/60\n",
      "1078/1080 [============================>.] - ETA: 0s - loss: 0.0450 - accuracy: 0.9858\n",
      "Epoch 00029: val_loss improved from 0.03474 to 0.03401, saving model to best_model.h5\n",
      "1080/1080 [==============================] - 23s 22ms/step - loss: 0.0450 - accuracy: 0.9858 - val_loss: 0.0340 - val_accuracy: 0.9907\n",
      "Epoch 30/60\n",
      "1079/1080 [============================>.] - ETA: 0s - loss: 0.0454 - accuracy: 0.9854\n",
      "Epoch 00030: val_loss improved from 0.03401 to 0.03273, saving model to best_model.h5\n",
      "1080/1080 [==============================] - 24s 22ms/step - loss: 0.0454 - accuracy: 0.9854 - val_loss: 0.0327 - val_accuracy: 0.9912\n",
      "Epoch 31/60\n",
      "1080/1080 [==============================] - ETA: 0s - loss: 0.0434 - accuracy: 0.9861\n",
      "Epoch 00031: val_loss did not improve from 0.03273\n",
      "1080/1080 [==============================] - 24s 22ms/step - loss: 0.0434 - accuracy: 0.9861 - val_loss: 0.0337 - val_accuracy: 0.9908\n",
      "Epoch 32/60\n",
      "1079/1080 [============================>.] - ETA: 0s - loss: 0.0423 - accuracy: 0.9865\n",
      "Epoch 00032: val_loss improved from 0.03273 to 0.03248, saving model to best_model.h5\n",
      "1080/1080 [==============================] - 24s 22ms/step - loss: 0.0423 - accuracy: 0.9864 - val_loss: 0.0325 - val_accuracy: 0.9907\n",
      "Epoch 33/60\n",
      "1080/1080 [==============================] - ETA: 0s - loss: 0.0419 - accuracy: 0.9866\n",
      "Epoch 00033: val_loss did not improve from 0.03248\n",
      "1080/1080 [==============================] - 24s 22ms/step - loss: 0.0419 - accuracy: 0.9866 - val_loss: 0.0366 - val_accuracy: 0.9898\n",
      "Epoch 34/60\n",
      "1080/1080 [==============================] - ETA: 0s - loss: 0.0406 - accuracy: 0.9866\n",
      "Epoch 00034: val_loss did not improve from 0.03248\n",
      "1080/1080 [==============================] - 23s 22ms/step - loss: 0.0406 - accuracy: 0.9866 - val_loss: 0.0326 - val_accuracy: 0.9907\n",
      "Epoch 35/60\n",
      "1080/1080 [==============================] - ETA: 0s - loss: 0.0404 - accuracy: 0.9872\n",
      "Epoch 00035: val_loss did not improve from 0.03248\n",
      "1080/1080 [==============================] - 32s 29ms/step - loss: 0.0404 - accuracy: 0.9872 - val_loss: 0.0334 - val_accuracy: 0.9910\n",
      "Epoch 36/60\n",
      "1080/1080 [==============================] - ETA: 0s - loss: 0.0396 - accuracy: 0.9873\n",
      "Epoch 00036: val_loss improved from 0.03248 to 0.03172, saving model to best_model.h5\n",
      "1080/1080 [==============================] - 31s 29ms/step - loss: 0.0396 - accuracy: 0.9873 - val_loss: 0.0317 - val_accuracy: 0.9910\n",
      "Epoch 37/60\n",
      "1079/1080 [============================>.] - ETA: 0s - loss: 0.0374 - accuracy: 0.9877\n",
      "Epoch 00037: val_loss improved from 0.03172 to 0.03091, saving model to best_model.h5\n",
      "1080/1080 [==============================] - 32s 30ms/step - loss: 0.0374 - accuracy: 0.9877 - val_loss: 0.0309 - val_accuracy: 0.9913\n",
      "Epoch 38/60\n",
      "1080/1080 [==============================] - ETA: 0s - loss: 0.0371 - accuracy: 0.9874\n",
      "Epoch 00038: val_loss did not improve from 0.03091\n",
      "1080/1080 [==============================] - 34s 32ms/step - loss: 0.0371 - accuracy: 0.9874 - val_loss: 0.0312 - val_accuracy: 0.9907\n",
      "Epoch 39/60\n",
      "1080/1080 [==============================] - ETA: 0s - loss: 0.0367 - accuracy: 0.9885\n",
      "Epoch 00039: val_loss improved from 0.03091 to 0.03068, saving model to best_model.h5\n",
      "1080/1080 [==============================] - 30s 28ms/step - loss: 0.0367 - accuracy: 0.9885 - val_loss: 0.0307 - val_accuracy: 0.9908\n",
      "Epoch 40/60\n",
      "1079/1080 [============================>.] - ETA: 0s - loss: 0.0376 - accuracy: 0.9883\n",
      "Epoch 00040: val_loss did not improve from 0.03068\n",
      "1080/1080 [==============================] - 28s 26ms/step - loss: 0.0376 - accuracy: 0.9883 - val_loss: 0.0310 - val_accuracy: 0.9918\n",
      "Epoch 41/60\n",
      "1078/1080 [============================>.] - ETA: 0s - loss: 0.0374 - accuracy: 0.9878\n",
      "Epoch 00041: val_loss did not improve from 0.03068\n",
      "1080/1080 [==============================] - 29s 27ms/step - loss: 0.0374 - accuracy: 0.9878 - val_loss: 0.0311 - val_accuracy: 0.9908\n",
      "Epoch 42/60\n",
      "1078/1080 [============================>.] - ETA: 0s - loss: 0.0353 - accuracy: 0.9884\n",
      "Epoch 00042: val_loss improved from 0.03068 to 0.03032, saving model to best_model.h5\n",
      "1080/1080 [==============================] - 24s 22ms/step - loss: 0.0353 - accuracy: 0.9884 - val_loss: 0.0303 - val_accuracy: 0.9910\n",
      "Epoch 43/60\n",
      "1078/1080 [============================>.] - ETA: 0s - loss: 0.0350 - accuracy: 0.9886\n",
      "Epoch 00043: val_loss did not improve from 0.03032\n",
      "1080/1080 [==============================] - 23s 22ms/step - loss: 0.0349 - accuracy: 0.9886 - val_loss: 0.0307 - val_accuracy: 0.9912\n",
      "Epoch 44/60\n",
      "1080/1080 [==============================] - ETA: 0s - loss: 0.0351 - accuracy: 0.9887\n",
      "Epoch 00044: val_loss improved from 0.03032 to 0.02946, saving model to best_model.h5\n",
      "1080/1080 [==============================] - 29s 27ms/step - loss: 0.0351 - accuracy: 0.9887 - val_loss: 0.0295 - val_accuracy: 0.9913\n",
      "Epoch 45/60\n",
      "1079/1080 [============================>.] - ETA: 0s - loss: 0.0330 - accuracy: 0.9888\n",
      "Epoch 00045: val_loss did not improve from 0.02946\n",
      "1080/1080 [==============================] - 37s 34ms/step - loss: 0.0330 - accuracy: 0.9888 - val_loss: 0.0309 - val_accuracy: 0.9905\n",
      "Epoch 46/60\n",
      "1079/1080 [============================>.] - ETA: 0s - loss: 0.0333 - accuracy: 0.9889\n",
      "Epoch 00046: val_loss improved from 0.02946 to 0.02804, saving model to best_model.h5\n",
      "1080/1080 [==============================] - 36s 33ms/step - loss: 0.0333 - accuracy: 0.9889 - val_loss: 0.0280 - val_accuracy: 0.9917\n",
      "Epoch 47/60\n",
      "1079/1080 [============================>.] - ETA: 0s - loss: 0.0325 - accuracy: 0.9893\n",
      "Epoch 00047: val_loss did not improve from 0.02804\n",
      "1080/1080 [==============================] - 36s 33ms/step - loss: 0.0325 - accuracy: 0.9893 - val_loss: 0.0299 - val_accuracy: 0.9915\n",
      "Epoch 48/60\n",
      "1079/1080 [============================>.] - ETA: 0s - loss: 0.0325 - accuracy: 0.9896\n",
      "Epoch 00048: val_loss did not improve from 0.02804\n",
      "1080/1080 [==============================] - 36s 33ms/step - loss: 0.0325 - accuracy: 0.9896 - val_loss: 0.0283 - val_accuracy: 0.9917\n",
      "Epoch 49/60\n",
      "1079/1080 [============================>.] - ETA: 0s - loss: 0.0326 - accuracy: 0.9894\n",
      "Epoch 00049: val_loss did not improve from 0.02804\n",
      "1080/1080 [==============================] - 38s 35ms/step - loss: 0.0326 - accuracy: 0.9894 - val_loss: 0.0297 - val_accuracy: 0.9912\n",
      "Epoch 50/60\n",
      "1080/1080 [==============================] - ETA: 0s - loss: 0.0320 - accuracy: 0.9895\n",
      "Epoch 00050: val_loss did not improve from 0.02804\n",
      "1080/1080 [==============================] - 41s 38ms/step - loss: 0.0320 - accuracy: 0.9895 - val_loss: 0.0294 - val_accuracy: 0.9905\n",
      "Epoch 51/60\n",
      "1079/1080 [============================>.] - ETA: 0s - loss: 0.0302 - accuracy: 0.9897\n",
      "Epoch 00051: val_loss did not improve from 0.02804\n",
      "1080/1080 [==============================] - 34s 32ms/step - loss: 0.0302 - accuracy: 0.9898 - val_loss: 0.0285 - val_accuracy: 0.9913\n",
      "Epoch 52/60\n",
      "1079/1080 [============================>.] - ETA: 0s - loss: 0.0309 - accuracy: 0.9901\n",
      "Epoch 00052: val_loss did not improve from 0.02804\n",
      "1080/1080 [==============================] - 33s 31ms/step - loss: 0.0309 - accuracy: 0.9901 - val_loss: 0.0281 - val_accuracy: 0.9915\n",
      "Epoch 53/60\n",
      "1080/1080 [==============================] - ETA: 0s - loss: 0.0293 - accuracy: 0.9903\n",
      "Epoch 00053: val_loss did not improve from 0.02804\n",
      "1080/1080 [==============================] - 30s 28ms/step - loss: 0.0293 - accuracy: 0.9903 - val_loss: 0.0297 - val_accuracy: 0.9912\n",
      "Epoch 54/60\n",
      "1079/1080 [============================>.] - ETA: 0s - loss: 0.0290 - accuracy: 0.9904\n",
      "Epoch 00054: val_loss did not improve from 0.02804\n",
      "1080/1080 [==============================] - 30s 28ms/step - loss: 0.0289 - accuracy: 0.9904 - val_loss: 0.0288 - val_accuracy: 0.9908\n",
      "Epoch 55/60\n",
      "1080/1080 [==============================] - ETA: 0s - loss: 0.0299 - accuracy: 0.9902\n",
      "Epoch 00055: val_loss did not improve from 0.02804\n",
      "1080/1080 [==============================] - 30s 28ms/step - loss: 0.0299 - accuracy: 0.9902 - val_loss: 0.0284 - val_accuracy: 0.9920\n",
      "Epoch 56/60\n",
      "1080/1080 [==============================] - ETA: 0s - loss: 0.0284 - accuracy: 0.9909\n",
      "Epoch 00056: val_loss did not improve from 0.02804\n",
      "1080/1080 [==============================] - 29s 27ms/step - loss: 0.0284 - accuracy: 0.9909 - val_loss: 0.0283 - val_accuracy: 0.9913\n",
      "Epoch 57/60\n",
      "1079/1080 [============================>.] - ETA: 0s - loss: 0.0272 - accuracy: 0.9908\n",
      "Epoch 00057: val_loss did not improve from 0.02804\n",
      "1080/1080 [==============================] - 40s 37ms/step - loss: 0.0272 - accuracy: 0.9908 - val_loss: 0.0286 - val_accuracy: 0.9912\n",
      "Epoch 58/60\n",
      "1079/1080 [============================>.] - ETA: 0s - loss: 0.0274 - accuracy: 0.9909\n",
      "Epoch 00058: val_loss improved from 0.02804 to 0.02651, saving model to best_model.h5\n",
      "1080/1080 [==============================] - 41s 38ms/step - loss: 0.0274 - accuracy: 0.9909 - val_loss: 0.0265 - val_accuracy: 0.9920\n",
      "Epoch 59/60\n",
      "1079/1080 [============================>.] - ETA: 0s - loss: 0.0273 - accuracy: 0.9910\n",
      "Epoch 00059: val_loss did not improve from 0.02651\n",
      "1080/1080 [==============================] - 42s 38ms/step - loss: 0.0273 - accuracy: 0.9910 - val_loss: 0.0278 - val_accuracy: 0.9917\n",
      "Epoch 60/60\n",
      "1080/1080 [==============================] - ETA: 0s - loss: 0.0271 - accuracy: 0.9911\n",
      "Epoch 00060: val_loss did not improve from 0.02651\n",
      "1080/1080 [==============================] - 41s 38ms/step - loss: 0.0271 - accuracy: 0.9911 - val_loss: 0.0283 - val_accuracy: 0.9917\n"
     ]
    },
    {
     "data": {
      "text/plain": [
       "<tensorflow.python.keras.callbacks.History at 0x7fa623a1ddc0>"
      ]
     },
     "execution_count": 22,
     "metadata": {},
     "output_type": "execute_result"
    }
   ],
   "source": [
    "classifier.fit(X_train, y_train, validation_split=validation_split, batch_size=batch_size, epochs=epochs, callbacks=[checkpoint,earlystop], verbose=1)"
   ]
  },
  {
   "cell_type": "markdown",
   "metadata": {},
   "source": [
    "## 6. Avaliando o modelo"
   ]
  },
  {
   "cell_type": "code",
   "execution_count": 7,
   "metadata": {},
   "outputs": [],
   "source": [
    "best_model = keras.models.load_model(\"best_model.h5\")"
   ]
  },
  {
   "cell_type": "code",
   "execution_count": 13,
   "metadata": {},
   "outputs": [
    {
     "name": "stdout",
     "output_type": "stream",
     "text": [
      "Test loss: 0.023409845307469368\n",
      "Test accuracy: 0.9916999936103821\n"
     ]
    }
   ],
   "source": [
    "score = best_model.evaluate(X_test, y_test, verbose=0)\n",
    "print(\"Test loss:\", score[0])\n",
    "print(\"Test accuracy:\", score[1])"
   ]
  },
  {
   "cell_type": "markdown",
   "metadata": {},
   "source": [
    "𝐴𝑡𝑖𝑣𝑖𝑑𝑎𝑑𝑒(2.5):  Treinar e Avaliar a arquitetura adaptada para o conjunto de imagens de animais (gato, cachorro e panda)\n",
    "\n",
    "1. Modifiquem os hiperparâmetros: epochs, batch_size e optimizer a fim de melhorar a acurácia de validação. Quando alcançar um conjunto, avaliar o desempenho de classificação do melhor modelo com os dados de teste;\n",
    "2. Modificar a arquitetura: inserir e remover camadas, alterar profundidade das camadas e comparar os resultados de classificação no conjunto de teste com aquele alcançado no item 1. "
   ]
  }
 ],
 "metadata": {
  "kernelspec": {
   "display_name": "Python 3",
   "language": "python",
   "name": "python3"
  },
  "language_info": {
   "codemirror_mode": {
    "name": "ipython",
    "version": 3
   },
   "file_extension": ".py",
   "mimetype": "text/x-python",
   "name": "python",
   "nbconvert_exporter": "python",
   "pygments_lexer": "ipython3",
   "version": "3.7.6"
  }
 },
 "nbformat": 4,
 "nbformat_minor": 4
}
