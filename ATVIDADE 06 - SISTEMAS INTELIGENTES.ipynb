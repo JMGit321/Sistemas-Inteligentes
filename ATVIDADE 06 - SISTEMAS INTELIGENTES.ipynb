{
 "cells": [
  {
   "cell_type": "markdown",
   "metadata": {},
   "source": [
    "## Importanto bibliotecas"
   ]
  },
  {
   "cell_type": "code",
   "execution_count": 328,
   "metadata": {},
   "outputs": [],
   "source": [
    "import pandas as pd\n",
    "import numpy as np\n",
    "import matplotlib.pyplot as plt\n",
    "import tensorflow as tf\n",
    "from tensorflow import keras"
   ]
  },
  {
   "cell_type": "markdown",
   "metadata": {},
   "source": [
    "## Adquirindo dados"
   ]
  },
  {
   "cell_type": "code",
   "execution_count": 329,
   "metadata": {},
   "outputs": [],
   "source": [
    "(x_train, y_train), (x_test,y_test) = (keras.datasets.mnist.load_data())\n"
   ]
  },
  {
   "cell_type": "code",
   "execution_count": 330,
   "metadata": {},
   "outputs": [
    {
     "data": {
      "image/png": "[encoded data removed]",
      "text/plain": [
       "<Figure size 432x288 with 1 Axes>"
      ]
     },
     "metadata": {
      "needs_background": "light"
     },
     "output_type": "display_data"
    }
   ],
   "source": [
    "plt.imshow(x_train[2].reshape(28,28),cmap='binary')\n",
    "plt.show()"
   ]
  },
  {
   "cell_type": "code",
   "execution_count": 331,
   "metadata": {},
   "outputs": [],
   "source": [
    "class_names = ['Um','Dois','Três','Quatro','Cinco','Seis','Sete','Oito','Nove']"
   ]
  },
  {
   "cell_type": "code",
   "execution_count": 332,
   "metadata": {},
   "outputs": [
    {
     "data": {
      "image/png": "[encoded data removed]",
      "text/plain": [
       "<Figure size 259.2x259.2 with 9 Axes>"
      ]
     },
     "metadata": {
      "needs_background": "light"
     },
     "output_type": "display_data"
    }
   ],
   "source": [
    "n_linhas = 3\n",
    "n_colunas = 3\n",
    "plt.figure(figsize=(n_linhas*1.2,n_colunas*1.2))\n",
    "for i in range(n_linhas):\n",
    "    for j in range(n_colunas): \n",
    "        index = n_colunas * i + j \n",
    "        plt.subplot(n_linhas,n_colunas,index+1)\n",
    "        plt.imshow(x_train[index],cmap='binary')\n",
    "        plt.axis('off')\n",
    "        \n",
    "plt.subplots_adjust(wspace=1,hspace=0.5)\n",
    "plt.show()"
   ]
  },
  {
   "cell_type": "markdown",
   "metadata": {},
   "source": [
    "## Pré-processamento"
   ]
  },
  {
   "cell_type": "code",
   "execution_count": 333,
   "metadata": {},
   "outputs": [],
   "source": [
    "#convertendo pixels de 0 a 255 para 0 e 1\n",
    "x_valid,x_train = x_train[:5000]/255,x_train[5000:]/255\n",
    "y_valid,y_train = y_train[:5000],y_train[5000:]\n",
    "x_test = x_test/ 255"
   ]
  },
  {
   "cell_type": "markdown",
   "metadata": {},
   "source": [
    "## Criando arquitetura"
   ]
  },
  {
   "cell_type": "code",
   "execution_count": 334,
   "metadata": {},
   "outputs": [],
   "source": [
    "model = keras.models.Sequential()\n",
    "model.add(keras.layers.Flatten(input_shape=[28,28]))\n",
    "model.add(keras.layers.Dense(300, activation='relu'))\n",
    "model.add(keras.layers.Dense(100,activation='relu'))\n",
    "model.add(keras.layers.Dense(10,activation='softmax'))"
   ]
  },
  {
   "cell_type": "code",
   "execution_count": 335,
   "metadata": {},
   "outputs": [
    {
     "data": {
      "text/plain": [
       "<tensorflow.python.keras.engine.sequential.Sequential at 0x1a28182da48>"
      ]
     },
     "execution_count": 335,
     "metadata": {},
     "output_type": "execute_result"
    }
   ],
   "source": [
    "model"
   ]
  },
  {
   "cell_type": "code",
   "execution_count": 336,
   "metadata": {
    "scrolled": true
   },
   "outputs": [
    {
     "name": "stdout",
     "output_type": "stream",
     "text": [
      "Model: \"sequential_13\"\n",
      "_________________________________________________________________\n",
      "Layer (type)                 Output Shape              Param #   \n",
      "=================================================================\n",
      "flatten_12 (Flatten)         (None, 784)               0         \n",
      "_________________________________________________________________\n",
      "dense_36 (Dense)             (None, 300)               235500    \n",
      "_________________________________________________________________\n",
      "dense_37 (Dense)             (None, 100)               30100     \n",
      "_________________________________________________________________\n",
      "dense_38 (Dense)             (None, 10)                1010      \n",
      "=================================================================\n",
      "Total params: 266,610\n",
      "Trainable params: 266,610\n",
      "Non-trainable params: 0\n",
      "_________________________________________________________________\n"
     ]
    }
   ],
   "source": [
    "model.summary()"
   ]
  },
  {
   "cell_type": "code",
   "execution_count": 337,
   "metadata": {},
   "outputs": [],
   "source": [
    "hidden1 = model.layers[1]"
   ]
  },
  {
   "cell_type": "code",
   "execution_count": 338,
   "metadata": {},
   "outputs": [],
   "source": [
    "weights, biases = hidden1.get_weights()"
   ]
  },
  {
   "cell_type": "code",
   "execution_count": 339,
   "metadata": {},
   "outputs": [
    {
     "data": {
      "text/plain": [
       "(784, 300)"
      ]
     },
     "execution_count": 339,
     "metadata": {},
     "output_type": "execute_result"
    }
   ],
   "source": [
    "weights.shape"
   ]
  },
  {
   "cell_type": "code",
   "execution_count": 340,
   "metadata": {},
   "outputs": [
    {
     "data": {
      "text/plain": [
       "(300,)"
      ]
     },
     "execution_count": 340,
     "metadata": {},
     "output_type": "execute_result"
    }
   ],
   "source": [
    "biases.shape"
   ]
  },
  {
   "cell_type": "code",
   "execution_count": 341,
   "metadata": {},
   "outputs": [],
   "source": [
    "hidden2 = model.layers[2]"
   ]
  },
  {
   "cell_type": "code",
   "execution_count": 342,
   "metadata": {},
   "outputs": [],
   "source": [
    "weights,biases = hidden2.get_weights()"
   ]
  },
  {
   "cell_type": "code",
   "execution_count": 343,
   "metadata": {},
   "outputs": [
    {
     "data": {
      "text/plain": [
       "(300, 100)"
      ]
     },
     "execution_count": 343,
     "metadata": {},
     "output_type": "execute_result"
    }
   ],
   "source": [
    "weights.shape"
   ]
  },
  {
   "cell_type": "code",
   "execution_count": 344,
   "metadata": {},
   "outputs": [
    {
     "data": {
      "text/plain": [
       "(100,)"
      ]
     },
     "execution_count": 344,
     "metadata": {},
     "output_type": "execute_result"
    }
   ],
   "source": [
    "biases.shape"
   ]
  },
  {
   "cell_type": "code",
   "execution_count": 345,
   "metadata": {},
   "outputs": [],
   "source": [
    "output = model.layers[3]"
   ]
  },
  {
   "cell_type": "code",
   "execution_count": 346,
   "metadata": {},
   "outputs": [],
   "source": [
    "weights,biases = output.get_weights()"
   ]
  },
  {
   "cell_type": "code",
   "execution_count": 347,
   "metadata": {},
   "outputs": [
    {
     "data": {
      "text/plain": [
       "(100, 10)"
      ]
     },
     "execution_count": 347,
     "metadata": {},
     "output_type": "execute_result"
    }
   ],
   "source": [
    "weights.shape"
   ]
  },
  {
   "cell_type": "code",
   "execution_count": 348,
   "metadata": {},
   "outputs": [
    {
     "data": {
      "text/plain": [
       "(10,)"
      ]
     },
     "execution_count": 348,
     "metadata": {},
     "output_type": "execute_result"
    }
   ],
   "source": [
    "biases.shape"
   ]
  },
  {
   "cell_type": "markdown",
   "metadata": {},
   "source": [
    "## Treinando a rede"
   ]
  },
  {
   "cell_type": "code",
   "execution_count": 349,
   "metadata": {},
   "outputs": [],
   "source": [
    "model.compile(loss='sparse_categorical_crossentropy', optimizer='sgd',metrics=['accuracy'])"
   ]
  },
  {
   "cell_type": "code",
   "execution_count": 350,
   "metadata": {
    "scrolled": false
   },
   "outputs": [
    {
     "name": "stdout",
     "output_type": "stream",
     "text": [
      "Train on 55000 samples, validate on 5000 samples\n",
      "Epoch 1/40\n",
      "55000/55000 [==============================] - 5s 96us/sample - loss: 0.5931 - acc: 0.8474 - val_loss: 0.3154 - val_acc: 0.9152\n",
      "Epoch 2/40\n",
      "55000/55000 [==============================] - 5s 87us/sample - loss: 0.2906 - acc: 0.9173 - val_loss: 0.2429 - val_acc: 0.9344\n",
      "Epoch 3/40\n",
      "55000/55000 [==============================] - 5s 88us/sample - loss: 0.2383 - acc: 0.9329 - val_loss: 0.2050 - val_acc: 0.9428\n",
      "Epoch 4/40\n",
      "55000/55000 [==============================] - 5s 89us/sample - loss: 0.2032 - acc: 0.9425 - val_loss: 0.1769 - val_acc: 0.9526\n",
      "Epoch 5/40\n",
      "55000/55000 [==============================] - 5s 87us/sample - loss: 0.1770 - acc: 0.9501 - val_loss: 0.1572 - val_acc: 0.9554\n",
      "Epoch 6/40\n",
      "55000/55000 [==============================] - 5s 87us/sample - loss: 0.1564 - acc: 0.9559 - val_loss: 0.1438 - val_acc: 0.9612\n",
      "Epoch 7/40\n",
      "55000/55000 [==============================] - 5s 86us/sample - loss: 0.1399 - acc: 0.9609 - val_loss: 0.1340 - val_acc: 0.9636\n",
      "Epoch 8/40\n",
      "55000/55000 [==============================] - 5s 88us/sample - loss: 0.1262 - acc: 0.9643 - val_loss: 0.1234 - val_acc: 0.9650\n",
      "Epoch 9/40\n",
      "55000/55000 [==============================] - 5s 89us/sample - loss: 0.1149 - acc: 0.9678 - val_loss: 0.1180 - val_acc: 0.9660\n",
      "Epoch 10/40\n",
      "55000/55000 [==============================] - 5s 95us/sample - loss: 0.1050 - acc: 0.9704 - val_loss: 0.1098 - val_acc: 0.9690\n",
      "Epoch 11/40\n",
      "55000/55000 [==============================] - 5s 98us/sample - loss: 0.0966 - acc: 0.9732 - val_loss: 0.1009 - val_acc: 0.9718\n",
      "Epoch 12/40\n",
      "55000/55000 [==============================] - 5s 93us/sample - loss: 0.0889 - acc: 0.9752 - val_loss: 0.0982 - val_acc: 0.9724\n",
      "Epoch 13/40\n",
      "55000/55000 [==============================] - 5s 95us/sample - loss: 0.0822 - acc: 0.9772 - val_loss: 0.0960 - val_acc: 0.9738\n",
      "Epoch 14/40\n",
      "55000/55000 [==============================] - 5s 100us/sample - loss: 0.0764 - acc: 0.9786 - val_loss: 0.0892 - val_acc: 0.9742\n",
      "Epoch 15/40\n",
      "55000/55000 [==============================] - 5s 98us/sample - loss: 0.0710 - acc: 0.9806 - val_loss: 0.0862 - val_acc: 0.9756\n",
      "Epoch 16/40\n",
      "55000/55000 [==============================] - 5s 88us/sample - loss: 0.0664 - acc: 0.9818 - val_loss: 0.0865 - val_acc: 0.9754\n",
      "Epoch 17/40\n",
      "55000/55000 [==============================] - 5s 86us/sample - loss: 0.0620 - acc: 0.9829 - val_loss: 0.0817 - val_acc: 0.9774\n",
      "Epoch 18/40\n",
      "55000/55000 [==============================] - 5s 86us/sample - loss: 0.0578 - acc: 0.9845 - val_loss: 0.0795 - val_acc: 0.9768\n",
      "Epoch 19/40\n",
      "55000/55000 [==============================] - 5s 91us/sample - loss: 0.0541 - acc: 0.9856 - val_loss: 0.0774 - val_acc: 0.9776\n",
      "Epoch 20/40\n",
      "55000/55000 [==============================] - 5s 88us/sample - loss: 0.0509 - acc: 0.9865 - val_loss: 0.0780 - val_acc: 0.9774\n",
      "Epoch 21/40\n",
      "55000/55000 [==============================] - 5s 91us/sample - loss: 0.0478 - acc: 0.9879 - val_loss: 0.0727 - val_acc: 0.9782\n",
      "Epoch 22/40\n",
      "55000/55000 [==============================] - 5s 89us/sample - loss: 0.0451 - acc: 0.9884 - val_loss: 0.0711 - val_acc: 0.9792\n",
      "Epoch 23/40\n",
      "55000/55000 [==============================] - 5s 88us/sample - loss: 0.0424 - acc: 0.9891 - val_loss: 0.0713 - val_acc: 0.9786\n",
      "Epoch 24/40\n",
      "55000/55000 [==============================] - 5s 86us/sample - loss: 0.0398 - acc: 0.9898 - val_loss: 0.0692 - val_acc: 0.9788\n",
      "Epoch 25/40\n",
      "55000/55000 [==============================] - 5s 87us/sample - loss: 0.0375 - acc: 0.9907 - val_loss: 0.0696 - val_acc: 0.9790\n",
      "Epoch 26/40\n",
      "55000/55000 [==============================] - 5s 90us/sample - loss: 0.0355 - acc: 0.9909 - val_loss: 0.0678 - val_acc: 0.9786\n",
      "Epoch 27/40\n",
      "55000/55000 [==============================] - 5s 87us/sample - loss: 0.0334 - acc: 0.9917 - val_loss: 0.0676 - val_acc: 0.9794\n",
      "Epoch 28/40\n",
      "55000/55000 [==============================] - 5s 86us/sample - loss: 0.0314 - acc: 0.9925 - val_loss: 0.0684 - val_acc: 0.9804\n",
      "Epoch 29/40\n",
      "55000/55000 [==============================] - 5s 85us/sample - loss: 0.0298 - acc: 0.9929 - val_loss: 0.0656 - val_acc: 0.9808\n",
      "Epoch 30/40\n",
      "55000/55000 [==============================] - 5s 89us/sample - loss: 0.0280 - acc: 0.9935 - val_loss: 0.0675 - val_acc: 0.9796\n",
      "Epoch 31/40\n",
      "55000/55000 [==============================] - 5s 88us/sample - loss: 0.0264 - acc: 0.9942 - val_loss: 0.0655 - val_acc: 0.9810\n",
      "Epoch 32/40\n",
      "55000/55000 [==============================] - 5s 91us/sample - loss: 0.0251 - acc: 0.9945 - val_loss: 0.0668 - val_acc: 0.9810\n",
      "Epoch 33/40\n",
      "55000/55000 [==============================] - 5s 88us/sample - loss: 0.0236 - acc: 0.9950 - val_loss: 0.0650 - val_acc: 0.9808\n",
      "Epoch 34/40\n",
      "55000/55000 [==============================] - 5s 92us/sample - loss: 0.0224 - acc: 0.9956 - val_loss: 0.0658 - val_acc: 0.9816\n",
      "Epoch 35/40\n",
      "55000/55000 [==============================] - 5s 90us/sample - loss: 0.0211 - acc: 0.9956 - val_loss: 0.0653 - val_acc: 0.9812\n",
      "Epoch 36/40\n",
      "55000/55000 [==============================] - 5s 91us/sample - loss: 0.0200 - acc: 0.9963 - val_loss: 0.0653 - val_acc: 0.9816\n",
      "Epoch 37/40\n",
      "55000/55000 [==============================] - 5s 93us/sample - loss: 0.0189 - acc: 0.9965 - val_loss: 0.0639 - val_acc: 0.9822\n",
      "Epoch 38/40\n",
      "55000/55000 [==============================] - 5s 93us/sample - loss: 0.0180 - acc: 0.9968 - val_loss: 0.0655 - val_acc: 0.9810\n",
      "Epoch 39/40\n",
      "55000/55000 [==============================] - 5s 87us/sample - loss: 0.0171 - acc: 0.9973 - val_loss: 0.0637 - val_acc: 0.9818\n",
      "Epoch 40/40\n",
      "55000/55000 [==============================] - 5s 86us/sample - loss: 0.0161 - acc: 0.9975 - val_loss: 0.0641 - val_acc: 0.9824\n"
     ]
    }
   ],
   "source": [
    "history = model.fit(x_train,y_train, epochs=40 , validation_data=(x_valid,y_valid))"
   ]
  },
  {
   "cell_type": "code",
   "execution_count": 351,
   "metadata": {},
   "outputs": [
    {
     "data": {
      "image/png": "[encoded data removed]",
      "text/plain": [
       "<Figure size 576x360 with 1 Axes>"
      ]
     },
     "metadata": {
      "needs_background": "light"
     },
     "output_type": "display_data"
    }
   ],
   "source": [
    "pd.DataFrame(history.history).plot(figsize=(8,5))\n",
    "plt.xlabel('Número de epocas de treinamento')\n",
    "plt.ylabel('Desempenho do treinamento')\n",
    "plt.grid(True)\n",
    "plt.show()"
   ]
  },
  {
   "cell_type": "markdown",
   "metadata": {},
   "source": [
    "## Testando o modelo"
   ]
  },
  {
   "cell_type": "code",
   "execution_count": 352,
   "metadata": {},
   "outputs": [
    {
     "name": "stdout",
     "output_type": "stream",
     "text": [
      "10000/10000 [==============================] - 0s 46us/sample - loss: 0.0649 - acc: 0.9805\n"
     ]
    },
    {
     "data": {
      "text/plain": [
       "[0.06485029282048345, 0.9805]"
      ]
     },
     "execution_count": 352,
     "metadata": {},
     "output_type": "execute_result"
    }
   ],
   "source": [
    "model.evaluate(x_test,y_test)"
   ]
  },
  {
   "cell_type": "code",
   "execution_count": 353,
   "metadata": {},
   "outputs": [
    {
     "data": {
      "text/plain": [
       "array([[0.  , 0.  , 0.  , 0.  , 0.  , 0.  , 0.  , 1.  , 0.  , 0.  ],\n",
       "       [0.  , 0.  , 1.  , 0.  , 0.  , 0.  , 0.  , 0.  , 0.  , 0.  ],\n",
       "       [0.  , 1.  , 0.  , 0.  , 0.  , 0.  , 0.  , 0.  , 0.  , 0.  ],\n",
       "       [1.  , 0.  , 0.  , 0.  , 0.  , 0.  , 0.  , 0.  , 0.  , 0.  ],\n",
       "       [0.  , 0.  , 0.  , 0.  , 1.  , 0.  , 0.  , 0.  , 0.  , 0.  ],\n",
       "       [0.  , 1.  , 0.  , 0.  , 0.  , 0.  , 0.  , 0.  , 0.  , 0.  ],\n",
       "       [0.  , 0.  , 0.  , 0.  , 0.99, 0.  , 0.  , 0.  , 0.01, 0.  ],\n",
       "       [0.  , 0.  , 0.  , 0.  , 0.  , 0.  , 0.  , 0.  , 0.  , 1.  ],\n",
       "       [0.  , 0.  , 0.  , 0.  , 0.  , 0.86, 0.13, 0.  , 0.  , 0.  ],\n",
       "       [0.  , 0.  , 0.  , 0.  , 0.  , 0.  , 0.  , 0.  , 0.  , 1.  ]],\n",
       "      dtype=float32)"
      ]
     },
     "execution_count": 353,
     "metadata": {},
     "output_type": "execute_result"
    }
   ],
   "source": [
    "x_new = x_test[:10]\n",
    "y_proba = model.predict(x_new)\n",
    "y_proba.round(2)"
   ]
  },
  {
   "cell_type": "code",
   "execution_count": 354,
   "metadata": {},
   "outputs": [
    {
     "data": {
      "text/plain": [
       "array([7, 2, 1, ..., 4, 5, 6], dtype=int64)"
      ]
     },
     "execution_count": 354,
     "metadata": {},
     "output_type": "execute_result"
    }
   ],
   "source": [
    "#Pega a posição do maior valor da linha\n",
    "y_pred = np.argmax(model.predict(x_test),axis=-1)\n",
    "y_pred"
   ]
  },
  {
   "cell_type": "code",
   "execution_count": 355,
   "metadata": {},
   "outputs": [
    {
     "name": "stdout",
     "output_type": "stream",
     "text": [
      "Acurácia: 0.9805\n",
      "Kappa: 0.9783250563948687\n",
      "Matriz de confusão:\n",
      "[[ 970    0    1    1    1    2    1    1    2    1]\n",
      " [   0 1121    2    1    0    1    3    2    5    0]\n",
      " [   4    1 1011    0    1    0    2    6    7    0]\n",
      " [   1    1    4  989    0    4    0    4    5    2]\n",
      " [   0    0    3    0  971    0    1    1    1    5]\n",
      " [   2    0    0    7    1  873    3    1    3    2]\n",
      " [   4    3    0    1    4    3  941    0    2    0]\n",
      " [   2    1    7    2    2    0    0 1003    4    7]\n",
      " [   3    1    5    5    3    4    3    3  942    5]\n",
      " [   3    2    0    5    7    2    1    2    3  984]]\n"
     ]
    }
   ],
   "source": [
    "from sklearn.metrics import confusion_matrix, accuracy_score, cohen_kappa_score\n",
    "print('Acurácia:',accuracy_score(y_test,y_pred))\n",
    "print('Kappa:',cohen_kappa_score(y_test,y_pred))\n",
    "print(\"Matriz de confusão:\")\n",
    "print(confusion_matrix(y_test,y_pred))"
   ]
  },
  {
   "cell_type": "markdown",
   "metadata": {},
   "source": [
    "## Salvando o modelo"
   ]
  },
  {
   "cell_type": "code",
   "execution_count": 356,
   "metadata": {},
   "outputs": [],
   "source": [
    "model.save('modelo_mlp.h5')"
   ]
  },
  {
   "cell_type": "code",
   "execution_count": 357,
   "metadata": {},
   "outputs": [],
   "source": [
    "model = keras.models.load_model('modelo_mlp.h5')"
   ]
  },
  {
   "cell_type": "code",
   "execution_count": 358,
   "metadata": {},
   "outputs": [
    {
     "data": {
      "text/plain": [
       "array([7, 2, 1, ..., 4, 5, 6], dtype=int64)"
      ]
     },
     "execution_count": 358,
     "metadata": {},
     "output_type": "execute_result"
    }
   ],
   "source": [
    "np.argmax(model.predict(x_test),axis=-1)"
   ]
  },
  {
   "cell_type": "code",
   "execution_count": 359,
   "metadata": {},
   "outputs": [],
   "source": [
    "checkpoint = keras.callbacks.ModelCheckpoint('melhor_modelo_mpl.h5',save_best_only=True)"
   ]
  },
  {
   "cell_type": "code",
   "execution_count": null,
   "metadata": {
    "scrolled": true
   },
   "outputs": [
    {
     "name": "stdout",
     "output_type": "stream",
     "text": [
      "Train on 55000 samples, validate on 5000 samples\n",
      "Epoch 1/10\n",
      "55000/55000 [==============================] - 6s 101us/sample - loss: 0.0154 - acc: 0.9976 - val_loss: 0.0660 - val_acc: 0.9822\n",
      "Epoch 2/10\n",
      "55000/55000 [==============================] - 5s 91us/sample - loss: 0.0147 - acc: 0.9978 - val_loss: 0.0650 - val_acc: 0.9814\n",
      "Epoch 3/10\n",
      "55000/55000 [==============================] - 5s 89us/sample - loss: 0.0139 - acc: 0.9983 - val_loss: 0.0652 - val_acc: 0.9820\n",
      "Epoch 4/10\n",
      "55000/55000 [==============================] - 5s 89us/sample - loss: 0.0132 - acc: 0.9984 - val_loss: 0.0645 - val_acc: 0.9820\n",
      "Epoch 5/10\n",
      "55000/55000 [==============================] - 5s 94us/sample - loss: 0.0126 - acc: 0.9985 - val_loss: 0.0641 - val_acc: 0.9814\n",
      "Epoch 6/10\n",
      "55000/55000 [==============================] - 5s 91us/sample - loss: 0.0119 - acc: 0.9987 - val_loss: 0.0651 - val_acc: 0.9822\n",
      "Epoch 7/10\n",
      "55000/55000 [==============================] - 5s 90us/sample - loss: 0.0114 - acc: 0.9989 - val_loss: 0.0644 - val_acc: 0.9828\n",
      "Epoch 8/10\n",
      " 4288/55000 [=>............................] - ETA: 4s - loss: 0.0088 - acc: 0.9998"
     ]
    }
   ],
   "source": [
    "history = model.fit(x_train,y_train,epochs=10,validation_data=(x_valid,y_valid),callbacks=[checkpoint])"
   ]
  },
  {
   "cell_type": "code",
   "execution_count": null,
   "metadata": {},
   "outputs": [],
   "source": []
  },
  {
   "cell_type": "code",
   "execution_count": null,
   "metadata": {},
   "outputs": [],
   "source": []
  },
  {
   "cell_type": "code",
   "execution_count": null,
   "metadata": {},
   "outputs": [],
   "source": []
  }
 ],
 "metadata": {
  "kernelspec": {
   "display_name": "Python 3",
   "language": "python",
   "name": "python3"
  },
  "language_info": {
   "codemirror_mode": {
    "name": "ipython",
    "version": 3
   },
   "file_extension": ".py",
   "mimetype": "text/x-python",
   "name": "python",
   "nbconvert_exporter": "python",
   "pygments_lexer": "ipython3",
   "version": "3.7.6"
  }
 },
 "nbformat": 4,
 "nbformat_minor": 4
}
