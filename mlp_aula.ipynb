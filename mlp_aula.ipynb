{
 "cells": [
  {
   "cell_type": "markdown",
   "metadata": {},
   "source": [
    "# Introdução a Redes neurais com MLP"
   ]
  },
  {
   "cell_type": "markdown",
   "metadata": {},
   "source": [
    "## Importando as bibliotecas"
   ]
  },
  {
   "cell_type": "code",
   "execution_count": 1,
   "metadata": {},
   "outputs": [
    {
     "name": "stderr",
     "output_type": "stream",
     "text": [
      "C:\\conda\\lib\\site-packages\\tensorflow\\python\\framework\\dtypes.py:516: FutureWarning: Passing (type, 1) or '1type' as a synonym of type is deprecated; in a future version of numpy, it will be understood as (type, (1,)) / '(1,)type'.\n",
      "  _np_qint8 = np.dtype([(\"qint8\", np.int8, 1)])\n",
      "C:\\conda\\lib\\site-packages\\tensorflow\\python\\framework\\dtypes.py:517: FutureWarning: Passing (type, 1) or '1type' as a synonym of type is deprecated; in a future version of numpy, it will be understood as (type, (1,)) / '(1,)type'.\n",
      "  _np_quint8 = np.dtype([(\"quint8\", np.uint8, 1)])\n",
      "C:\\conda\\lib\\site-packages\\tensorflow\\python\\framework\\dtypes.py:518: FutureWarning: Passing (type, 1) or '1type' as a synonym of type is deprecated; in a future version of numpy, it will be understood as (type, (1,)) / '(1,)type'.\n",
      "  _np_qint16 = np.dtype([(\"qint16\", np.int16, 1)])\n",
      "C:\\conda\\lib\\site-packages\\tensorflow\\python\\framework\\dtypes.py:519: FutureWarning: Passing (type, 1) or '1type' as a synonym of type is deprecated; in a future version of numpy, it will be understood as (type, (1,)) / '(1,)type'.\n",
      "  _np_quint16 = np.dtype([(\"quint16\", np.uint16, 1)])\n",
      "C:\\conda\\lib\\site-packages\\tensorflow\\python\\framework\\dtypes.py:520: FutureWarning: Passing (type, 1) or '1type' as a synonym of type is deprecated; in a future version of numpy, it will be understood as (type, (1,)) / '(1,)type'.\n",
      "  _np_qint32 = np.dtype([(\"qint32\", np.int32, 1)])\n",
      "C:\\conda\\lib\\site-packages\\tensorflow\\python\\framework\\dtypes.py:525: FutureWarning: Passing (type, 1) or '1type' as a synonym of type is deprecated; in a future version of numpy, it will be understood as (type, (1,)) / '(1,)type'.\n",
      "  np_resource = np.dtype([(\"resource\", np.ubyte, 1)])\n",
      "C:\\conda\\lib\\site-packages\\tensorboard\\compat\\tensorflow_stub\\dtypes.py:541: FutureWarning: Passing (type, 1) or '1type' as a synonym of type is deprecated; in a future version of numpy, it will be understood as (type, (1,)) / '(1,)type'.\n",
      "  _np_qint8 = np.dtype([(\"qint8\", np.int8, 1)])\n",
      "C:\\conda\\lib\\site-packages\\tensorboard\\compat\\tensorflow_stub\\dtypes.py:542: FutureWarning: Passing (type, 1) or '1type' as a synonym of type is deprecated; in a future version of numpy, it will be understood as (type, (1,)) / '(1,)type'.\n",
      "  _np_quint8 = np.dtype([(\"quint8\", np.uint8, 1)])\n",
      "C:\\conda\\lib\\site-packages\\tensorboard\\compat\\tensorflow_stub\\dtypes.py:543: FutureWarning: Passing (type, 1) or '1type' as a synonym of type is deprecated; in a future version of numpy, it will be understood as (type, (1,)) / '(1,)type'.\n",
      "  _np_qint16 = np.dtype([(\"qint16\", np.int16, 1)])\n",
      "C:\\conda\\lib\\site-packages\\tensorboard\\compat\\tensorflow_stub\\dtypes.py:544: FutureWarning: Passing (type, 1) or '1type' as a synonym of type is deprecated; in a future version of numpy, it will be understood as (type, (1,)) / '(1,)type'.\n",
      "  _np_quint16 = np.dtype([(\"quint16\", np.uint16, 1)])\n",
      "C:\\conda\\lib\\site-packages\\tensorboard\\compat\\tensorflow_stub\\dtypes.py:545: FutureWarning: Passing (type, 1) or '1type' as a synonym of type is deprecated; in a future version of numpy, it will be understood as (type, (1,)) / '(1,)type'.\n",
      "  _np_qint32 = np.dtype([(\"qint32\", np.int32, 1)])\n",
      "C:\\conda\\lib\\site-packages\\tensorboard\\compat\\tensorflow_stub\\dtypes.py:550: FutureWarning: Passing (type, 1) or '1type' as a synonym of type is deprecated; in a future version of numpy, it will be understood as (type, (1,)) / '(1,)type'.\n",
      "  np_resource = np.dtype([(\"resource\", np.ubyte, 1)])\n"
     ]
    }
   ],
   "source": [
    "import pandas as pd\n",
    "import numpy as np\n",
    "import matplotlib.pyplot as plt\n",
    "import tensorflow as tf\n",
    "from tensorflow import keras"
   ]
  },
  {
   "cell_type": "markdown",
   "metadata": {},
   "source": [
    "## 1. Aquisição de dados"
   ]
  },
  {
   "cell_type": "code",
   "execution_count": 2,
   "metadata": {},
   "outputs": [
    {
     "name": "stdout",
     "output_type": "stream",
     "text": [
      "Downloading data from https://storage.googleapis.com/tensorflow/tf-keras-datasets/train-labels-idx1-ubyte.gz\n",
      "32768/29515 [=================================] - 0s 3us/step\n",
      "Downloading data from https://storage.googleapis.com/tensorflow/tf-keras-datasets/train-images-idx3-ubyte.gz\n",
      "26427392/26421880 [==============================] - 5s 0us/step\n",
      "Downloading data from https://storage.googleapis.com/tensorflow/tf-keras-datasets/t10k-labels-idx1-ubyte.gz\n",
      "8192/5148 [===============================================] - 0s 0us/step\n",
      "Downloading data from https://storage.googleapis.com/tensorflow/tf-keras-datasets/t10k-images-idx3-ubyte.gz\n",
      "4423680/4422102 [==============================] - 1s 0us/step\n"
     ]
    }
   ],
   "source": [
    "fashion_mnist = keras.datasets.fashion_mnist\n",
    "(X_train, y_train), (X_test, y_test) = fashion_mnist.load_data()"
   ]
  },
  {
   "cell_type": "code",
   "execution_count": 3,
   "metadata": {},
   "outputs": [
    {
     "data": {
      "text/plain": [
       "(60000, 28, 28)"
      ]
     },
     "execution_count": 3,
     "metadata": {},
     "output_type": "execute_result"
    }
   ],
   "source": [
    "X_train.shape"
   ]
  },
  {
   "cell_type": "code",
   "execution_count": 4,
   "metadata": {},
   "outputs": [
    {
     "data": {
      "text/plain": [
       "(10000, 28, 28)"
      ]
     },
     "execution_count": 4,
     "metadata": {},
     "output_type": "execute_result"
    }
   ],
   "source": [
    "X_test.shape"
   ]
  },
  {
   "cell_type": "code",
   "execution_count": 5,
   "metadata": {},
   "outputs": [
    {
     "data": {
      "image/png": "[encoded data removed]",
      "text/plain": [
       "<Figure size 432x288 with 1 Axes>"
      ]
     },
     "metadata": {
      "needs_background": "light"
     },
     "output_type": "display_data"
    }
   ],
   "source": [
    "#testar diferentes exemplos\n",
    "plt.imshow(X_train[10], cmap=\"binary\")\n",
    "plt.axis('off')\n",
    "plt.show()"
   ]
  },
  {
   "cell_type": "code",
   "execution_count": 6,
   "metadata": {},
   "outputs": [
    {
     "data": {
      "text/plain": [
       "array([9, 0, 0, ..., 3, 0, 5], dtype=uint8)"
      ]
     },
     "execution_count": 6,
     "metadata": {},
     "output_type": "execute_result"
    }
   ],
   "source": [
    "y_train"
   ]
  },
  {
   "cell_type": "code",
   "execution_count": 7,
   "metadata": {},
   "outputs": [],
   "source": [
    "class_names = [\"T-shirt/top\", \"Trouser\", \"Pullover\", \"Dress\", \"Coat\",\n",
    "               \"Sandal\", \"Shirt\", \"Sneaker\", \"Bag\", \"Ankle boot\"]"
   ]
  },
  {
   "cell_type": "code",
   "execution_count": 8,
   "metadata": {},
   "outputs": [
    {
     "data": {
      "image/png": "[encoded data removed]",
      "text/plain": [
       "<Figure size 432x432 with 25 Axes>"
      ]
     },
     "metadata": {
      "needs_background": "light"
     },
     "output_type": "display_data"
    }
   ],
   "source": [
    "n_rows = 5\n",
    "n_cols = 5\n",
    "plt.figure(figsize=(n_cols * 1.2, n_rows * 1.2))\n",
    "for row in range(n_rows):\n",
    "    for col in range(n_cols):\n",
    "        index = n_cols * row + col\n",
    "        plt.subplot(n_rows, n_cols, index + 1)\n",
    "        plt.imshow(X_train[index], cmap=\"binary\")\n",
    "        plt.axis('off')\n",
    "        plt.title(class_names[y_train[index]], fontsize=13)\n",
    "plt.subplots_adjust(wspace=1.0, hspace=0.5)\n",
    "plt.show()"
   ]
  },
  {
   "cell_type": "markdown",
   "metadata": {},
   "source": [
    "## 2. Pré-processamento"
   ]
  },
  {
   "cell_type": "code",
   "execution_count": 9,
   "metadata": {},
   "outputs": [],
   "source": [
    "# Criar um conj de validação de 5k e mudar a escala dos pixels de 0-255 para 0-1 (float)\n",
    "X_valid, X_train = X_train[:5000] / 255., X_train[5000:] / 255.\n",
    "y_valid, y_train = y_train[:5000], y_train[5000:]\n",
    "X_test = X_test / 255."
   ]
  },
  {
   "cell_type": "code",
   "execution_count": 10,
   "metadata": {},
   "outputs": [
    {
     "data": {
      "text/plain": [
       "(55000,)"
      ]
     },
     "execution_count": 10,
     "metadata": {},
     "output_type": "execute_result"
    }
   ],
   "source": [
    "y_train.shape"
   ]
  },
  {
   "cell_type": "code",
   "execution_count": 12,
   "metadata": {},
   "outputs": [
    {
     "data": {
      "text/plain": [
       "(55000, 28, 28)"
      ]
     },
     "execution_count": 12,
     "metadata": {},
     "output_type": "execute_result"
    }
   ],
   "source": [
    "X_train.shape"
   ]
  },
  {
   "cell_type": "markdown",
   "metadata": {},
   "source": [
    "## 3. Construindo a arquitetura"
   ]
  },
  {
   "cell_type": "code",
   "execution_count": 10,
   "metadata": {},
   "outputs": [],
   "source": [
    "model = keras.models.Sequential()\n",
    "model.add(keras.layers.Flatten(input_shape=[28, 28]))\n",
    "model.add(keras.layers.Dense(300, activation=\"relu\"))\n",
    "model.add(keras.layers.Dense(100, activation=\"relu\"))\n",
    "model.add(keras.layers.Dense(10, activation=\"softmax\"))"
   ]
  },
  {
   "cell_type": "code",
   "execution_count": 11,
   "metadata": {},
   "outputs": [
    {
     "data": {
      "text/plain": [
       "<tensorflow.python.keras.engine.sequential.Sequential at 0x7fad87889640>"
      ]
     },
     "execution_count": 11,
     "metadata": {},
     "output_type": "execute_result"
    }
   ],
   "source": [
    "model"
   ]
  },
  {
   "cell_type": "code",
   "execution_count": 12,
   "metadata": {},
   "outputs": [
    {
     "name": "stdout",
     "output_type": "stream",
     "text": [
      "Model: \"sequential\"\n",
      "_________________________________________________________________\n",
      "Layer (type)                 Output Shape              Param #   \n",
      "=================================================================\n",
      "flatten (Flatten)            (None, 784)               0         \n",
      "_________________________________________________________________\n",
      "dense (Dense)                (None, 300)               235500    \n",
      "_________________________________________________________________\n",
      "dense_1 (Dense)              (None, 100)               30100     \n",
      "_________________________________________________________________\n",
      "dense_2 (Dense)              (None, 10)                1010      \n",
      "=================================================================\n",
      "Total params: 266,610\n",
      "Trainable params: 266,610\n",
      "Non-trainable params: 0\n",
      "_________________________________________________________________\n"
     ]
    }
   ],
   "source": [
    "model.summary()"
   ]
  },
  {
   "cell_type": "code",
   "execution_count": 20,
   "metadata": {},
   "outputs": [],
   "source": [
    "hidden1 = model.layers[1]"
   ]
  },
  {
   "cell_type": "code",
   "execution_count": 22,
   "metadata": {},
   "outputs": [],
   "source": [
    "weights, biases = hidden1.get_weights()"
   ]
  },
  {
   "cell_type": "code",
   "execution_count": 23,
   "metadata": {},
   "outputs": [
    {
     "data": {
      "text/plain": [
       "(784, 300)"
      ]
     },
     "execution_count": 23,
     "metadata": {},
     "output_type": "execute_result"
    }
   ],
   "source": [
    "weights.shape"
   ]
  },
  {
   "cell_type": "code",
   "execution_count": 24,
   "metadata": {},
   "outputs": [
    {
     "data": {
      "text/plain": [
       "(300,)"
      ]
     },
     "execution_count": 24,
     "metadata": {},
     "output_type": "execute_result"
    }
   ],
   "source": [
    "biases.shape"
   ]
  },
  {
   "cell_type": "code",
   "execution_count": 26,
   "metadata": {},
   "outputs": [],
   "source": [
    "hidden2 = model.layers[2]"
   ]
  },
  {
   "cell_type": "code",
   "execution_count": 27,
   "metadata": {},
   "outputs": [],
   "source": [
    "weights, biases = hidden2.get_weights()"
   ]
  },
  {
   "cell_type": "code",
   "execution_count": 28,
   "metadata": {},
   "outputs": [
    {
     "data": {
      "text/plain": [
       "(300, 100)"
      ]
     },
     "execution_count": 28,
     "metadata": {},
     "output_type": "execute_result"
    }
   ],
   "source": [
    "weights.shape"
   ]
  },
  {
   "cell_type": "code",
   "execution_count": 29,
   "metadata": {},
   "outputs": [
    {
     "data": {
      "text/plain": [
       "(100,)"
      ]
     },
     "execution_count": 29,
     "metadata": {},
     "output_type": "execute_result"
    }
   ],
   "source": [
    "biases.shape"
   ]
  },
  {
   "cell_type": "code",
   "execution_count": 31,
   "metadata": {},
   "outputs": [],
   "source": [
    "output = model.layers[3]"
   ]
  },
  {
   "cell_type": "code",
   "execution_count": 32,
   "metadata": {},
   "outputs": [],
   "source": [
    "weights, biases = output.get_weights()"
   ]
  },
  {
   "cell_type": "code",
   "execution_count": 33,
   "metadata": {},
   "outputs": [
    {
     "data": {
      "text/plain": [
       "(100, 10)"
      ]
     },
     "execution_count": 33,
     "metadata": {},
     "output_type": "execute_result"
    }
   ],
   "source": [
    "weights.shape"
   ]
  },
  {
   "cell_type": "code",
   "execution_count": 34,
   "metadata": {},
   "outputs": [
    {
     "data": {
      "text/plain": [
       "(10,)"
      ]
     },
     "execution_count": 34,
     "metadata": {},
     "output_type": "execute_result"
    }
   ],
   "source": [
    "biases.shape"
   ]
  },
  {
   "cell_type": "markdown",
   "metadata": {},
   "source": [
    "## 4. Treinando a rede"
   ]
  },
  {
   "cell_type": "code",
   "execution_count": 29,
   "metadata": {},
   "outputs": [],
   "source": [
    "model.compile(loss=\"sparse_categorical_crossentropy\", optimizer=\"sgd\", metrics=[\"accuracy\"])"
   ]
  },
  {
   "cell_type": "markdown",
   "metadata": {},
   "source": [
    "### 4.1. Parâmetros do treino"
   ]
  },
  {
   "cell_type": "markdown",
   "metadata": {},
   "source": [
    "- loss=\"sparse_categorical_crossentropy\""
   ]
  },
  {
   "cell_type": "markdown",
   "metadata": {},
   "source": [
    "Pr(Class A) | **Pr(Class B)** | Pr(Class C)\n",
    "\n",
    "y_true = [1] -> 0.0       |   1.0        |  0.0  "
   ]
  },
  {
   "cell_type": "markdown",
   "metadata": {},
   "source": [
    "Pr(Class A) | Pr(Class B) |  Pr(Class C)     \n",
    "\n",
    "0.228     |     0.619        |   0.153"
   ]
  },
  {
   "cell_type": "markdown",
   "metadata": {},
   "source": [
    "![Entropia Cruzada](https://miro.medium.com/max/480/1*loucyTXzGHuHi6D4PxjDlA.png)"
   ]
  },
  {
   "cell_type": "markdown",
   "metadata": {},
   "source": [
    "Resp: 0.479 -> valor do erro da entropia cruzada"
   ]
  },
  {
   "cell_type": "markdown",
   "metadata": {},
   "source": [
    "- optimizer=\"sgd\" (Stochastic Gradient Descent)"
   ]
  },
  {
   "cell_type": "markdown",
   "metadata": {},
   "source": [
    "![Gradiente Descendente](https://miro.medium.com/max/1398/1*IxMLWG1xsZ50b91M5VJXSA.jpeg) \n",
    "![title](gradient.png) \n",
    "![Taxa de Aprendizado](https://miro.medium.com/max/1050/1*vuMse7jQQXTcWZdQ9gRGCw.png) \n",
    "![Variações do Gradiente](https://miro.medium.com/max/1050/1*TD5xBpl6YP1McZoKBfVyDA.png) "
   ]
  },
  {
   "cell_type": "code",
   "execution_count": 15,
   "metadata": {},
   "outputs": [
    {
     "name": "stdout",
     "output_type": "stream",
     "text": [
      "Epoch 1/30\n",
      "1719/1719 [==============================] - 3s 2ms/step - loss: 0.7163 - accuracy: 0.7645 - val_loss: 0.5049 - val_accuracy: 0.8296\n",
      "Epoch 2/30\n",
      "1719/1719 [==============================] - 3s 2ms/step - loss: 0.4896 - accuracy: 0.8293 - val_loss: 0.4474 - val_accuracy: 0.8496\n",
      "Epoch 3/30\n",
      "1719/1719 [==============================] - 3s 2ms/step - loss: 0.4446 - accuracy: 0.8450 - val_loss: 0.4210 - val_accuracy: 0.8600\n",
      "Epoch 4/30\n",
      "1719/1719 [==============================] - 3s 2ms/step - loss: 0.4167 - accuracy: 0.8548 - val_loss: 0.4076 - val_accuracy: 0.8606\n",
      "Epoch 5/30\n",
      "1719/1719 [==============================] - 3s 2ms/step - loss: 0.3971 - accuracy: 0.8613 - val_loss: 0.3850 - val_accuracy: 0.8726\n",
      "Epoch 6/30\n",
      "1719/1719 [==============================] - 3s 2ms/step - loss: 0.3801 - accuracy: 0.8674 - val_loss: 0.4011 - val_accuracy: 0.8612\n",
      "Epoch 7/30\n",
      "1719/1719 [==============================] - 3s 2ms/step - loss: 0.3666 - accuracy: 0.8712 - val_loss: 0.3659 - val_accuracy: 0.8770\n",
      "Epoch 8/30\n",
      "1719/1719 [==============================] - 3s 2ms/step - loss: 0.3546 - accuracy: 0.8745 - val_loss: 0.3701 - val_accuracy: 0.8726\n",
      "Epoch 9/30\n",
      "1719/1719 [==============================] - 3s 2ms/step - loss: 0.3447 - accuracy: 0.8768 - val_loss: 0.3624 - val_accuracy: 0.8750\n",
      "Epoch 10/30\n",
      "1719/1719 [==============================] - 4s 2ms/step - loss: 0.3336 - accuracy: 0.8811 - val_loss: 0.3482 - val_accuracy: 0.8796\n",
      "Epoch 11/30\n",
      "1719/1719 [==============================] - 4s 2ms/step - loss: 0.3249 - accuracy: 0.8842 - val_loss: 0.3488 - val_accuracy: 0.8778\n",
      "Epoch 12/30\n",
      "1719/1719 [==============================] - 4s 2ms/step - loss: 0.3177 - accuracy: 0.8870 - val_loss: 0.3334 - val_accuracy: 0.8830\n",
      "Epoch 13/30\n",
      "1719/1719 [==============================] - 4s 2ms/step - loss: 0.3104 - accuracy: 0.8888 - val_loss: 0.3340 - val_accuracy: 0.8838\n",
      "Epoch 14/30\n",
      "1719/1719 [==============================] - 4s 2ms/step - loss: 0.3031 - accuracy: 0.8919 - val_loss: 0.3228 - val_accuracy: 0.8862\n",
      "Epoch 15/30\n",
      "1719/1719 [==============================] - 4s 2ms/step - loss: 0.2963 - accuracy: 0.8928 - val_loss: 0.3343 - val_accuracy: 0.8748\n",
      "Epoch 16/30\n",
      "1719/1719 [==============================] - 4s 2ms/step - loss: 0.2910 - accuracy: 0.8953 - val_loss: 0.3251 - val_accuracy: 0.8818\n",
      "Epoch 17/30\n",
      "1719/1719 [==============================] - 4s 2ms/step - loss: 0.2843 - accuracy: 0.8984 - val_loss: 0.3215 - val_accuracy: 0.8862\n",
      "Epoch 18/30\n",
      "1719/1719 [==============================] - 4s 2ms/step - loss: 0.2786 - accuracy: 0.9000 - val_loss: 0.3275 - val_accuracy: 0.8824\n",
      "Epoch 19/30\n",
      "1719/1719 [==============================] - 4s 2ms/step - loss: 0.2729 - accuracy: 0.9015 - val_loss: 0.3188 - val_accuracy: 0.8864\n",
      "Epoch 20/30\n",
      "1719/1719 [==============================] - 4s 2ms/step - loss: 0.2684 - accuracy: 0.9030 - val_loss: 0.3252 - val_accuracy: 0.8844\n",
      "Epoch 21/30\n",
      "1719/1719 [==============================] - 4s 2ms/step - loss: 0.2634 - accuracy: 0.9046 - val_loss: 0.3185 - val_accuracy: 0.8906\n",
      "Epoch 22/30\n",
      "1719/1719 [==============================] - 4s 2ms/step - loss: 0.2587 - accuracy: 0.9077 - val_loss: 0.3251 - val_accuracy: 0.8842\n",
      "Epoch 23/30\n",
      "1719/1719 [==============================] - 3s 2ms/step - loss: 0.2536 - accuracy: 0.9087 - val_loss: 0.3048 - val_accuracy: 0.8922\n",
      "Epoch 24/30\n",
      "1719/1719 [==============================] - 3s 2ms/step - loss: 0.2501 - accuracy: 0.9099 - val_loss: 0.3030 - val_accuracy: 0.8938\n",
      "Epoch 25/30\n",
      "1719/1719 [==============================] - 4s 2ms/step - loss: 0.2457 - accuracy: 0.9115 - val_loss: 0.3021 - val_accuracy: 0.8934\n",
      "Epoch 26/30\n",
      "1719/1719 [==============================] - 3s 2ms/step - loss: 0.2409 - accuracy: 0.9131 - val_loss: 0.2969 - val_accuracy: 0.8938\n",
      "Epoch 27/30\n",
      "1719/1719 [==============================] - 4s 2ms/step - loss: 0.2381 - accuracy: 0.9135 - val_loss: 0.3040 - val_accuracy: 0.8888\n",
      "Epoch 28/30\n",
      "1719/1719 [==============================] - 3s 2ms/step - loss: 0.2333 - accuracy: 0.9155 - val_loss: 0.2945 - val_accuracy: 0.8898\n",
      "Epoch 29/30\n",
      "1719/1719 [==============================] - 3s 2ms/step - loss: 0.2295 - accuracy: 0.9172 - val_loss: 0.3149 - val_accuracy: 0.8876\n",
      "Epoch 30/30\n",
      "1719/1719 [==============================] - 3s 2ms/step - loss: 0.2263 - accuracy: 0.9183 - val_loss: 0.2997 - val_accuracy: 0.8940\n"
     ]
    }
   ],
   "source": [
    "history = model.fit(X_train, y_train, epochs=30, validation_data=(X_valid, y_valid))"
   ]
  },
  {
   "cell_type": "code",
   "execution_count": 39,
   "metadata": {},
   "outputs": [
    {
     "data": {
      "image/png": "[encoded data removed]",
      "text/plain": [
       "<Figure size 576x360 with 1 Axes>"
      ]
     },
     "metadata": {
      "needs_background": "light"
     },
     "output_type": "display_data"
    }
   ],
   "source": [
    "pd.DataFrame(history.history).plot(figsize=(8, 5))\n",
    "plt.xlabel(\"Número de Épocas de treinamento\")\n",
    "plt.ylabel(\"Desempenho do treinamento\")\n",
    "plt.grid(True)\n",
    "plt.gca().set_ylim(0, 1)\n",
    "plt.show()"
   ]
  },
  {
   "cell_type": "code",
   "execution_count": 14,
   "metadata": {},
   "outputs": [
    {
     "name": "stdout",
     "output_type": "stream",
     "text": [
      "Epoch 1/15\n",
      "1719/1719 [==============================] - 3s 2ms/step - loss: 0.7123 - accuracy: 0.7685 - val_loss: 0.4876 - val_accuracy: 0.8416\n",
      "Epoch 2/15\n",
      "1719/1719 [==============================] - 3s 2ms/step - loss: 0.4854 - accuracy: 0.8320 - val_loss: 0.4428 - val_accuracy: 0.8540\n",
      "Epoch 3/15\n",
      "1719/1719 [==============================] - 3s 2ms/step - loss: 0.4440 - accuracy: 0.8451 - val_loss: 0.4304 - val_accuracy: 0.8542\n",
      "Epoch 4/15\n",
      "1719/1719 [==============================] - 3s 2ms/step - loss: 0.4161 - accuracy: 0.8544 - val_loss: 0.3892 - val_accuracy: 0.8672\n",
      "Epoch 5/15\n",
      "1719/1719 [==============================] - 3s 2ms/step - loss: 0.3974 - accuracy: 0.8610 - val_loss: 0.4002 - val_accuracy: 0.8642\n",
      "Epoch 6/15\n",
      "1719/1719 [==============================] - 3s 2ms/step - loss: 0.3816 - accuracy: 0.8652 - val_loss: 0.3765 - val_accuracy: 0.8676\n",
      "Epoch 7/15\n",
      "1719/1719 [==============================] - 3s 2ms/step - loss: 0.3680 - accuracy: 0.8704 - val_loss: 0.3688 - val_accuracy: 0.8730\n",
      "Epoch 8/15\n",
      "1719/1719 [==============================] - 3s 2ms/step - loss: 0.3565 - accuracy: 0.8747 - val_loss: 0.3683 - val_accuracy: 0.8720\n",
      "Epoch 9/15\n",
      "1719/1719 [==============================] - 4s 2ms/step - loss: 0.3450 - accuracy: 0.8771 - val_loss: 0.3868 - val_accuracy: 0.8608\n",
      "Epoch 10/15\n",
      "1719/1719 [==============================] - 3s 2ms/step - loss: 0.3366 - accuracy: 0.8804 - val_loss: 0.3638 - val_accuracy: 0.8718\n",
      "Epoch 11/15\n",
      "1719/1719 [==============================] - 3s 2ms/step - loss: 0.3270 - accuracy: 0.8828 - val_loss: 0.3465 - val_accuracy: 0.8746\n",
      "Epoch 12/15\n",
      "1719/1719 [==============================] - 3s 2ms/step - loss: 0.3189 - accuracy: 0.8853 - val_loss: 0.3293 - val_accuracy: 0.8822\n",
      "Epoch 13/15\n",
      "1719/1719 [==============================] - 3s 2ms/step - loss: 0.3122 - accuracy: 0.8881 - val_loss: 0.3298 - val_accuracy: 0.8834\n",
      "Epoch 14/15\n",
      "1719/1719 [==============================] - 3s 2ms/step - loss: 0.3055 - accuracy: 0.8912 - val_loss: 0.3290 - val_accuracy: 0.8822\n",
      "Epoch 15/15\n",
      "1719/1719 [==============================] - 3s 2ms/step - loss: 0.2993 - accuracy: 0.8919 - val_loss: 0.3268 - val_accuracy: 0.8808\n"
     ]
    }
   ],
   "source": [
    "history = model.fit(X_train, y_train, epochs=15, validation_data=(X_valid, y_valid))"
   ]
  },
  {
   "cell_type": "code",
   "execution_count": 14,
   "metadata": {},
   "outputs": [
    {
     "name": "stdout",
     "output_type": "stream",
     "text": [
      "Epoch 1/60\n",
      "1719/1719 [==============================] - 3s 2ms/step - loss: 0.7139 - accuracy: 0.7641 - val_loss: 0.4986 - val_accuracy: 0.8332\n",
      "Epoch 2/60\n",
      "1719/1719 [==============================] - 3s 2ms/step - loss: 0.4879 - accuracy: 0.8299 - val_loss: 0.4616 - val_accuracy: 0.8414\n",
      "Epoch 3/60\n",
      "1719/1719 [==============================] - 3s 2ms/step - loss: 0.4423 - accuracy: 0.8448 - val_loss: 0.4328 - val_accuracy: 0.8526\n",
      "Epoch 4/60\n",
      "1719/1719 [==============================] - 2s 1ms/step - loss: 0.4146 - accuracy: 0.8541 - val_loss: 0.3925 - val_accuracy: 0.8616\n",
      "Epoch 5/60\n",
      "1719/1719 [==============================] - 2s 1ms/step - loss: 0.3955 - accuracy: 0.8617 - val_loss: 0.3751 - val_accuracy: 0.8702\n",
      "Epoch 6/60\n",
      "1719/1719 [==============================] - 2s 1ms/step - loss: 0.3787 - accuracy: 0.8666 - val_loss: 0.4341 - val_accuracy: 0.8406\n",
      "Epoch 7/60\n",
      "1719/1719 [==============================] - 2s 1ms/step - loss: 0.3648 - accuracy: 0.8710 - val_loss: 0.3718 - val_accuracy: 0.8694\n",
      "Epoch 8/60\n",
      "1719/1719 [==============================] - 2s 1ms/step - loss: 0.3535 - accuracy: 0.8738 - val_loss: 0.3510 - val_accuracy: 0.8748\n",
      "Epoch 9/60\n",
      "1719/1719 [==============================] - 2s 1ms/step - loss: 0.3422 - accuracy: 0.8788 - val_loss: 0.3436 - val_accuracy: 0.8782\n",
      "Epoch 10/60\n",
      "1719/1719 [==============================] - 2s 1ms/step - loss: 0.3323 - accuracy: 0.8810 - val_loss: 0.3569 - val_accuracy: 0.8724\n",
      "Epoch 11/60\n",
      "1719/1719 [==============================] - 2s 1ms/step - loss: 0.3246 - accuracy: 0.8830 - val_loss: 0.3335 - val_accuracy: 0.8800\n",
      "Epoch 12/60\n",
      "1719/1719 [==============================] - 2s 1ms/step - loss: 0.3163 - accuracy: 0.8864 - val_loss: 0.3330 - val_accuracy: 0.8796\n",
      "Epoch 13/60\n",
      "1719/1719 [==============================] - 2s 1ms/step - loss: 0.3087 - accuracy: 0.8892 - val_loss: 0.3248 - val_accuracy: 0.8842\n",
      "Epoch 14/60\n",
      "1719/1719 [==============================] - 2s 1ms/step - loss: 0.3027 - accuracy: 0.8902 - val_loss: 0.3340 - val_accuracy: 0.8804\n",
      "Epoch 15/60\n",
      "1719/1719 [==============================] - 2s 1ms/step - loss: 0.2958 - accuracy: 0.8939 - val_loss: 0.3176 - val_accuracy: 0.8858\n",
      "Epoch 16/60\n",
      "1719/1719 [==============================] - 2s 1ms/step - loss: 0.2893 - accuracy: 0.8965 - val_loss: 0.3166 - val_accuracy: 0.8844\n",
      "Epoch 17/60\n",
      "1719/1719 [==============================] - 2s 1ms/step - loss: 0.2833 - accuracy: 0.8973 - val_loss: 0.3145 - val_accuracy: 0.8860\n",
      "Epoch 18/60\n",
      "1719/1719 [==============================] - 2s 1ms/step - loss: 0.2781 - accuracy: 0.8995 - val_loss: 0.3071 - val_accuracy: 0.8854\n",
      "Epoch 19/60\n",
      "1719/1719 [==============================] - 2s 1ms/step - loss: 0.2730 - accuracy: 0.9013 - val_loss: 0.3087 - val_accuracy: 0.8852\n",
      "Epoch 20/60\n",
      "1719/1719 [==============================] - 2s 1ms/step - loss: 0.2677 - accuracy: 0.9036 - val_loss: 0.3106 - val_accuracy: 0.8858\n",
      "Epoch 21/60\n",
      "1719/1719 [==============================] - 2s 1ms/step - loss: 0.2629 - accuracy: 0.9042 - val_loss: 0.3234 - val_accuracy: 0.8796\n",
      "Epoch 22/60\n",
      "1719/1719 [==============================] - 2s 1ms/step - loss: 0.2591 - accuracy: 0.9055 - val_loss: 0.3036 - val_accuracy: 0.8870\n",
      "Epoch 23/60\n",
      "1719/1719 [==============================] - 2s 1ms/step - loss: 0.2542 - accuracy: 0.9083 - val_loss: 0.3025 - val_accuracy: 0.8862\n",
      "Epoch 24/60\n",
      "1719/1719 [==============================] - 2s 1ms/step - loss: 0.2492 - accuracy: 0.9095 - val_loss: 0.2975 - val_accuracy: 0.8882\n",
      "Epoch 25/60\n",
      "1719/1719 [==============================] - 2s 1ms/step - loss: 0.2448 - accuracy: 0.9114 - val_loss: 0.3051 - val_accuracy: 0.8884\n",
      "Epoch 26/60\n",
      "1719/1719 [==============================] - 2s 1ms/step - loss: 0.2412 - accuracy: 0.9123 - val_loss: 0.3067 - val_accuracy: 0.8894\n",
      "Epoch 27/60\n",
      "1719/1719 [==============================] - 2s 1ms/step - loss: 0.2377 - accuracy: 0.9139 - val_loss: 0.3017 - val_accuracy: 0.8910\n",
      "Epoch 28/60\n",
      "1719/1719 [==============================] - 2s 1ms/step - loss: 0.2327 - accuracy: 0.9159 - val_loss: 0.3093 - val_accuracy: 0.8874\n",
      "Epoch 29/60\n",
      "1719/1719 [==============================] - 2s 1ms/step - loss: 0.2293 - accuracy: 0.9165 - val_loss: 0.3006 - val_accuracy: 0.8926\n",
      "Epoch 30/60\n",
      "1719/1719 [==============================] - 2s 1ms/step - loss: 0.2262 - accuracy: 0.9182 - val_loss: 0.3164 - val_accuracy: 0.8824\n",
      "Epoch 31/60\n",
      "1719/1719 [==============================] - 2s 1ms/step - loss: 0.2220 - accuracy: 0.9202 - val_loss: 0.2940 - val_accuracy: 0.8926\n",
      "Epoch 32/60\n",
      "1719/1719 [==============================] - 2s 1ms/step - loss: 0.2179 - accuracy: 0.9204 - val_loss: 0.2956 - val_accuracy: 0.8924\n",
      "Epoch 33/60\n",
      "1719/1719 [==============================] - 2s 1ms/step - loss: 0.2143 - accuracy: 0.9228 - val_loss: 0.2921 - val_accuracy: 0.8914\n",
      "Epoch 34/60\n",
      "1719/1719 [==============================] - 2s 1ms/step - loss: 0.2123 - accuracy: 0.9229 - val_loss: 0.3430 - val_accuracy: 0.8834\n",
      "Epoch 35/60\n",
      "1719/1719 [==============================] - 2s 1ms/step - loss: 0.2077 - accuracy: 0.9263 - val_loss: 0.2941 - val_accuracy: 0.8926\n",
      "Epoch 36/60\n",
      "1719/1719 [==============================] - 2s 1ms/step - loss: 0.2037 - accuracy: 0.9273 - val_loss: 0.2970 - val_accuracy: 0.8898\n",
      "Epoch 37/60\n",
      "1719/1719 [==============================] - 2s 1ms/step - loss: 0.2005 - accuracy: 0.9278 - val_loss: 0.3236 - val_accuracy: 0.8862\n",
      "Epoch 38/60\n",
      "1719/1719 [==============================] - 2s 1ms/step - loss: 0.1979 - accuracy: 0.9290 - val_loss: 0.3294 - val_accuracy: 0.8816\n",
      "Epoch 39/60\n",
      "1719/1719 [==============================] - 2s 1ms/step - loss: 0.1943 - accuracy: 0.9307 - val_loss: 0.3003 - val_accuracy: 0.8956\n",
      "Epoch 40/60\n",
      "1719/1719 [==============================] - 2s 1ms/step - loss: 0.1912 - accuracy: 0.9323 - val_loss: 0.3342 - val_accuracy: 0.8834\n",
      "Epoch 41/60\n",
      "1719/1719 [==============================] - 2s 1ms/step - loss: 0.1883 - accuracy: 0.9322 - val_loss: 0.2973 - val_accuracy: 0.8924\n",
      "Epoch 42/60\n",
      "1719/1719 [==============================] - 2s 1ms/step - loss: 0.1861 - accuracy: 0.9333 - val_loss: 0.2981 - val_accuracy: 0.8922\n",
      "Epoch 43/60\n",
      "1719/1719 [==============================] - 2s 1ms/step - loss: 0.1822 - accuracy: 0.9344 - val_loss: 0.3422 - val_accuracy: 0.8762\n",
      "Epoch 44/60\n",
      "1719/1719 [==============================] - 2s 1ms/step - loss: 0.1791 - accuracy: 0.9368 - val_loss: 0.3182 - val_accuracy: 0.8888\n",
      "Epoch 45/60\n",
      "1719/1719 [==============================] - 2s 1ms/step - loss: 0.1781 - accuracy: 0.9369 - val_loss: 0.3010 - val_accuracy: 0.8980\n",
      "Epoch 46/60\n",
      "1719/1719 [==============================] - 2s 1ms/step - loss: 0.1731 - accuracy: 0.9374 - val_loss: 0.3219 - val_accuracy: 0.8880\n",
      "Epoch 47/60\n",
      "1719/1719 [==============================] - 2s 1ms/step - loss: 0.1727 - accuracy: 0.9382 - val_loss: 0.3223 - val_accuracy: 0.8854\n",
      "Epoch 48/60\n",
      "1719/1719 [==============================] - 2s 1ms/step - loss: 0.1676 - accuracy: 0.9403 - val_loss: 0.2940 - val_accuracy: 0.8988\n",
      "Epoch 49/60\n",
      "1719/1719 [==============================] - 2s 1ms/step - loss: 0.1662 - accuracy: 0.9407 - val_loss: 0.3255 - val_accuracy: 0.8860\n",
      "Epoch 50/60\n",
      "1719/1719 [==============================] - 2s 1ms/step - loss: 0.1625 - accuracy: 0.9423 - val_loss: 0.3055 - val_accuracy: 0.8926\n",
      "Epoch 51/60\n",
      "1719/1719 [==============================] - 2s 1ms/step - loss: 0.1603 - accuracy: 0.9423 - val_loss: 0.3153 - val_accuracy: 0.8896\n",
      "Epoch 52/60\n",
      "1719/1719 [==============================] - 2s 1ms/step - loss: 0.1566 - accuracy: 0.9442 - val_loss: 0.3030 - val_accuracy: 0.8936\n",
      "Epoch 53/60\n",
      "1719/1719 [==============================] - 2s 1ms/step - loss: 0.1552 - accuracy: 0.9445 - val_loss: 0.3132 - val_accuracy: 0.8874\n",
      "Epoch 54/60\n",
      "1719/1719 [==============================] - 2s 1ms/step - loss: 0.1531 - accuracy: 0.9459 - val_loss: 0.3067 - val_accuracy: 0.8950\n",
      "Epoch 55/60\n",
      "1719/1719 [==============================] - 2s 1ms/step - loss: 0.1504 - accuracy: 0.9466 - val_loss: 0.3018 - val_accuracy: 0.8972\n",
      "Epoch 56/60\n",
      "1719/1719 [==============================] - 2s 1ms/step - loss: 0.1474 - accuracy: 0.9481 - val_loss: 0.3039 - val_accuracy: 0.8940\n",
      "Epoch 57/60\n",
      "1719/1719 [==============================] - 2s 1ms/step - loss: 0.1452 - accuracy: 0.9487 - val_loss: 0.3110 - val_accuracy: 0.8902\n",
      "Epoch 58/60\n",
      "1719/1719 [==============================] - 2s 1ms/step - loss: 0.1435 - accuracy: 0.9487 - val_loss: 0.3051 - val_accuracy: 0.8974\n",
      "Epoch 59/60\n",
      "1719/1719 [==============================] - 2s 1ms/step - loss: 0.1407 - accuracy: 0.9506 - val_loss: 0.3137 - val_accuracy: 0.8950\n",
      "Epoch 60/60\n",
      "1719/1719 [==============================] - 2s 1ms/step - loss: 0.1378 - accuracy: 0.9514 - val_loss: 0.3057 - val_accuracy: 0.8930\n"
     ]
    }
   ],
   "source": [
    "history = model.fit(X_train, y_train, epochs=60, validation_data=(X_valid, y_valid))"
   ]
  },
  {
   "cell_type": "code",
   "execution_count": 23,
   "metadata": {},
   "outputs": [
    {
     "data": {
      "image/png": "[encoded data removed]",
      "text/plain": [
       "<Figure size 576x360 with 1 Axes>"
      ]
     },
     "metadata": {
      "needs_background": "light"
     },
     "output_type": "display_data"
    }
   ],
   "source": [
    "pd.DataFrame(history.history).plot(figsize=(8, 5))\n",
    "plt.xlabel(\"Número de Épocas de treinamento\")\n",
    "plt.ylabel(\"Desempenho do treinamento\")\n",
    "plt.grid(True)\n",
    "plt.gca().set_ylim(0, 1)\n",
    "plt.show()"
   ]
  },
  {
   "cell_type": "markdown",
   "metadata": {},
   "source": [
    "## 5. Testando o modelo"
   ]
  },
  {
   "cell_type": "code",
   "execution_count": 21,
   "metadata": {},
   "outputs": [
    {
     "name": "stdout",
     "output_type": "stream",
     "text": [
      "313/313 [==============================] - 1s 2ms/step - loss: 0.3349 - accuracy: 0.8819\n"
     ]
    },
    {
     "data": {
      "text/plain": [
       "[0.3349422812461853, 0.8819000124931335]"
      ]
     },
     "execution_count": 21,
     "metadata": {},
     "output_type": "execute_result"
    }
   ],
   "source": [
    "model.evaluate(X_test, y_test)"
   ]
  },
  {
   "cell_type": "code",
   "execution_count": 22,
   "metadata": {},
   "outputs": [
    {
     "data": {
      "text/plain": [
       "array([[0.  , 0.  , 0.  , 0.  , 0.  , 0.  , 0.  , 0.  , 0.  , 0.99],\n",
       "       [0.  , 0.  , 1.  , 0.  , 0.  , 0.  , 0.  , 0.  , 0.  , 0.  ],\n",
       "       [0.  , 1.  , 0.  , 0.  , 0.  , 0.  , 0.  , 0.  , 0.  , 0.  ],\n",
       "       [0.  , 1.  , 0.  , 0.  , 0.  , 0.  , 0.  , 0.  , 0.  , 0.  ],\n",
       "       [0.34, 0.  , 0.03, 0.  , 0.01, 0.  , 0.61, 0.  , 0.  , 0.  ],\n",
       "       [0.  , 1.  , 0.  , 0.  , 0.  , 0.  , 0.  , 0.  , 0.  , 0.  ],\n",
       "       [0.  , 0.  , 0.01, 0.  , 0.98, 0.  , 0.01, 0.  , 0.  , 0.  ],\n",
       "       [0.  , 0.  , 0.  , 0.  , 0.06, 0.  , 0.93, 0.  , 0.  , 0.  ],\n",
       "       [0.  , 0.  , 0.  , 0.  , 0.  , 1.  , 0.  , 0.  , 0.  , 0.  ],\n",
       "       [0.  , 0.  , 0.  , 0.  , 0.  , 0.  , 0.  , 1.  , 0.  , 0.  ]],\n",
       "      dtype=float32)"
      ]
     },
     "execution_count": 22,
     "metadata": {},
     "output_type": "execute_result"
    }
   ],
   "source": [
    "X_new = X_test[:10]\n",
    "y_proba = model.predict(X_new)\n",
    "y_proba.round(2)"
   ]
  },
  {
   "cell_type": "code",
   "execution_count": 18,
   "metadata": {},
   "outputs": [
    {
     "data": {
      "text/plain": [
       "array([9, 2, 1, 1, 6, 1, 4, 6, 5, 7])"
      ]
     },
     "execution_count": 18,
     "metadata": {},
     "output_type": "execute_result"
    }
   ],
   "source": [
    "# Pega a posição do maior valor na linha\n",
    "y_pred = np.argmax(model.predict(X_new), axis=-1)\n",
    "y_pred"
   ]
  },
  {
   "cell_type": "code",
   "execution_count": 19,
   "metadata": {},
   "outputs": [],
   "source": [
    "y_pred = np.argmax(model.predict(X_test), axis=-1)"
   ]
  },
  {
   "cell_type": "code",
   "execution_count": 20,
   "metadata": {},
   "outputs": [
    {
     "name": "stdout",
     "output_type": "stream",
     "text": [
      "Acurácia:  0.8819\n",
      "Kappa:  0.8687777777777779\n",
      "Matriz de confusão: \n",
      " [[880   0  23  21   6   1  58   0  11   0]\n",
      " [  3 967   1  24   3   0   2   0   0   0]\n",
      " [ 20   0 843  13  88   1  31   0   4   0]\n",
      " [ 21   8  20 891  42   0  14   0   4   0]\n",
      " [  0   1 108  22 846   0  18   0   5   0]\n",
      " [  0   0   0   0   0 948   0  30   2  20]\n",
      " [167   1 116  33 108   0 561   0  14   0]\n",
      " [  0   0   0   0   0  12   0 949   0  39]\n",
      " [  3   0  10   4   3   1   3   5 971   0]\n",
      " [  1   0   0   0   0   6   0  30   0 963]]\n"
     ]
    }
   ],
   "source": [
    "from sklearn.metrics import accuracy_score, confusion_matrix, cohen_kappa_score\n",
    "print('Acurácia: ', accuracy_score(y_test,y_pred))\n",
    "print('Kappa: ', cohen_kappa_score(y_test,y_pred))\n",
    "print('Matriz de confusão: \\n', confusion_matrix(y_test,y_pred))"
   ]
  },
  {
   "cell_type": "code",
   "execution_count": 64,
   "metadata": {},
   "outputs": [],
   "source": [
    "class_names = [\"T-shirt/top\", \"Trouser\", \"Pullover\", \"Dress\", \"Coat\",\n",
    "               \"Sandal\", \"Shirt\", \"Sneaker\", \"Bag\", \"Ankle boot\"]"
   ]
  },
  {
   "cell_type": "markdown",
   "metadata": {},
   "source": [
    "## 6. Salvando o modelo"
   ]
  },
  {
   "cell_type": "code",
   "execution_count": 23,
   "metadata": {},
   "outputs": [],
   "source": [
    "model.save(\"modelo_mlp.h5\")"
   ]
  },
  {
   "cell_type": "code",
   "execution_count": 24,
   "metadata": {},
   "outputs": [],
   "source": [
    "model = keras.models.load_model(\"modelo_mlp.h5\")"
   ]
  },
  {
   "cell_type": "code",
   "execution_count": 25,
   "metadata": {},
   "outputs": [
    {
     "data": {
      "text/plain": [
       "array([9, 2, 1, ..., 8, 1, 5])"
      ]
     },
     "execution_count": 25,
     "metadata": {},
     "output_type": "execute_result"
    }
   ],
   "source": [
    "np.argmax(model.predict(X_test), axis=-1)"
   ]
  },
  {
   "cell_type": "code",
   "execution_count": 30,
   "metadata": {},
   "outputs": [],
   "source": [
    "checkpoint = keras.callbacks.ModelCheckpoint(\"melhor_modelo_mlp.h5\", save_best_only=True)"
   ]
  },
  {
   "cell_type": "code",
   "execution_count": 31,
   "metadata": {},
   "outputs": [
    {
     "name": "stdout",
     "output_type": "stream",
     "text": [
      "Epoch 1/15\n",
      "1719/1719 [==============================] - 4s 2ms/step - loss: 0.1754 - accuracy: 0.9390 - val_loss: 0.3268 - val_accuracy: 0.8800\n",
      "Epoch 2/15\n",
      "1719/1719 [==============================] - 4s 2ms/step - loss: 0.1719 - accuracy: 0.9399 - val_loss: 0.3005 - val_accuracy: 0.8926\n",
      "Epoch 3/15\n",
      "1719/1719 [==============================] - 4s 2ms/step - loss: 0.1700 - accuracy: 0.9399 - val_loss: 0.3040 - val_accuracy: 0.8942\n",
      "Epoch 4/15\n",
      "1719/1719 [==============================] - 4s 2ms/step - loss: 0.1671 - accuracy: 0.9406 - val_loss: 0.3055 - val_accuracy: 0.8910\n",
      "Epoch 5/15\n",
      "1719/1719 [==============================] - 4s 2ms/step - loss: 0.1653 - accuracy: 0.9413 - val_loss: 0.3054 - val_accuracy: 0.8898\n",
      "Epoch 6/15\n",
      "1719/1719 [==============================] - 4s 2ms/step - loss: 0.1620 - accuracy: 0.9426 - val_loss: 0.3120 - val_accuracy: 0.8944\n",
      "Epoch 7/15\n",
      "1719/1719 [==============================] - 4s 2ms/step - loss: 0.1589 - accuracy: 0.9446 - val_loss: 0.2890 - val_accuracy: 0.8990\n",
      "Epoch 8/15\n",
      "1719/1719 [==============================] - 4s 3ms/step - loss: 0.1561 - accuracy: 0.9454 - val_loss: 0.3087 - val_accuracy: 0.8914\n",
      "Epoch 9/15\n",
      "1719/1719 [==============================] - 4s 3ms/step - loss: 0.1545 - accuracy: 0.9457 - val_loss: 0.3055 - val_accuracy: 0.8972\n",
      "Epoch 10/15\n",
      "1719/1719 [==============================] - 4s 2ms/step - loss: 0.1521 - accuracy: 0.9462 - val_loss: 0.2962 - val_accuracy: 0.9018\n",
      "Epoch 11/15\n",
      "1719/1719 [==============================] - 4s 2ms/step - loss: 0.1504 - accuracy: 0.9471 - val_loss: 0.3090 - val_accuracy: 0.8960\n",
      "Epoch 12/15\n",
      "1719/1719 [==============================] - 4s 2ms/step - loss: 0.1479 - accuracy: 0.9471 - val_loss: 0.2933 - val_accuracy: 0.9006\n",
      "Epoch 13/15\n",
      "1719/1719 [==============================] - 5s 3ms/step - loss: 0.1447 - accuracy: 0.9492 - val_loss: 0.2959 - val_accuracy: 0.8960\n",
      "Epoch 14/15\n",
      "1719/1719 [==============================] - 5s 3ms/step - loss: 0.1420 - accuracy: 0.9510 - val_loss: 0.3324 - val_accuracy: 0.8884\n",
      "Epoch 15/15\n",
      "1719/1719 [==============================] - 4s 2ms/step - loss: 0.1418 - accuracy: 0.9503 - val_loss: 0.3064 - val_accuracy: 0.8964\n"
     ]
    }
   ],
   "source": [
    "history = model.fit(X_train, y_train, epochs=15, validation_data=(X_valid, y_valid), callbacks=[checkpoint])"
   ]
  },
  {
   "cell_type": "markdown",
   "metadata": {},
   "source": [
    "$Atividade (2.5):$ Treine uma MLP profunda no conjunto de dados MNIST e veja se você consegue obter mais de 98% de precisão. Dica: faça a aquisição dos dados usando o Keras (keras.datasets.mnist.load_data())."
   ]
  }
 ],
 "metadata": {
  "kernelspec": {
   "display_name": "Python 3",
   "language": "python",
   "name": "python3"
  },
  "language_info": {
   "codemirror_mode": {
    "name": "ipython",
    "version": 3
   },
   "file_extension": ".py",
   "mimetype": "text/x-python",
   "name": "python",
   "nbconvert_exporter": "python",
   "pygments_lexer": "ipython3",
   "version": "3.7.6"
  }
 },
 "nbformat": 4,
 "nbformat_minor": 4
}
